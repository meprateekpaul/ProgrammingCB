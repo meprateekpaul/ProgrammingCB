{
 "cells": [
  {
   "cell_type": "markdown",
   "metadata": {},
   "source": [
    "## This notebook is created by Prateek Paul.\n",
    "* Email: prateekp@iiitd.ac.in\n",
    "* LinkedIn: [linkedin.com/in/prateekpaulpro/](https://linkedin.com/in/prateekpaulpro/)\n",
    "\n",
    "Disclaimer: \n",
    "The code and content in this notebook are compiled from various open sources, personal experience, and reference materials. It is intended solely for educational purposes. All credits for original ideas and code snippets go to their respective authors. If you find any inaccuracies or have suggestions, feel free to reach out."
   ]
  },
  {
   "cell_type": "markdown",
   "metadata": {},
   "source": [
    "# Bio Computing Course"
   ]
  },
  {
   "cell_type": "markdown",
   "metadata": {},
   "source": [
    "# Instructions\n",
    "### Welcome to the Python and Biological Concepts practice notebook! This set of exercises will help you apply your understanding of basic Python programming while exploring biological concepts. Please read each question carefully and use the provided code cells to write your solutions.\n",
    "\n",
    "# General Guidelines:\n",
    "### Read Each Question Carefully: Make sure you understand what is being asked before you start coding. Pay close attention to the input and output requirements.\n",
    "\n",
    "### Write Clear and Efficient Code: Aim to write code that is both correct and efficient. Use basic Python concepts such as loops, conditionals, lists, dictionaries, and strings as needed."
   ]
  },
  {
   "cell_type": "code",
   "execution_count": null,
   "metadata": {},
   "outputs": [],
   "source": [
    "dna_sequence = \"ATGCGTACGTT\""
   ]
  },
  {
   "cell_type": "markdown",
   "metadata": {},
   "source": [
    "### 1. String Manipulation - DNA Sequence\n",
    "#### Question: Given a DNA sequence \"ATGCGTACGTT\", write a Python function to count the number of times the nucleotide 'G' appears."
   ]
  },
  {
   "cell_type": "code",
   "execution_count": null,
   "metadata": {},
   "outputs": [],
   "source": []
  },
  {
   "cell_type": "markdown",
   "metadata": {},
   "source": [
    "### 2. List - DNA Codons\n",
    "#### Question: Create a list of all codons (3-letter combinations) in the DNA sequence \"ATGCGTACGTT\"."
   ]
  },
  {
   "cell_type": "code",
   "execution_count": null,
   "metadata": {},
   "outputs": [],
   "source": []
  },
  {
   "cell_type": "markdown",
   "metadata": {},
   "source": [
    "### 3. Dictionary - Codon to Amino Acid Mapping\n",
    "#### Question: Create a dictionary that maps codons to their corresponding amino acids for the following: 'ATG': 'Methionine', 'CGT': 'Arginine', 'TAC': 'Tyrosine', 'GTT': 'Valine'."
   ]
  },
  {
   "cell_type": "code",
   "execution_count": null,
   "metadata": {},
   "outputs": [],
   "source": []
  },
  {
   "cell_type": "markdown",
   "metadata": {},
   "source": [
    "### 4. Conditional Statements - DNA Base Identification\n",
    "#### Question: Write a function that identifies if a base is a purine (A, G) or pyrimidine (C, T)."
   ]
  },
  {
   "cell_type": "code",
   "execution_count": null,
   "metadata": {},
   "outputs": [],
   "source": []
  },
  {
   "cell_type": "markdown",
   "metadata": {},
   "source": [
    "### 5. Loops - Counting Bases\n",
    "#### Question: Write a function to count the number of each base in the DNA sequence \"ATGCGTACGTT\"."
   ]
  },
  {
   "cell_type": "code",
   "execution_count": null,
   "metadata": {},
   "outputs": [],
   "source": []
  },
  {
   "cell_type": "markdown",
   "metadata": {},
   "source": [
    "### 6. String Slicing - mRNA from DNA\n",
    "\n",
    "#### Question: Convert the DNA sequence \"ATGCGTACGTT\" to its mRNA sequence.\n",
    "\n"
   ]
  },
  {
   "cell_type": "code",
   "execution_count": null,
   "metadata": {},
   "outputs": [],
   "source": []
  },
  {
   "cell_type": "markdown",
   "metadata": {},
   "source": [
    "### 7. List - Reverse Complement of DNA\n",
    "#### Question: Write a function that returns the reverse complement of a DNA sequence \"ATGCGTACGTT\"."
   ]
  },
  {
   "cell_type": "code",
   "execution_count": null,
   "metadata": {},
   "outputs": [],
   "source": []
  },
  {
   "cell_type": "markdown",
   "metadata": {},
   "source": [
    "### 8. Dictionary - Transcription Mapping\n",
    "\n",
    "#### Question: Create a dictionary to map each DNA base to its RNA complement (A->U, T->A, C->G, G->C) and use it to transcribe \"ATGCGTACGTT\".\n",
    "\n"
   ]
  },
  {
   "cell_type": "markdown",
   "metadata": {},
   "source": []
  },
  {
   "cell_type": "code",
   "execution_count": null,
   "metadata": {},
   "outputs": [],
   "source": []
  },
  {
   "cell_type": "markdown",
   "metadata": {},
   "source": [
    "### 9. Conditional Statements - DNA Sequence Validity\n",
    "\n",
    "#### Question: Write a function to check if a given sequence is a valid DNA sequence (only contains A, T, C, G).\n",
    "\n"
   ]
  },
  {
   "cell_type": "code",
   "execution_count": null,
   "metadata": {},
   "outputs": [],
   "source": []
  },
  {
   "cell_type": "markdown",
   "metadata": {},
   "source": [
    "### 10. Loops - Translation of Codons\n",
    "\n",
    "#### Question: Write a function to translate the DNA sequence \"ATGCGTACGTT\" into a protein sequence using the codon dictionary provided."
   ]
  },
  {
   "cell_type": "code",
   "execution_count": null,
   "metadata": {},
   "outputs": [],
   "source": []
  },
  {
   "cell_type": "markdown",
   "metadata": {},
   "source": [
    "### 11. String - Counting GC Content\n",
    "\n",
    "#### Question: Write a function to calculate the GC content of a DNA sequence \"ATGCGTACGTT\"."
   ]
  },
  {
   "cell_type": "code",
   "execution_count": null,
   "metadata": {},
   "outputs": [],
   "source": []
  },
  {
   "cell_type": "markdown",
   "metadata": {},
   "source": [
    "### 12. List - Extract Exons\n",
    "\n",
    "#### Question: Given a list of exon positions [(0, 3), (4, 7)], extract the exons from the DNA sequence \"ATGCGTACGTT\"."
   ]
  },
  {
   "cell_type": "code",
   "execution_count": null,
   "metadata": {},
   "outputs": [],
   "source": []
  },
  {
   "cell_type": "markdown",
   "metadata": {},
   "source": [
    "### 13. Dictionary - Frequency of Codons\n",
    "\n",
    "#### Question: Write a function to count the frequency of each codon in the DNA sequence \"ATGCGTACGTT\"."
   ]
  },
  {
   "cell_type": "code",
   "execution_count": null,
   "metadata": {},
   "outputs": [],
   "source": []
  },
  {
   "cell_type": "markdown",
   "metadata": {},
   "source": [
    "### 14. String Slicing - Subsequence Check\n",
    "#### Question: Write a function to check if the sequence \"CGTAC\" is a subsequence of \"ATGCGTACGTT\"."
   ]
  },
  {
   "cell_type": "code",
   "execution_count": null,
   "metadata": {},
   "outputs": [],
   "source": []
  },
  {
   "cell_type": "markdown",
   "metadata": {},
   "source": [
    "### 15. Loops - Finding Start Codon\n",
    "#### Question: Write a function to find the position of the first start codon (ATG) in the DNA sequence \"ATGCGTACGTT\"."
   ]
  },
  {
   "cell_type": "code",
   "execution_count": null,
   "metadata": {},
   "outputs": [],
   "source": []
  },
  {
   "cell_type": "markdown",
   "metadata": {},
   "source": [
    "### 16. Dictionary - Counting Nucleotides\n",
    "#### Question: Write a function to count the occurrence of each nucleotide in the DNA sequence \"ATGCGTACGTT\" using a dictionary."
   ]
  },
  {
   "cell_type": "code",
   "execution_count": null,
   "metadata": {},
   "outputs": [],
   "source": []
  },
  {
   "cell_type": "markdown",
   "metadata": {},
   "source": [
    "### 17. List - Split DNA Sequence into Codons\n",
    "#### Question: Write a function to split the DNA sequence \"ATGCGTACGTT\" into codons and store them in a list."
   ]
  },
  {
   "cell_type": "code",
   "execution_count": null,
   "metadata": {},
   "outputs": [],
   "source": []
  },
  {
   "cell_type": "markdown",
   "metadata": {},
   "source": [
    "### 18. Conditional Statements - Check Palindrome\n",
    "#### Question: Write a function to check if the DNA sequence \"ATGCGCAT\" is a palindrome."
   ]
  },
  {
   "cell_type": "code",
   "execution_count": null,
   "metadata": {},
   "outputs": [],
   "source": []
  },
  {
   "cell_type": "markdown",
   "metadata": {},
   "source": [
    "### 19. Loops - Complementary DNA Strand\n",
    "#### Question: Write a function to generate the complementary DNA strand for \"ATGCGTACGTT\"."
   ]
  },
  {
   "cell_type": "code",
   "execution_count": null,
   "metadata": {},
   "outputs": [],
   "source": []
  },
  {
   "cell_type": "markdown",
   "metadata": {},
   "source": [
    "### 20. Dictionary - Counting Codons in mRNA\n",
    "#### Question: Write a function to count the frequency of each codon in the mRNA sequence \"AUGCGUACGUU\" using a dictionary."
   ]
  },
  {
   "cell_type": "code",
   "execution_count": null,
   "metadata": {},
   "outputs": [],
   "source": []
  },
  {
   "cell_type": "code",
   "execution_count": 1,
   "metadata": {},
   "outputs": [],
   "source": [
    "codon_to_amino_acid = {\n",
    "    'ATG': 'Methionine', 'CGT': 'Arginine', 'TAC': 'Tyrosine', 'GTT': 'Valine',\n",
    "    'TAA': 'Stop', 'TAG': 'Stop', 'TGA': 'Stop'\n",
    "}"
   ]
  },
  {
   "cell_type": "markdown",
   "metadata": {},
   "source": [
    "### 21. Dictionary & List - DNA to Protein Translation with a Stop Codon\n",
    "\n",
    "#### Question: Given a dictionary mapping codons to amino acids and a DNA sequence \"ATGCGTTAA\", write a function to translate the DNA sequence into a protein sequence, stopping translation at the first stop codon ('TAA', 'TAG', 'TGA')."
   ]
  },
  {
   "cell_type": "code",
   "execution_count": null,
   "metadata": {},
   "outputs": [],
   "source": []
  },
  {
   "cell_type": "markdown",
   "metadata": {},
   "source": [
    "### 22. Set Operations - Unique Nucleotide Combinations\n",
    "\n",
    "#### Question: Write a function that finds all unique nucleotide combinations of length 2 in a DNA sequence \"ATGCGTACGTT\"."
   ]
  },
  {
   "cell_type": "code",
   "execution_count": null,
   "metadata": {},
   "outputs": [],
   "source": []
  },
  {
   "cell_type": "markdown",
   "metadata": {},
   "source": [
    "### 23. Nested Loops - Finding All ORFs\n",
    "#### Question: Write a function to find all open reading frames (ORFs) in the DNA sequence \"ATGCGTACGTTATGCGTTAA\" starting with 'ATG' and ending with a stop codon."
   ]
  },
  {
   "cell_type": "code",
   "execution_count": null,
   "metadata": {},
   "outputs": [],
   "source": []
  },
  {
   "cell_type": "markdown",
   "metadata": {},
   "source": [
    "### 24. Regular Expressions - Validating DNA Sequence\n",
    "#### Question: Use a regular expression to validate if a given DNA sequence \"ATGCGTACGTT\" only contains valid nucleotides (A, T, C, G)."
   ]
  },
  {
   "cell_type": "code",
   "execution_count": null,
   "metadata": {},
   "outputs": [],
   "source": []
  },
  {
   "cell_type": "markdown",
   "metadata": {},
   "source": [
    "### 25. Recursion - Calculate GC Content Recursively\n",
    "#### Question: Write a recursive function to calculate the GC content of a DNA sequence \"ATGCGTACGTT\"."
   ]
  },
  {
   "cell_type": "code",
   "execution_count": null,
   "metadata": {},
   "outputs": [],
   "source": []
  },
  {
   "cell_type": "markdown",
   "metadata": {},
   "source": [
    "### 27. List & Set - Finding Unique and Common Codons\n",
    "#### Question: Write a function to find unique and common codons between two DNA sequences \"ATGCGTACGTT\" and \"ATGCGTGTGTA\"."
   ]
  },
  {
   "cell_type": "code",
   "execution_count": null,
   "metadata": {},
   "outputs": [],
   "source": []
  },
  {
   "cell_type": "markdown",
   "metadata": {},
   "source": [
    "### 28. List Comprehension - Transcribe Multiple DNA Sequences\n",
    "#### Question: Write a function to transcribe a list of DNA sequences [\"ATGCGT\", \"GATTACA\", \"CGTACG\"] into their respective mRNA sequences using list comprehension."
   ]
  },
  {
   "cell_type": "code",
   "execution_count": null,
   "metadata": {},
   "outputs": [],
   "source": []
  },
  {
   "cell_type": "markdown",
   "metadata": {},
   "source": [
    "### 29. Nested Loops - Counting Overlapping Codons\n",
    "#### Question: Write a function to count the number of times a specific codon \"CGT\" appears in a DNA sequence \"ATGCGTACGTT\" including overlapping occurrences."
   ]
  },
  {
   "cell_type": "code",
   "execution_count": null,
   "metadata": {},
   "outputs": [],
   "source": []
  },
  {
   "cell_type": "markdown",
   "metadata": {},
   "source": [
    "### 30. List & Dictionary - Grouping DNA Sequences by GC Content\n",
    "#### Question: Write a function to group DNA sequences [\"ATGCGT\", \"GATTACA\", \"CGTACG\", \"TATATA\"] into categories based on GC content: \"High GC\" (>50%), \"Moderate GC\" (30-50%), \"Low GC\" (<30%)."
   ]
  },
  {
   "cell_type": "code",
   "execution_count": null,
   "metadata": {},
   "outputs": [],
   "source": []
  },
  {
   "cell_type": "markdown",
   "metadata": {},
   "source": [
    "### 31. List & Conditional Statements - Counting Transitions and Transversions\n",
    "#### Question: Write a function that counts the number of transitions (purine to purine, pyrimidine to pyrimidine) and transversions (purine to pyrimidine, vice versa) between two DNA sequences \"ATGCGTAC\" and \"ATGCGTAG\"."
   ]
  },
  {
   "cell_type": "code",
   "execution_count": null,
   "metadata": {},
   "outputs": [],
   "source": []
  },
  {
   "cell_type": "markdown",
   "metadata": {},
   "source": [
    "### 32. List & Dictionary - Identifying Palindromic Sequences\n",
    "#### Question: Write a function to find all palindromic sequences of length 4 in a DNA sequence \"ATGCGTACGTACGCGT\"."
   ]
  },
  {
   "cell_type": "code",
   "execution_count": null,
   "metadata": {},
   "outputs": [],
   "source": []
  },
  {
   "cell_type": "markdown",
   "metadata": {},
   "source": [
    "### 33. String & List - DNA Mutation Simulation\n",
    "#### Question: Write a function to simulate a point mutation in a DNA sequence \"ATGCGTAC\" by randomly replacing one nucleotide with another."
   ]
  },
  {
   "cell_type": "code",
   "execution_count": null,
   "metadata": {},
   "outputs": [],
   "source": []
  },
  {
   "cell_type": "markdown",
   "metadata": {},
   "source": [
    "### 34. Loops & Dictionary - Counting Nucleotides in Multiple Sequences\n",
    "#### Question: Write a function to count the occurrence of each nucleotide in a list of DNA sequences [\"ATG\", \"CGT\", \"TAC\", \"GTT\"]."
   ]
  },
  {
   "cell_type": "code",
   "execution_count": null,
   "metadata": {},
   "outputs": [],
   "source": []
  },
  {
   "cell_type": "markdown",
   "metadata": {},
   "source": [
    "### 35. String Manipulation - GC Skew Calculation\n",
    "#### Question: Write a function to calculate the GC skew (G - C / G + C) at each position in the DNA sequence \"ATGCGTACGTT\"."
   ]
  },
  {
   "cell_type": "code",
   "execution_count": null,
   "metadata": {},
   "outputs": [],
   "source": []
  },
  {
   "cell_type": "markdown",
   "metadata": {},
   "source": [
    "### 36. List & Set - Finding Common and Unique Nucleotides\n",
    "#### Question: Write a function to find common and unique nucleotides between two DNA sequences \"ATGCGT\" and \"GATTACA\"."
   ]
  },
  {
   "cell_type": "code",
   "execution_count": null,
   "metadata": {},
   "outputs": [],
   "source": []
  },
  {
   "cell_type": "markdown",
   "metadata": {},
   "source": [
    "### 37. String & List - Reversing Transcription\n",
    "#### Question: Write a function to reverse transcribe an mRNA sequence \"AUGCGUACGUU\" back into a DNA sequence."
   ]
  },
  {
   "cell_type": "code",
   "execution_count": null,
   "metadata": {},
   "outputs": [],
   "source": []
  },
  {
   "cell_type": "markdown",
   "metadata": {},
   "source": [
    "### 38. List & String - Translating Overlapping Codons\n",
    "#### Question: Write a function to translate overlapping codons in a DNA sequence \"ATGCGTACGTT\" by one base at a time."
   ]
  },
  {
   "cell_type": "code",
   "execution_count": null,
   "metadata": {},
   "outputs": [],
   "source": []
  },
  {
   "cell_type": "markdown",
   "metadata": {},
   "source": [
    "### 39. List & Conditional Statements - Detecting Frameshifts\n",
    "#### Question: Write a function to detect frameshift mutations between two sequences \"ATGCGTACGTT\" and \"ATCGTACGTT\"."
   ]
  },
  {
   "cell_type": "code",
   "execution_count": null,
   "metadata": {},
   "outputs": [],
   "source": []
  },
  {
   "cell_type": "markdown",
   "metadata": {},
   "source": [
    "### 40. String & List - Extracting Introns and Exons\n",
    "#### Question: Write a function to extract exons and introns from a DNA sequence \"ATGCGTACGTT\" with exons at positions [(0, 3), (4, 7)]."
   ]
  },
  {
   "cell_type": "code",
   "execution_count": null,
   "metadata": {},
   "outputs": [],
   "source": []
  },
  {
   "cell_type": "markdown",
   "metadata": {},
   "source": [
    "### 41. String & Dictionary - Codon Usage Frequency\n",
    "\n",
    "#### Question: Write a function that calculates the frequency of each codon in a DNA sequence \"ATGCGTACGTTATGCGT\" and returns a dictionary with the counts.\n",
    "\n"
   ]
  },
  {
   "cell_type": "code",
   "execution_count": null,
   "metadata": {},
   "outputs": [],
   "source": []
  },
  {
   "cell_type": "markdown",
   "metadata": {},
   "source": [
    "### 42. Nested Loops - Finding Longest ORF\n",
    "\n",
    "#### Question: Write a function to find the longest open reading frame (ORF) in the DNA sequence \"ATGCGTACGTTATGCGTTAA\" that starts with 'ATG' and ends with a stop codon.\n",
    "\n"
   ]
  },
  {
   "cell_type": "code",
   "execution_count": null,
   "metadata": {},
   "outputs": [],
   "source": []
  },
  {
   "cell_type": "markdown",
   "metadata": {},
   "source": [
    "### 43. List & Set - Unique Amino Acids in Protein Sequence\n",
    "\n",
    "#### Question: Write a function to identify unique amino acids in a protein sequence \"MKVLYRFY\" using a set.\n",
    "\n",
    "##### Output: {'R', 'V', 'K', 'L', 'Y', 'M', 'F'}"
   ]
  },
  {
   "cell_type": "code",
   "execution_count": null,
   "metadata": {},
   "outputs": [],
   "source": []
  },
  {
   "cell_type": "markdown",
   "metadata": {},
   "source": [
    "### 44. String Manipulation - Finding Overlapping K-mers\n",
    "\n",
    "#### Question: Write a function to find all overlapping k-mers of length 3 in the DNA sequence \"ATGCGTACGTT\".\n",
    "\n"
   ]
  },
  {
   "cell_type": "code",
   "execution_count": null,
   "metadata": {},
   "outputs": [],
   "source": []
  },
  {
   "cell_type": "markdown",
   "metadata": {},
   "source": [
    "### 45. List & Conditional Statements - GC Content Windows\n",
    "\n",
    "#### Question: Write a function to calculate the GC content in non-overlapping windows of size 4 in the DNA sequence \"ATGCGTACGTT\".\n",
    "\n",
    "#####  Output: [50.0, 50.0, 25.0]\n"
   ]
  },
  {
   "cell_type": "code",
   "execution_count": null,
   "metadata": {},
   "outputs": [],
   "source": []
  },
  {
   "cell_type": "markdown",
   "metadata": {},
   "source": [
    "### 46. List & String - Translating Codon Frame Shifts\n",
    "\n",
    "#### Question: Write a function to translate all possible frames (0, +1, +2) in the DNA sequence \"ATGCGTACGTT\".\n",
    "\n",
    "##### # Output: [['Methionine', 'Arginine', 'Tyrosine'], ['Unknown', 'Unknown', 'Unknown'], ['Unknown', 'Unknown', 'Unknown']]"
   ]
  },
  {
   "cell_type": "code",
   "execution_count": null,
   "metadata": {},
   "outputs": [],
   "source": []
  },
  {
   "cell_type": "markdown",
   "metadata": {},
   "source": [
    "### 47. String & Dictionary - Complementary RNA Strand\n",
    "#### Question: Write a function to generate the complementary RNA strand for the sequence \"AUGCGUACGUU\".\n",
    "##### Output: 'UACGCAUGCAA'"
   ]
  },
  {
   "cell_type": "code",
   "execution_count": null,
   "metadata": {},
   "outputs": [],
   "source": []
  },
  {
   "cell_type": "markdown",
   "metadata": {},
   "source": [
    "### 49. List & Loops - Translating Reverse Complement\n",
    "#### Question: Write a function to translate the reverse complement of a DNA sequence \"ATGCGTACGTT\" into a protein sequence.\n",
    "\n",
    "\n",
    "##### # Output: ['Unknown', 'Unknown', 'Unknown', 'Unknown']"
   ]
  },
  {
   "cell_type": "code",
   "execution_count": null,
   "metadata": {},
   "outputs": [],
   "source": []
  },
  {
   "cell_type": "markdown",
   "metadata": {},
   "source": [
    "### 50. List & String - Identifying Start and Stop Codons\n",
    "\n",
    "#### Question: Write a function to find all positions of start codons 'ATG' and stop codons ('TAA', 'TAG', 'TGA') in a DNA sequence \"ATGCGTATGCGTTAA\".\n",
    "\n",
    "##### # Output: ([0, 5], [11])"
   ]
  },
  {
   "cell_type": "code",
   "execution_count": null,
   "metadata": {},
   "outputs": [],
   "source": []
  },
  {
   "cell_type": "markdown",
   "metadata": {},
   "source": [
    "### 51. String & List - Generating K-mer Frequencies\n",
    "\n",
    "#### Question: Write a function to calculate the frequency of each k-mer of length 3 in the DNA sequence \"ATGCGTACGTT\".\n",
    "\n",
    "##### # Output: {'ATG': 1, 'TGC': 1, 'GCG': 1, 'CGT': 2, 'GTA': 1, 'TAC': 1, 'ACG': 1, 'GTT': 1}\n"
   ]
  },
  {
   "cell_type": "code",
   "execution_count": null,
   "metadata": {},
   "outputs": [],
   "source": []
  },
  {
   "cell_type": "markdown",
   "metadata": {},
   "source": [
    "### 52. Dictionary & List - Counting Dinucleotides\n",
    "\n",
    "#### Question: Write a function to count the frequency of each dinucleotide pair (e.g., 'AA', 'AC', etc.) in a DNA sequence \"ATGCGTACGTT\".\n",
    "\n",
    "##### # Output: {'AT': 1, 'TG': 1, 'GC': 2, 'CG': 2, 'GT': 2, 'TA': 1, 'AC': 1}\n"
   ]
  },
  {
   "cell_type": "code",
   "execution_count": null,
   "metadata": {},
   "outputs": [],
   "source": []
  },
  {
   "cell_type": "markdown",
   "metadata": {},
   "source": [
    "### 53. List & String - Finding Reverse Palindromes\n",
    "\n",
    "#### Question: Write a function to find all reverse palindromic sequences of length 6 in the DNA sequence \"ATGCGTACGCGTACGT\".\n",
    "\n",
    "##### Output: ['CGTACG', 'GCGTAC']"
   ]
  },
  {
   "cell_type": "code",
   "execution_count": null,
   "metadata": {},
   "outputs": [],
   "source": []
  },
  {
   "cell_type": "markdown",
   "metadata": {},
   "source": [
    "### 54. String & List - Protein Subsequence Search\n",
    "\n",
    "#### Question: Write a function to find all occurrences of a protein subsequence \"LYR\" in a protein sequence \"MKVLYRLYRFY\".\n",
    "\n",
    "##### Output: [3, 6]"
   ]
  },
  {
   "cell_type": "code",
   "execution_count": null,
   "metadata": {},
   "outputs": [],
   "source": []
  },
  {
   "cell_type": "markdown",
   "metadata": {},
   "source": [
    "### 55. List & Dictionary - Finding Codon Usage Bias\n",
    "\n",
    "#### Question: Write a function to compare codon usage in two different DNA sequences \"ATGCGTACGTT\" and \"ATGCGTAGCGT\".\n",
    "\n",
    "##### Output: ({'ATG': 1, 'CGT': 2, 'ACG': 1, 'GTT': 1}, {'ATG': 1, 'CGT': 2, 'AGC': 1, 'GTA': 1})\n"
   ]
  },
  {
   "cell_type": "code",
   "execution_count": null,
   "metadata": {},
   "outputs": [],
   "source": []
  },
  {
   "cell_type": "markdown",
   "metadata": {},
   "source": [
    "### 56. List & String - Converting DNA to Protein Using a Custom Genetic Code\n",
    "\n",
    "#### Question: Write a function to translate a DNA sequence \"ATGCGTACGTT\" into a protein using a custom genetic code mapping.\n",
    "\n",
    "##### Output: ['Methionine', 'Arginine', 'Tyrosine', 'Valine']\n"
   ]
  },
  {
   "cell_type": "code",
   "execution_count": null,
   "metadata": {},
   "outputs": [],
   "source": [
    "custom_genetic_code = {\n",
    "    'ATG': 'Methionine', 'CGT': 'Arginine', 'TAC': 'Tyrosine', 'GTT': 'Valine',\n",
    "    'TAA': 'Stop', 'TAG': 'Stop', 'TGA': 'Stop'\n",
    "}"
   ]
  },
  {
   "cell_type": "markdown",
   "metadata": {},
   "source": [
    "### 57. List & Set - Finding Unique Codons\n",
    "\n",
    "#### Question: Write a function to find all unique codons in a DNA sequence \"ATGCGTACGTTATGCGT\".\n",
    "\n",
    "##### Output: {'ATG', 'CGT', 'ACG', 'TTA'}"
   ]
  },
  {
   "cell_type": "code",
   "execution_count": null,
   "metadata": {},
   "outputs": [],
   "source": []
  },
  {
   "cell_type": "markdown",
   "metadata": {},
   "source": [
    "### 58. String & List - Translating Protein Sequences with Multiple Start Codons\n",
    "\n",
    "#### Question: Write a function to translate all possible protein sequences starting from each occurrence of 'ATG' in a DNA sequence \"ATGCGTATGCGTTAA\".\n",
    "\n",
    "##### Output: [['Methionine', 'Arginine', 'Tyrosine'], ['Methionine', 'Arginine', 'Valine']]\n"
   ]
  },
  {
   "cell_type": "code",
   "execution_count": null,
   "metadata": {},
   "outputs": [],
   "source": []
  },
  {
   "cell_type": "markdown",
   "metadata": {},
   "source": [
    "### 59. List & Dictionary - Calculating Codon Usage in Different Frames\n",
    "\n",
    "#### Question: Write a function to calculate codon usage in all three reading frames of a DNA sequence \"ATGCGTACGTT\".\n",
    "\n",
    "##### Output: [{'ATG': 1, 'CGT': 2, 'ACG': 1, 'GTT': 1}, {'TGC': 1, 'GTA': 1, 'CGT': 1, 'TAC': 1}, {'GCG': 1, 'TAC': 1, 'GT': 1}]\n"
   ]
  },
  {
   "cell_type": "code",
   "execution_count": null,
   "metadata": {},
   "outputs": [],
   "source": []
  },
  {
   "cell_type": "markdown",
   "metadata": {},
   "source": [
    "### 60. List & Conditional Statements - Identifying ORFs in Reverse Complement\n",
    "\n",
    "#### Question: Write a function to find all open reading frames (ORFs) in the reverse complement of a DNA sequence \"ATGCGTACGTT\" that start with 'ATG' and end with a stop codon.\n",
    "\n"
   ]
  },
  {
   "cell_type": "code",
   "execution_count": null,
   "metadata": {},
   "outputs": [],
   "source": []
  },
  {
   "cell_type": "markdown",
   "metadata": {},
   "source": [
    "### 61. String & Set - Finding Overlapping Motifs\n",
    "\n",
    "#### Question: Write a function to find all occurrences of the motif \"ACGT\" in the DNA sequence \"ATGCGTACGTTACGTACGT\".\n",
    "\n"
   ]
  },
  {
   "cell_type": "code",
   "execution_count": null,
   "metadata": {},
   "outputs": [],
   "source": []
  },
  {
   "cell_type": "markdown",
   "metadata": {},
   "source": [
    "### 62. List & Dictionary - Counting Triplet Nucleotide Repeats\n",
    "\n",
    "#### Question: Write a function to count the number of times each triplet nucleotide repeat occurs in the DNA sequence \"ATGCGTACGTTACG\".\n",
    "\n"
   ]
  },
  {
   "cell_type": "code",
   "execution_count": null,
   "metadata": {},
   "outputs": [],
   "source": []
  },
  {
   "cell_type": "markdown",
   "metadata": {},
   "source": [
    "### 63. String & Loops - Translating a Custom Genetic Code Sequence\n",
    "\n",
    "#### Question: Write a function to translate a DNA sequence \"ATGCGTACGTT\" using a custom genetic code that includes ambiguous codons (e.g., 'ATN' -> 'Methionine', 'CGN' -> 'Arginine').\n",
    "\n"
   ]
  },
  {
   "cell_type": "code",
   "execution_count": 2,
   "metadata": {},
   "outputs": [],
   "source": [
    "genetic_code = {\n",
    "    'ATG': 'Methionine', 'ATN': 'Methionine', 'CGT': 'Arginine', 'CGN': 'Arginine',\n",
    "    'TAC': 'Tyrosine', 'GTT': 'Valine', 'TAA': 'Stop', 'TAG': 'Stop', 'TGA': 'Stop'\n",
    "}"
   ]
  },
  {
   "cell_type": "markdown",
   "metadata": {},
   "source": [
    "### 64. String & List - Analyzing Amino Acid Composition\n",
    "\n",
    "#### Question: Write a function to calculate the composition of each amino acid in a protein sequence \"MKVLYRFY\".\n",
    "\n"
   ]
  },
  {
   "cell_type": "code",
   "execution_count": null,
   "metadata": {},
   "outputs": [],
   "source": []
  },
  {
   "cell_type": "markdown",
   "metadata": {},
   "source": [
    "### 65. List & Dictionary - Calculating Nucleotide Composition in Codon Positions\n",
    "\n",
    "#### Question: Write a function to calculate the nucleotide composition at each codon position (1st, 2nd, 3rd) in the DNA sequence \"ATGCGTACGTT\".\n",
    "\n",
    "##### # Output: {1: {'A': 1, 'T': 1, 'C': 1, 'G': 2}, 2: {'A': 0, 'T': 1, 'C': 3, 'G': 1}, 3: {'A': 1, 'T': 2, 'C': 0, 'G': 2}}\n"
   ]
  },
  {
   "cell_type": "code",
   "execution_count": null,
   "metadata": {},
   "outputs": [],
   "source": []
  },
  {
   "cell_type": "markdown",
   "metadata": {},
   "source": [
    "### 66. List & Set - Identifying Non-overlapping Motifs\n",
    "\n",
    "#### Question: Write a function to find all non-overlapping occurrences of the motif \"ACG\" in the DNA sequence \"ATGCGTACGTTACG\".\n",
    "\n",
    "##### Output: [5, 11]"
   ]
  },
  {
   "cell_type": "code",
   "execution_count": null,
   "metadata": {},
   "outputs": [],
   "source": []
  },
  {
   "cell_type": "markdown",
   "metadata": {},
   "source": [
    "### 67. List & Dictionary - Creating a Reverse Complement Dictionary\n",
    "\n",
    "#### Question: Write a function to create a dictionary that maps each codon to its reverse complement in a DNA sequence \"ATGCGTACGTT\".\n",
    "\n",
    "##### Output: {'ATG': 'CAT', 'CGT': 'ACG', 'ACG': 'CGT', 'GTT': 'AAC'}\n"
   ]
  },
  {
   "cell_type": "code",
   "execution_count": null,
   "metadata": {},
   "outputs": [],
   "source": []
  },
  {
   "cell_type": "markdown",
   "metadata": {},
   "source": [
    "### 68. List & String - Transcribing DNA with Ambiguous Bases\n",
    "\n",
    "#### Question: Write a function to transcribe a DNA sequence with ambiguous bases \"ATGCGTNCGTT\" into an RNA sequence, where 'N' represents any nucleotide.\n",
    "\n",
    "##### Output: 'UACGCANGCAA'"
   ]
  },
  {
   "cell_type": "code",
   "execution_count": null,
   "metadata": {},
   "outputs": [],
   "source": []
  },
  {
   "cell_type": "markdown",
   "metadata": {},
   "source": [
    "### 69. String & List - Translating Overlapping Codons with Degenerate Bases\n",
    "\n",
    "#### Question: Write a function to translate overlapping codons in a DNA sequence \"ATGCGTACGTNNN\" using a genetic code that includes degenerate bases.\n",
    "\n",
    "##### Output: ['Methionine', 'Arginine', 'Threonine', 'Any']\n"
   ]
  },
  {
   "cell_type": "code",
   "execution_count": 3,
   "metadata": {},
   "outputs": [],
   "source": [
    "degenerate_genetic_code = {\n",
    "    'ATG': 'Methionine', 'CGT': 'Arginine', 'ACG': 'Threonine', 'TNN': 'Any'\n",
    "}"
   ]
  },
  {
   "cell_type": "markdown",
   "metadata": {},
   "source": [
    "### 70. List & String - Finding Longest Protein Coding Sequence\n",
    "\n",
    "#### Question: Write a function to find the longest protein coding sequence in the DNA sequence \"ATGCGTACGTTGAAATGCCGTTAG\"."
   ]
  },
  {
   "cell_type": "code",
   "execution_count": 1,
   "metadata": {},
   "outputs": [],
   "source": [
    "genetic_code = {\n",
    "    'ATG': 'Methionine', 'CGT': 'Arginine', 'TAC': 'Tyrosine', 'GTT': 'Valine',\n",
    "    'TAA': 'Stop', 'TAG': 'Stop', 'TGA': 'Stop'\n",
    "}"
   ]
  },
  {
   "cell_type": "markdown",
   "metadata": {},
   "source": [
    "## Please use the below seq for verifying the results"
   ]
  },
  {
   "cell_type": "code",
   "execution_count": null,
   "metadata": {},
   "outputs": [],
   "source": [
    "dna_sequences = [\n",
    "    \"ATGCGTACGTTGACGTAGCCTAGCGTACGATTACGCGTATGGGCTACTGCGTACGTTGCGTATGCGTACGTTGAATGCGT\",\n",
    "    \"GCTAGCGTACGTTGCGTAGCGTACGTGACGTACTGCGTAGCTAGCGTTACGTTACGCGTACGATGCGTACGTGCGTGACG\",\n",
    "    \"ATGCGTACGTTGCGTATGCGTACGTTGACGTAGCTAGCGTACGTTACGCGTACGCTGCGTAGCGTACGCGTATGCGTACG\",\n",
    "    \"CGTACGTTGACGTAGCGTACGTGCGTACGCGTACGCTAGCGTACGTTGCGTACGTACGCGTACGTTGCGTACGCGTACGT\",\n",
    "    \"ACGTTGCGTACGCGTACGTTGACGTAGCGTACGTTACGCGTACGTGCGTAGCGTACGCTGCGTACGCGTACGTTGCGTAC\"\n",
    "]\n",
    "\n",
    "protein_sequences = [\n",
    "    \"MKVLYRLYRFYMKVLYRLYRFYMKVLYRLYRFYMKVLYRLYRFYMKVLYRLYRFYMKVLYRLYRFYMKVLYRLYRFY\",\n",
    "    \"MVVVLYRLYRFYMKVLYRLYRFYMKVLYRLYRFYMKVLYRLYRFYMKVLYRLYRFYMKVLYRLYRFYMKVLYRLYRFY\",\n",
    "    \"MKVLYRLYRFYMKVLYRLYRFYMKVLYRLYRFYMKVLYRLYRFYMKVLYRLYRFYMKVLYRLYRFYMKVLYRLYRFY\",\n",
    "    \"MKVLYRLYRFYMKVLYRLYRFYMKVLYRLYRFYMKVLYRLYRFYMKVLYRLYRFYMKVLYRLYRFYMKVLYRLYRFY\",\n",
    "    \"MKVLYRLYRFYMKVLYRLYRFYMKVLYRLYRFYMKVLYRLYRFYMKVLYRLYRFYMKVLYRLYRFYMKVLYRLYRFY\"\n",
    "]"
   ]
  },
  {
   "cell_type": "code",
   "execution_count": null,
   "metadata": {},
   "outputs": [],
   "source": [
    "dna_sequences = [\n",
    "    \"ATGCGTACGTTGACGTAGCCTAGCGTACGATTACGCGTATGGGCTACTGCGTACGTTGCGTATGCGTACGTTGAATGCGT\"\n",
    "    \"TACGTTGACGTAGCGTACGTGCGTAGCTAGCGTACGTTACGCGTACGATGCGTACGTGCGTGACGTACGTTACGCGTACG\"\n",
    "    \"TAGCGTACGTTGCGTACGTTGACGTAGCGTACGCTGCGTAGCGTACGCGTATGCGTACGTTGACGTAGCGTACGTGCGTA\"\n",
    "    \"GCTAGCGTACGTTGCGTACGTACGCGTACGTTGCGTACGCGTACGTTGACGTAGCGTACGTTACGCGTACGTGCGTAGCG\",\n",
    "    \n",
    "    \"GCTAGCGTACGTTGCGTAGCGTACGTGACGTACTGCGTAGCTAGCGTTACGTTACGCGTACGATGCGTACGTGCGTGACG\"\n",
    "    \"TACGTTGACGTAGCGTACGTTACGCGTACGATGCGTACGTGCGTGACGTACGTTACGCGTACGTGCGTAGCGTACGTTAC\"\n",
    "    \"GCGTACGTGCGTACGTTGACGTAGCGTACGTTACGCGTACGTGCGTAGCGTACGCTGCGTACGCGTACGTTGCGTACGCG\"\n",
    "    \"TACGTGCGTACGTTGACGTAGCGTACGTTACGCGTACGTGCGTAGCGTACGTTACGCGTACGTTGACGTAGCGTACGTTG\",\n",
    "    \n",
    "    \"ATGCGTACGTTGCGTATGCGTACGTTGACGTAGCTAGCGTACGTTACGCGTACGCTGCGTAGCGTACGCGTATGCGTACG\"\n",
    "    \"GCGTACGTTGCGTAGCGTACGTTGACGTAGCGTACGCTGCGTAGCGTACGCGTATGCGTACGTTGACGTAGCGTACGTGC\"\n",
    "    \"GTTACGCGTACGTGCGTAGCGTACGCTGCGTACGCGTACGTTGCGTACGTGCGTACGTTGACGTAGCGTACGTTACGCGT\"\n",
    "    \"ACGTGCGTAGCGTACGTTGACGTAGCGTACGTTACGCGTACGTGCGTAGCGTACGTTGCGTACGCGTACGTTGACGTAGC\",\n",
    "    \n",
    "    \"CGTACGTTGACGTAGCGTACGTGCGTACGCGTACGCTAGCGTACGTTGCGTACGTACGCGTACGTTGCGTACGCGTACGT\"\n",
    "    \"GCGTACGTTGACGTAGCGTACGTGCGTACGCGTACGTTGACGTAGCGTACGTTACGCGTACGCTGCGTACGCGTACGTTG\"\n",
    "    \"CGTACGTTGACGTAGCGTACGTGCGTACGCGTACGCTAGCGTACGTTGCGTACGTACGCGTACGTTGCGTACGCGTACGT\"\n",
    "    \"GCGTACGTTGACGTAGCGTACGTGCGTACGCGTACGTTGACGTAGCGTACGTTACGCGTACGCTGCGTACGCGTACGTTG\",\n",
    "    \n",
    "    \"ACGTTGCGTACGCGTACGTTGACGTAGCGTACGTTACGCGTACGTGCGTAGCGTACGCTGCGTACGCGTACGTTGCGTAC\"\n",
    "    \"GCGTACGTGCGTACGTTGACGTAGCGTACGTTACGCGTACGTGCGTAGCGTACGCTGCGTACGCGTACGTTGCGTACGCG\"\n",
    "    \"TACGTGCGTAGCGTACGTTGACGTAGCGTACGTTACGCGTACGTGCGTAGCGTACGCTGCGTACGCGTACGTTGCGTACG\"\n",
    "    \"GTTGACGTAGCGTACGTTACGCGTACGTGCGTAGCGTACGCTGCGTACGCGTACGTTGCGTACGCGTACGTGCGTAGCGT\"\n",
    "]\n"
   ]
  },
  {
   "cell_type": "code",
   "execution_count": null,
   "metadata": {},
   "outputs": [],
   "source": [
    "protein_sequences = [\n",
    "    \"MKVLYRLYRFYMKVLYRLYRFYMKVLYRLYRFYMKVLYRLYRFYMKVLYRLYRFYMKVLYRLYRFYMKVLYRLYRFY\"\n",
    "    \"MKVLYRLYRFYMKVLYRLYRFYMKVLYRLYRFYMKVLYRLYRFYMKVLYRLYRFYMKVLYRLYRFYMKVLYRLYRFY\"\n",
    "    \"MKVLYRLYRFYMKVLYRLYRFYMKVLYRLYRFYMKVLYRLYRFYMKVLYRLYRFYMKVLYRLYRFYMKVLYRLYRFY\"\n",
    "    \"MKVLYRLYRFYMKVLYRLYRFYMKVLYRLYRFYMKVLYRLYRFYMKVLYRLYRFYMKVLYRLYRFYMKVLYRLYRFY\",\n",
    "    \n",
    "    \"MVVVLYRLYRFYMKVLYRLYRFYMKVLYRLYRFYMKVLYRLYRFYMKVLYRLYRFYMKVLYRLYRFYMKVLYRLYRFY\"\n",
    "    \"MKVLYRLYRFYMKVLYRLYRFYMKVLYRLYRFYMKVLYRLYRFYMKVLYRLYRFYMKVLYRLYRFYMKVLYRLYRFY\"\n",
    "    \"MKVLYRLYRFYMKVLYRLYRFYMKVLYRLYRFYMKVLYRLYRFYMKVLYRLYRFYMKVLYRLYRFYMKVLYRLYRFY\"\n",
    "    \"MKVLYRLYRFYMKVLYRLYRFYMKVLYRLYRFYMKVLYRLYRFYMKVLYRLYRFYMKVLYRLYRFYMKVLYRLYRFY\",\n",
    "    \n",
    "    \"MKVLYRLYRFYMKVLYRLYRFYMKVLYRLYRFYMKVLYRLYRFYMKVLYRLYRFYMKVLYRLYRFYMKVLYRLYRFY\"\n",
    "    \"MKVLYRLYRFYMKVLYRLYRFYMKVLYRLYRFYMKVLYRLYRFYMKVLYRLYRFYMKVLYRLYRFYMKVLYRLYRFY\"\n",
    "    \"MKVLYRLYRFYMKVLYRLYRFYMKVLYRLYRFYMKVLYRLYRFYMKVLYRLYRFYMKVLYRLYRFYMKVLYRLYRFY\"\n",
    "    \"MKVLYRLYRFYMKVLYRLYRFYMKVLYRLYRFYMKVLYRLYRFYMKVLYRLYRFYMKVLYRLYRFYMKVLYRLYRFY\",\n",
    "    \n",
    "    \"MKVLYRLYRFYMKVLYRLYRFYMKVLYRLYRFYMKVLYRLYRFYMKVLYRLYRFYMKVLYRLYRFYMKVLYRLYRFY\"\n",
    "    \"MKVLYRLYRFYMKVLYRLYRFYMKVLYRLYRFYMKVLYRLYRFYMKVLYRLYRFYMKVLYRLYRFYMKVLYRLYRFY\"\n",
    "    \"MKVLYRLYRFYMKVLYRLYRFYMKVLYRLYRFYMKVLYRLYRFYMKVLYRLYRFYMKVLYRLYRFYMKVLYRLYRFY\"\n",
    "    \"MKVLYRLYRFYMKVLYRLYRFYMKVLYRLYRFYMKVLYRLYRFYMKVLYRLYRFYMKVLYRLYRFYMKVLYRLYRFY\",\n",
    "    \n",
    "    \"MKVLYRLYRFYMKVLYRLYRFYMKVLYRLYRFYMKVLYRLYRFYMKVLYRLYRFYMKVLYRLYRFYMKVLYRLYRFY\"\n",
    "    \"MKVLYRLYRFYMKVLYRLYRFYMKVLYRLYRFYMKVLYRLYRFYMKVLYRLYRFYMKVLYRLYRFYMKVLYRLYRFY\"\n",
    "    \"MKVLYRLYRFYMKVLYRLYRFYMKVLYRLYRFYMKVLYRLYRFYMKVLYRLYRFYMKVLYRLYRFYMKVLYRLYRFY\"\n",
    "    \"MKVLYRLYRFYMKVLYRLYRFYMKVLYRLYRFYMKVLYRLYRFYMKVLYRLYRFYMKVLYRLYRFYMKVLYRLYRFY\"\n",
    "]\n"
   ]
  }
 ],
 "metadata": {
  "colab": {
   "provenance": []
  },
  "kernelspec": {
   "display_name": "Python 3",
   "name": "python3"
  },
  "language_info": {
   "codemirror_mode": {
    "name": "ipython",
    "version": 3
   },
   "file_extension": ".py",
   "mimetype": "text/x-python",
   "name": "python",
   "nbconvert_exporter": "python",
   "pygments_lexer": "ipython3",
   "version": "3.10.12"
  }
 },
 "nbformat": 4,
 "nbformat_minor": 0
}
