{
 "cells": [
  {
   "cell_type": "markdown",
   "metadata": {},
   "source": [
    "## This notebook is created by Prateek Paul.\n",
    "* Email: prateekp@iiitd.ac.in\n",
    "* LinkedIn: [linkedin.com/in/prateekpaulpro/](https://linkedin.com/in/prateekpaulpro/)\n",
    "\n",
    "Disclaimer: \n",
    "The code and content in this notebook are compiled from various open sources, personal experience, and reference materials. It is intended solely for educational purposes. All credits for original ideas and code snippets go to their respective authors. If you find any inaccuracies or have suggestions, feel free to reach out."
   ]
  },
  {
   "cell_type": "markdown",
   "metadata": {
    "id": "5Qr7e7a04SDi"
   },
   "source": [
    "# Bio Computing Course"
   ]
  },
  {
   "cell_type": "markdown",
   "metadata": {
    "id": "oXn03P_z4SDk"
   },
   "source": [
    "# Instructions\n",
    "### Welcome to the Python and Biological Concepts practice notebook! This set of exercises will help you apply your understanding of basic Python programming while exploring biological concepts. Please read each question carefully and use the provided code cells to write your solutions.\n",
    "\n",
    "# General Guidelines:\n",
    "### Read Each Question Carefully: Make sure you understand what is being asked before you start coding. Pay close attention to the input and output requirements.\n",
    "\n",
    "### Write Clear and Efficient Code: Aim to write code that is both correct and efficient. Use basic Python concepts such as loops, conditionals, lists, dictionaries, and strings as needed."
   ]
  },
  {
   "cell_type": "markdown",
   "metadata": {
    "id": "jXk9EzZi4SDl"
   },
   "source": [
    "Please verify the answers logically if they are correct or not. In case you find something please feel free to report us back."
   ]
  },
  {
   "cell_type": "code",
   "execution_count": 1,
   "metadata": {
    "executionInfo": {
     "elapsed": 1652,
     "status": "ok",
     "timestamp": 1725517894454,
     "user": {
      "displayName": "Prateek Paul",
      "userId": "17770739234551209808"
     },
     "user_tz": -330
    },
    "id": "kr9UYfBu4SDl"
   },
   "outputs": [],
   "source": [
    "dna_sequence = \"ATGCGTACGTT\""
   ]
  },
  {
   "cell_type": "markdown",
   "metadata": {
    "id": "BE3wVm6F4SDm"
   },
   "source": [
    "### 1. String Manipulation - DNA Sequence\n",
    "#### Question: Given a DNA sequence \"ATGCGTACGTT\", write a Python function to count the number of times the nucleotide 'G' appears."
   ]
  },
  {
   "cell_type": "code",
   "execution_count": 2,
   "metadata": {
    "colab": {
     "base_uri": "https://localhost:8080/"
    },
    "executionInfo": {
     "elapsed": 13,
     "status": "ok",
     "timestamp": 1725517896759,
     "user": {
      "displayName": "Prateek Paul",
      "userId": "17770739234551209808"
     },
     "user_tz": -330
    },
    "id": "qcUoEnQE4SDm",
    "outputId": "ba3bbc81-29e7-4263-f151-20b592c6a66d"
   },
   "outputs": [
    {
     "name": "stdout",
     "output_type": "stream",
     "text": [
      "3\n"
     ]
    }
   ],
   "source": [
    "def count_g(dna_sequence):\n",
    "    return dna_sequence.count('G')\n",
    "\n",
    "dna_sequence = \"ATGCGTACGTT\"\n",
    "print(count_g(dna_sequence))  # Output: 3"
   ]
  },
  {
   "cell_type": "markdown",
   "metadata": {
    "id": "TDRQ1Q1C4SDn"
   },
   "source": [
    "### 2. List - DNA Codons\n",
    "#### Question: Create a list of all codons (3-letter combinations) in the DNA sequence \"ATGCGTACGTT\"."
   ]
  },
  {
   "cell_type": "code",
   "execution_count": 3,
   "metadata": {
    "colab": {
     "base_uri": "https://localhost:8080/"
    },
    "executionInfo": {
     "elapsed": 12,
     "status": "ok",
     "timestamp": 1725517896759,
     "user": {
      "displayName": "Prateek Paul",
      "userId": "17770739234551209808"
     },
     "user_tz": -330
    },
    "id": "wOoLLCMG4SDn",
    "outputId": "b7a7e8d5-969f-48b6-89e4-bcfff8dd2c36"
   },
   "outputs": [
    {
     "name": "stdout",
     "output_type": "stream",
     "text": [
      "['ATG', 'CGT', 'ACG', 'TTA', 'TAA', 'ATG', 'CGT', 'ACG', 'TTA']\n"
     ]
    }
   ],
   "source": [
    "def get_codons(dna_sequence):\n",
    "    return [dna_sequence[i:i+3] for i in range(0, len(dna_sequence), 3)]\n",
    "\n",
    "dna_sequence = \"ATGCGTACGTTATAAATGCGTACGTTA\"\n",
    "print(get_codons(dna_sequence))"
   ]
  },
  {
   "cell_type": "markdown",
   "metadata": {
    "id": "ocp-S2NB4SDn"
   },
   "source": [
    "### 3. Dictionary - Codon to Amino Acid Mapping\n",
    "#### Question: Create a dictionary that maps codons to their corresponding amino acids for the following: 'ATG': 'Methionine', 'CGT': 'Arginine', 'TAC': 'Tyrosine', 'GTT': 'Valine'."
   ]
  },
  {
   "cell_type": "code",
   "execution_count": 4,
   "metadata": {
    "colab": {
     "base_uri": "https://localhost:8080/"
    },
    "executionInfo": {
     "elapsed": 12,
     "status": "ok",
     "timestamp": 1725517896759,
     "user": {
      "displayName": "Prateek Paul",
      "userId": "17770739234551209808"
     },
     "user_tz": -330
    },
    "id": "ZnBFVQ9W4SDn",
    "outputId": "3567fc8c-fba2-4273-c4e4-dfa162413ef1"
   },
   "outputs": [
    {
     "name": "stdout",
     "output_type": "stream",
     "text": [
      "{'ATG': 'Methionine', 'CGT': 'Arginine', 'TAC': 'Tyrosine', 'GTT': 'Valine'}\n"
     ]
    }
   ],
   "source": [
    "codon_to_amino_acid = {\n",
    "    'ATG': 'Methionine',\n",
    "    'CGT': 'Arginine',\n",
    "    'TAC': 'Tyrosine',\n",
    "    'GTT': 'Valine'\n",
    "}\n",
    "\n",
    "print(codon_to_amino_acid)  # Output: {'ATG': 'Methionine', 'CGT': 'Arginine', 'TAC': 'Tyrosine', 'GTT': 'Valine'}\n"
   ]
  },
  {
   "cell_type": "markdown",
   "metadata": {
    "id": "ZJAKEIOO4SDo"
   },
   "source": [
    "### 4. Conditional Statements - DNA Base Identification\n",
    "#### Question: Write a function that identifies if a base is a purine (A, G) or pyrimidine (C, T)."
   ]
  },
  {
   "cell_type": "code",
   "execution_count": 5,
   "metadata": {
    "colab": {
     "base_uri": "https://localhost:8080/"
    },
    "executionInfo": {
     "elapsed": 11,
     "status": "ok",
     "timestamp": 1725517896760,
     "user": {
      "displayName": "Prateek Paul",
      "userId": "17770739234551209808"
     },
     "user_tz": -330
    },
    "id": "jBZf7ljF4SDo",
    "outputId": "17c67d71-6279-4938-b3c2-b671751e7d36"
   },
   "outputs": [
    {
     "name": "stdout",
     "output_type": "stream",
     "text": [
      "Purine\n"
     ]
    }
   ],
   "source": [
    "def identify_base(base):\n",
    "    if base in 'AG':\n",
    "        return 'Purine'\n",
    "    elif base in 'CT':\n",
    "        return 'Pyrimidine'\n",
    "    else:\n",
    "        return 'Unknown'\n",
    "\n",
    "base = 'A'\n",
    "print(identify_base(base))  # Output: Purine\n"
   ]
  },
  {
   "cell_type": "markdown",
   "metadata": {
    "id": "A-Buvj894SDo"
   },
   "source": [
    "### 5. Loops - Counting Bases\n",
    "#### Question: Write a function to count the number of each base in the DNA sequence \"ATGCGTACGTT\"."
   ]
  },
  {
   "cell_type": "code",
   "execution_count": 6,
   "metadata": {
    "colab": {
     "base_uri": "https://localhost:8080/"
    },
    "executionInfo": {
     "elapsed": 10,
     "status": "ok",
     "timestamp": 1725517896760,
     "user": {
      "displayName": "Prateek Paul",
      "userId": "17770739234551209808"
     },
     "user_tz": -330
    },
    "id": "jGjkogyJ4SDo",
    "outputId": "1bd86883-25f1-4808-dcbb-ebce65666f55"
   },
   "outputs": [
    {
     "name": "stdout",
     "output_type": "stream",
     "text": [
      "{'A': 2, 'T': 4, 'C': 2, 'G': 3}\n"
     ]
    }
   ],
   "source": [
    "def count_bases(dna_sequence):\n",
    "    base_count = {'A': 0, 'T': 0, 'C': 0, 'G': 0}\n",
    "    for base in dna_sequence:\n",
    "        if base in base_count:\n",
    "            base_count[base] += 1\n",
    "    return base_count\n",
    "\n",
    "dna_sequence = \"ATGCGTACGTT\"\n",
    "print(count_bases(dna_sequence))  # Output: {'A': 2, 'T': 2, 'C': 2, 'G': 3}\n"
   ]
  },
  {
   "cell_type": "markdown",
   "metadata": {
    "id": "DCzqUV2J4SDo"
   },
   "source": [
    "### 6. String Slicing - mRNA from DNA\n",
    "\n",
    "#### Question: Convert the DNA sequence \"ATGCGTACGTT\" to its mRNA sequence.\n",
    "\n"
   ]
  },
  {
   "cell_type": "code",
   "execution_count": 7,
   "metadata": {
    "colab": {
     "base_uri": "https://localhost:8080/"
    },
    "executionInfo": {
     "elapsed": 10,
     "status": "ok",
     "timestamp": 1725517896760,
     "user": {
      "displayName": "Prateek Paul",
      "userId": "17770739234551209808"
     },
     "user_tz": -330
    },
    "id": "HG6loYNj4SDo",
    "outputId": "ac1ae918-cd16-4d1a-a1d4-1b4396bed0aa"
   },
   "outputs": [
    {
     "name": "stdout",
     "output_type": "stream",
     "text": [
      "AUGCGUACGUU\n"
     ]
    }
   ],
   "source": [
    "def dna_to_mrna(dna_sequence):\n",
    "    return dna_sequence.replace('T', 'U')\n",
    "\n",
    "dna_sequence = \"ATGCGTACGTT\"\n",
    "print(dna_to_mrna(dna_sequence))  # Output: AUGCGUACGUU\n"
   ]
  },
  {
   "cell_type": "markdown",
   "metadata": {
    "id": "cyYcUBOX4SDo"
   },
   "source": [
    "### 7. List - Reverse Complement of DNA\n",
    "#### Question: Write a function that returns the reverse complement of a DNA sequence \"ATGCGTACGTT\"."
   ]
  },
  {
   "cell_type": "code",
   "execution_count": 8,
   "metadata": {
    "colab": {
     "base_uri": "https://localhost:8080/"
    },
    "executionInfo": {
     "elapsed": 10,
     "status": "ok",
     "timestamp": 1725517896760,
     "user": {
      "displayName": "Prateek Paul",
      "userId": "17770739234551209808"
     },
     "user_tz": -330
    },
    "id": "NAIRznDT4SDo",
    "outputId": "50753147-57cd-4ac5-fcf1-de9843abe991"
   },
   "outputs": [
    {
     "name": "stdout",
     "output_type": "stream",
     "text": [
      "AACGTACGCAT\n"
     ]
    }
   ],
   "source": [
    "def reverse_complement(dna_sequence):\n",
    "    complement = {'A': 'T', 'T': 'A', 'C': 'G', 'G': 'C'}\n",
    "    return ''.join(complement[base] for base in reversed(dna_sequence))\n",
    "\n",
    "dna_sequence = \"ATGCGTACGTT\"\n",
    "print(reverse_complement(dna_sequence))  # Output: AACGTACGCAT\n"
   ]
  },
  {
   "cell_type": "markdown",
   "metadata": {
    "id": "IKzCWMqs4SDp"
   },
   "source": [
    "### 8. Dictionary - Transcription Mapping\n",
    "\n",
    "#### Question: Create a dictionary to map each DNA base to its RNA complement (A->U, T->A, C->G, G->C) and use it to transcribe \"ATGCGTACGTT\".\n",
    "\n"
   ]
  },
  {
   "cell_type": "code",
   "execution_count": 9,
   "metadata": {
    "colab": {
     "base_uri": "https://localhost:8080/"
    },
    "executionInfo": {
     "elapsed": 9,
     "status": "ok",
     "timestamp": 1725517896760,
     "user": {
      "displayName": "Prateek Paul",
      "userId": "17770739234551209808"
     },
     "user_tz": -330
    },
    "id": "Fr8EqRAY4SDp",
    "outputId": "7bd0cab1-e70e-4143-f0a6-e91f8f09969d"
   },
   "outputs": [
    {
     "name": "stdout",
     "output_type": "stream",
     "text": [
      "UACGCAUGCAA\n"
     ]
    }
   ],
   "source": [
    "dna_to_rna = {'A': 'U', 'T': 'A', 'C': 'G', 'G': 'C'}\n",
    "\n",
    "def transcribe(dna_sequence):\n",
    "    return ''.join(dna_to_rna[base] for base in dna_sequence)\n",
    "\n",
    "dna_sequence = \"ATGCGTACGTT\"\n",
    "print(transcribe(dna_sequence))  # Output: UACGCAUGCAA\n"
   ]
  },
  {
   "cell_type": "markdown",
   "metadata": {
    "id": "NXt7uJIh4SDp"
   },
   "source": [
    "### 9. Conditional Statements - DNA Sequence Validity\n",
    "\n",
    "#### Question: Write a function to check if a given sequence is a valid DNA sequence (only contains A, T, C, G).\n",
    "\n"
   ]
  },
  {
   "cell_type": "code",
   "execution_count": 10,
   "metadata": {
    "colab": {
     "base_uri": "https://localhost:8080/"
    },
    "executionInfo": {
     "elapsed": 9,
     "status": "ok",
     "timestamp": 1725517896760,
     "user": {
      "displayName": "Prateek Paul",
      "userId": "17770739234551209808"
     },
     "user_tz": -330
    },
    "id": "UXfskR-L4SDp",
    "outputId": "47f1cf03-6713-4cae-8e33-c92d7a87a01b"
   },
   "outputs": [
    {
     "name": "stdout",
     "output_type": "stream",
     "text": [
      "True\n"
     ]
    }
   ],
   "source": [
    "def is_valid_dna(dna_sequence):\n",
    "    for base in dna_sequence:\n",
    "        if base not in 'ATCG':\n",
    "            return False\n",
    "    return True\n",
    "\n",
    "dna_sequence = \"ATGCGTACGTT\"\n",
    "print(is_valid_dna(dna_sequence))  # Output: True\n"
   ]
  },
  {
   "cell_type": "markdown",
   "metadata": {
    "id": "h53FvSzA4SDp"
   },
   "source": [
    "### 10. Loops - Translation of Codons\n",
    "\n",
    "#### Question: Write a function to translate the DNA sequence \"ATGCGTACGTT\" into a protein sequence using the codon dictionary provided."
   ]
  },
  {
   "cell_type": "code",
   "execution_count": 11,
   "metadata": {
    "colab": {
     "base_uri": "https://localhost:8080/"
    },
    "executionInfo": {
     "elapsed": 9,
     "status": "ok",
     "timestamp": 1725517896760,
     "user": {
      "displayName": "Prateek Paul",
      "userId": "17770739234551209808"
     },
     "user_tz": -330
    },
    "id": "VrrvLimu4SDp",
    "outputId": "c413cec0-62f3-48d9-dbe2-97525a8bf060"
   },
   "outputs": [
    {
     "name": "stdout",
     "output_type": "stream",
     "text": [
      "['Methionine', 'Arginine']\n"
     ]
    }
   ],
   "source": [
    "codon_to_amino_acid = {\n",
    "    'ATG': 'Methionine',\n",
    "    'CGT': 'Arginine',\n",
    "    'TAC': 'Tyrosine',\n",
    "    'GTT': 'Valine'\n",
    "}\n",
    "\n",
    "def translate(dna_sequence):\n",
    "    protein = []\n",
    "    for i in range(0, len(dna_sequence), 3):\n",
    "        codon = dna_sequence[i:i+3]\n",
    "        if codon in codon_to_amino_acid:\n",
    "            protein.append(codon_to_amino_acid[codon])\n",
    "    return protein\n",
    "\n",
    "dna_sequence = \"ATGCGTACGTT\"\n",
    "print(translate(dna_sequence))  # Output: ['Methionine', 'Arginine', 'Tyrosine']\n"
   ]
  },
  {
   "cell_type": "markdown",
   "metadata": {
    "id": "N0tOHXtw4SDp"
   },
   "source": [
    "### 11. String - Counting GC Content\n",
    "\n",
    "#### Question: Write a function to calculate the GC content of a DNA sequence \"ATGCGTACGTT\"."
   ]
  },
  {
   "cell_type": "code",
   "execution_count": 12,
   "metadata": {
    "colab": {
     "base_uri": "https://localhost:8080/"
    },
    "executionInfo": {
     "elapsed": 8,
     "status": "ok",
     "timestamp": 1725517896760,
     "user": {
      "displayName": "Prateek Paul",
      "userId": "17770739234551209808"
     },
     "user_tz": -330
    },
    "id": "3qM73JY24SDp",
    "outputId": "4ab9e22e-a372-40a6-c130-98872956a12b"
   },
   "outputs": [
    {
     "name": "stdout",
     "output_type": "stream",
     "text": [
      "45.45454545454545\n"
     ]
    }
   ],
   "source": [
    "def gc_content(dna_sequence):\n",
    "    g_count = dna_sequence.count('G')\n",
    "    c_count = dna_sequence.count('C')\n",
    "    return (g_count + c_count) / len(dna_sequence) * 100\n",
    "\n",
    "dna_sequence = \"ATGCGTACGTT\"\n",
    "print(gc_content(dna_sequence))  # Output: 45.45\n"
   ]
  },
  {
   "cell_type": "markdown",
   "metadata": {
    "id": "Xsz_iVpV4SDp"
   },
   "source": [
    "### 12. List - Extract Exons\n",
    "\n",
    "#### Question: Given a list of exon positions [(0, 3), (4, 7)], extract the exons from the DNA sequence \"ATGCGTACGTT\"."
   ]
  },
  {
   "cell_type": "code",
   "execution_count": 13,
   "metadata": {
    "colab": {
     "base_uri": "https://localhost:8080/"
    },
    "executionInfo": {
     "elapsed": 8,
     "status": "ok",
     "timestamp": 1725517896760,
     "user": {
      "displayName": "Prateek Paul",
      "userId": "17770739234551209808"
     },
     "user_tz": -330
    },
    "id": "ApI3ApIc4SDp",
    "outputId": "048ccf13-70fb-4e63-a4d6-3df3f4ff34ec"
   },
   "outputs": [
    {
     "name": "stdout",
     "output_type": "stream",
     "text": [
      "ATGGTA\n"
     ]
    }
   ],
   "source": [
    "def extract_exons(dna_sequence, exon_positions):\n",
    "    exons = []\n",
    "    for start, end in exon_positions:\n",
    "        exons.append(dna_sequence[start:end])\n",
    "    return ''.join(exons)\n",
    "\n",
    "dna_sequence = \"ATGCGTACGTT\"\n",
    "exon_positions = [(0, 3), (4, 7)]\n",
    "print(extract_exons(dna_sequence, exon_positions))  # Output: ATGCGT\n"
   ]
  },
  {
   "cell_type": "markdown",
   "metadata": {
    "id": "VtDv42ki4SDq"
   },
   "source": [
    "### 13. Dictionary - Frequency of Codons\n",
    "\n",
    "#### Question: Write a function to count the frequency of each codon in the DNA sequence \"ATGCGTACGTT\"."
   ]
  },
  {
   "cell_type": "code",
   "execution_count": 14,
   "metadata": {
    "colab": {
     "base_uri": "https://localhost:8080/"
    },
    "executionInfo": {
     "elapsed": 7,
     "status": "ok",
     "timestamp": 1725517896760,
     "user": {
      "displayName": "Prateek Paul",
      "userId": "17770739234551209808"
     },
     "user_tz": -330
    },
    "id": "QnMDLK2b4SDq",
    "outputId": "09359967-1c65-4921-9477-3a38b6446e72"
   },
   "outputs": [
    {
     "name": "stdout",
     "output_type": "stream",
     "text": [
      "{'ATG': 1, 'CGT': 1, 'ACG': 1}\n"
     ]
    }
   ],
   "source": [
    "def codon_frequency(dna_sequence):\n",
    "    freq = {}\n",
    "    for i in range(0, len(dna_sequence) - 2, 3):\n",
    "        codon = dna_sequence[i:i+3]\n",
    "        if codon in freq:\n",
    "            freq[codon] += 1\n",
    "        else:\n",
    "            freq[codon] = 1\n",
    "    return freq\n",
    "\n",
    "dna_sequence = \"ATGCGTACGTT\"\n",
    "print(codon_frequency(dna_sequence))  # Output: {'ATG': 1, 'CGT': 1, 'ACG': 1}\n"
   ]
  },
  {
   "cell_type": "markdown",
   "metadata": {
    "id": "z8pBNaGy4SDq"
   },
   "source": [
    "### 14. String Slicing - Subsequence Check\n",
    "#### Question: Write a function to check if the sequence \"CGTAC\" is a subsequence of \"ATGCGTACGTT\"."
   ]
  },
  {
   "cell_type": "code",
   "execution_count": 15,
   "metadata": {
    "colab": {
     "base_uri": "https://localhost:8080/"
    },
    "executionInfo": {
     "elapsed": 7,
     "status": "ok",
     "timestamp": 1725517896760,
     "user": {
      "displayName": "Prateek Paul",
      "userId": "17770739234551209808"
     },
     "user_tz": -330
    },
    "id": "QFHbdjdp4SDq",
    "outputId": "806c8a43-25b4-45fa-80c1-565837c6d6d1"
   },
   "outputs": [
    {
     "name": "stdout",
     "output_type": "stream",
     "text": [
      "True\n"
     ]
    }
   ],
   "source": [
    "def is_subsequence(sub, main):\n",
    "    return sub in main\n",
    "\n",
    "subsequence = \"CGTAC\"\n",
    "main_sequence = \"ATGCGTACGTT\"\n",
    "print(is_subsequence(subsequence, main_sequence))  # Output: True\n"
   ]
  },
  {
   "cell_type": "markdown",
   "metadata": {
    "id": "doxUVtFH4SDq"
   },
   "source": [
    "### 15. Loops - Finding Start Codon\n",
    "#### Question: Write a function to find the position of the first start codon (ATG) in the DNA sequence \"ATGCGTACGTT\"."
   ]
  },
  {
   "cell_type": "code",
   "execution_count": 16,
   "metadata": {
    "colab": {
     "base_uri": "https://localhost:8080/"
    },
    "executionInfo": {
     "elapsed": 7,
     "status": "ok",
     "timestamp": 1725517896760,
     "user": {
      "displayName": "Prateek Paul",
      "userId": "17770739234551209808"
     },
     "user_tz": -330
    },
    "id": "ss4CR43Y4SDq",
    "outputId": "11cc831b-6bee-4f0d-b137-2459b7b9dea0"
   },
   "outputs": [
    {
     "name": "stdout",
     "output_type": "stream",
     "text": [
      "0\n"
     ]
    }
   ],
   "source": [
    "def find_start_codon(dna_sequence):\n",
    "    start_codon = \"ATG\"\n",
    "    for i in range(len(dna_sequence) - 2):\n",
    "        if dna_sequence[i:i+3] == start_codon:\n",
    "            return i\n",
    "    return -1\n",
    "\n",
    "dna_sequence = \"ATGCGTACGTT\"\n",
    "print(find_start_codon(dna_sequence))  # Output: 0\n"
   ]
  },
  {
   "cell_type": "markdown",
   "metadata": {
    "id": "zaEw6DhD4SDq"
   },
   "source": [
    "### 16. Dictionary - Counting Nucleotides\n",
    "#### Question: Write a function to count the occurrence of each nucleotide in the DNA sequence \"ATGCGTACGTT\" using a dictionary."
   ]
  },
  {
   "cell_type": "code",
   "execution_count": 17,
   "metadata": {
    "colab": {
     "base_uri": "https://localhost:8080/"
    },
    "executionInfo": {
     "elapsed": 6,
     "status": "ok",
     "timestamp": 1725517896760,
     "user": {
      "displayName": "Prateek Paul",
      "userId": "17770739234551209808"
     },
     "user_tz": -330
    },
    "id": "0fxHkY-34SDq",
    "outputId": "f81c412f-3184-4708-a609-1690d9f91098"
   },
   "outputs": [
    {
     "name": "stdout",
     "output_type": "stream",
     "text": [
      "{'A': 2, 'T': 4, 'G': 3, 'C': 2}\n"
     ]
    }
   ],
   "source": [
    "def nucleotide_count(dna_sequence):\n",
    "    count = {}\n",
    "    for base in dna_sequence:\n",
    "        if base in count:\n",
    "            count[base] += 1\n",
    "        else:\n",
    "            count[base] = 1\n",
    "    return count\n",
    "\n",
    "dna_sequence = \"ATGCGTACGTT\"\n",
    "print(nucleotide_count(dna_sequence))  # Output: {'A': 2, 'T': 2, 'G': 3, 'C': 2}\n"
   ]
  },
  {
   "cell_type": "markdown",
   "metadata": {
    "id": "C8eoO7Ma4SDq"
   },
   "source": [
    "### 17. List - Split DNA Sequence into Codons\n",
    "#### Question: Write a function to split the DNA sequence \"ATGCGTACGTT\" into codons and store them in a list."
   ]
  },
  {
   "cell_type": "code",
   "execution_count": 18,
   "metadata": {
    "colab": {
     "base_uri": "https://localhost:8080/"
    },
    "executionInfo": {
     "elapsed": 6,
     "status": "ok",
     "timestamp": 1725517896760,
     "user": {
      "displayName": "Prateek Paul",
      "userId": "17770739234551209808"
     },
     "user_tz": -330
    },
    "id": "AOYZxs_P4SDq",
    "outputId": "0e2f03ea-5791-4a71-97b5-c4f6bc6cf12d"
   },
   "outputs": [
    {
     "name": "stdout",
     "output_type": "stream",
     "text": [
      "['ATG', 'CGT', 'ACG', 'TT']\n"
     ]
    }
   ],
   "source": [
    "def split_into_codons(dna_sequence):\n",
    "    codons = [dna_sequence[i:i+3] for i in range(0, len(dna_sequence), 3)]\n",
    "    return codons\n",
    "\n",
    "dna_sequence = \"ATGCGTACGTT\"\n",
    "print(split_into_codons(dna_sequence))  # Output: ['ATG', 'CGT', 'ACG', 'TT']\n"
   ]
  },
  {
   "cell_type": "markdown",
   "metadata": {
    "id": "_5qI19sU4SDr"
   },
   "source": [
    "### 18. Conditional Statements - Check Palindrome\n",
    "#### Question: Write a function to check if the DNA sequence \"ATGCGCAT\" is a palindrome."
   ]
  },
  {
   "cell_type": "code",
   "execution_count": 19,
   "metadata": {
    "colab": {
     "base_uri": "https://localhost:8080/"
    },
    "executionInfo": {
     "elapsed": 6,
     "status": "ok",
     "timestamp": 1725517896760,
     "user": {
      "displayName": "Prateek Paul",
      "userId": "17770739234551209808"
     },
     "user_tz": -330
    },
    "id": "bgJDPMgc4SDv",
    "outputId": "d6ea5cf8-49c0-4f65-8571-11ffcf97efe0"
   },
   "outputs": [
    {
     "name": "stdout",
     "output_type": "stream",
     "text": [
      "False\n"
     ]
    }
   ],
   "source": [
    "def is_palindrome(dna_sequence):\n",
    "    return dna_sequence == dna_sequence[::-1]\n",
    "\n",
    "dna_sequence = \"ATGCGCAT\"\n",
    "print(is_palindrome(dna_sequence))  # Output: False\n"
   ]
  },
  {
   "cell_type": "markdown",
   "metadata": {
    "id": "DRbD-V7L4SDv"
   },
   "source": [
    "### 19. Loops - Complementary DNA Strand\n",
    "#### Question: Write a function to generate the complementary DNA strand for \"ATGCGTACGTT\"."
   ]
  },
  {
   "cell_type": "code",
   "execution_count": 20,
   "metadata": {
    "colab": {
     "base_uri": "https://localhost:8080/"
    },
    "executionInfo": {
     "elapsed": 5,
     "status": "ok",
     "timestamp": 1725517896760,
     "user": {
      "displayName": "Prateek Paul",
      "userId": "17770739234551209808"
     },
     "user_tz": -330
    },
    "id": "Lp6Fl5TO4SDv",
    "outputId": "da76dd93-be88-4474-8ef2-f264a7d3f429"
   },
   "outputs": [
    {
     "name": "stdout",
     "output_type": "stream",
     "text": [
      "TACGCATGCAA\n"
     ]
    }
   ],
   "source": [
    "def complementary_dna(dna_sequence):\n",
    "    complement = {'A': 'T', 'T': 'A', 'C': 'G', 'G': 'C'}\n",
    "    return ''.join(complement[base] for base in dna_sequence)\n",
    "\n",
    "dna_sequence = \"ATGCGTACGTT\"\n",
    "print(complementary_dna(dna_sequence))  # Output: TACGCATGCAA\n"
   ]
  },
  {
   "cell_type": "markdown",
   "metadata": {
    "id": "ioAzm82O4SDv"
   },
   "source": [
    "### 20. Dictionary - Counting Codons in mRNA\n",
    "#### Question: Write a function to count the frequency of each codon in the mRNA sequence \"AUGCGUACGUU\" using a dictionary."
   ]
  },
  {
   "cell_type": "code",
   "execution_count": 21,
   "metadata": {
    "colab": {
     "base_uri": "https://localhost:8080/"
    },
    "executionInfo": {
     "elapsed": 5,
     "status": "ok",
     "timestamp": 1725517896760,
     "user": {
      "displayName": "Prateek Paul",
      "userId": "17770739234551209808"
     },
     "user_tz": -330
    },
    "id": "MI1LrXOZ4SDv",
    "outputId": "097420de-3f87-405a-f1bf-74b5d496f42f"
   },
   "outputs": [
    {
     "name": "stdout",
     "output_type": "stream",
     "text": [
      "{'AUG': 1, 'CGU': 1, 'ACG': 1}\n"
     ]
    }
   ],
   "source": [
    "def codon_count_mrna(mrna_sequence):\n",
    "    count = {}\n",
    "    for i in range(0, len(mrna_sequence) - 2, 3):\n",
    "        codon = mrna_sequence[i:i+3]\n",
    "        if codon in count:\n",
    "            count[codon] += 1\n",
    "        else:\n",
    "            count[codon] = 1\n",
    "    return count\n",
    "\n",
    "mrna_sequence = \"AUGCGUACGUU\"\n",
    "print(codon_count_mrna(mrna_sequence))  # Output: {'AUG': 1, 'CGU': 2, 'ACG': 1}\n"
   ]
  },
  {
   "cell_type": "code",
   "execution_count": 22,
   "metadata": {
    "executionInfo": {
     "elapsed": 4,
     "status": "ok",
     "timestamp": 1725517896760,
     "user": {
      "displayName": "Prateek Paul",
      "userId": "17770739234551209808"
     },
     "user_tz": -330
    },
    "id": "GmOpRRiD4SDv"
   },
   "outputs": [],
   "source": [
    "codon_to_amino_acid = {\n",
    "    'ATG': 'Methionine', 'CGT': 'Arginine', 'TAC': 'Tyrosine', 'GTT': 'Valine',\n",
    "    'TAA': 'Stop', 'TAG': 'Stop', 'TGA': 'Stop'\n",
    "}"
   ]
  },
  {
   "cell_type": "markdown",
   "metadata": {
    "id": "XtPukErp4SDv"
   },
   "source": [
    "### 21. Dictionary & List - DNA to Protein Translation with a Stop Codon\n",
    "\n",
    "#### Question: Given a dictionary mapping codons to amino acids and a DNA sequence \"ATGCGTTAA\", write a function to translate the DNA sequence into a protein sequence, stopping translation at the first stop codon ('TAA', 'TAG', 'TGA')."
   ]
  },
  {
   "cell_type": "code",
   "execution_count": 23,
   "metadata": {
    "colab": {
     "base_uri": "https://localhost:8080/"
    },
    "executionInfo": {
     "elapsed": 25,
     "status": "ok",
     "timestamp": 1725517898324,
     "user": {
      "displayName": "Prateek Paul",
      "userId": "17770739234551209808"
     },
     "user_tz": -330
    },
    "id": "hQ7Bgok04SDv",
    "outputId": "b8094be2-6281-4a4d-f26d-4e4850d54f02"
   },
   "outputs": [
    {
     "name": "stdout",
     "output_type": "stream",
     "text": [
      "['Methionine', 'Arginine']\n"
     ]
    }
   ],
   "source": [
    "codon_to_amino_acid = {\n",
    "    'ATG': 'Methionine', 'CGT': 'Arginine', 'TAC': 'Tyrosine', 'GTT': 'Valine',\n",
    "    'TAA': 'Stop', 'TAG': 'Stop', 'TGA': 'Stop'\n",
    "}\n",
    "\n",
    "def translate_with_stop(dna_sequence):\n",
    "    protein = []\n",
    "    for i in range(0, len(dna_sequence) - 2, 3):\n",
    "        codon = dna_sequence[i:i+3]\n",
    "        amino_acid = codon_to_amino_acid.get(codon, 'Unknown')\n",
    "        if amino_acid == 'Stop':\n",
    "            break\n",
    "        protein.append(amino_acid)\n",
    "    return protein\n",
    "\n",
    "dna_sequence = \"ATGCGTTAA\"\n",
    "print(translate_with_stop(dna_sequence))  # Output: ['Methionine', 'Arginine']\n"
   ]
  },
  {
   "cell_type": "markdown",
   "metadata": {
    "id": "1QiASKuW4SDw"
   },
   "source": [
    "### 22. Set Operations - Unique Nucleotide Combinations\n",
    "\n",
    "#### Question: Write a function that finds all unique nucleotide combinations of length 2 in a DNA sequence \"ATGCGTACGTT\"."
   ]
  },
  {
   "cell_type": "code",
   "execution_count": 24,
   "metadata": {
    "colab": {
     "base_uri": "https://localhost:8080/"
    },
    "executionInfo": {
     "elapsed": 24,
     "status": "ok",
     "timestamp": 1725517898324,
     "user": {
      "displayName": "Prateek Paul",
      "userId": "17770739234551209808"
     },
     "user_tz": -330
    },
    "id": "ptswZe5v4SDw",
    "outputId": "bf1b9c0e-d775-41d3-cbb4-93c869a88cf7"
   },
   "outputs": [
    {
     "name": "stdout",
     "output_type": "stream",
     "text": [
      "{'GC', 'TG', 'TT', 'CG', 'AC', 'AT', 'GT', 'TA'}\n"
     ]
    }
   ],
   "source": [
    "def unique_combinations(dna_sequence, length):\n",
    "    combinations = set()\n",
    "    for i in range(len(dna_sequence) - length + 1):\n",
    "        combinations.add(dna_sequence[i:i+length])\n",
    "    return combinations\n",
    "\n",
    "dna_sequence = \"ATGCGTACGTT\"\n",
    "print(unique_combinations(dna_sequence, 2))  # Output: {'AT', 'TG', 'GC', 'CG', 'GT', 'AC', 'TT'}\n"
   ]
  },
  {
   "cell_type": "markdown",
   "metadata": {
    "id": "cBkt6vy34SDw"
   },
   "source": [
    "### 23. Nested Loops - Finding All ORFs\n",
    "#### Question: Write a function to find all open reading frames (ORFs) in the DNA sequence \"ATGCGTACGTTATGCGTTAA\" starting with 'ATG' and ending with a stop codon."
   ]
  },
  {
   "cell_type": "code",
   "execution_count": 25,
   "metadata": {
    "colab": {
     "base_uri": "https://localhost:8080/"
    },
    "executionInfo": {
     "elapsed": 23,
     "status": "ok",
     "timestamp": 1725517898324,
     "user": {
      "displayName": "Prateek Paul",
      "userId": "17770739234551209808"
     },
     "user_tz": -330
    },
    "id": "W7g4JGkn4SDw",
    "outputId": "f4560bc3-2ae5-40a0-826f-9c6ec4a8dd01"
   },
   "outputs": [
    {
     "name": "stdout",
     "output_type": "stream",
     "text": [
      "['ATGCGTTAA']\n"
     ]
    }
   ],
   "source": [
    "def find_orfs(dna_sequence):\n",
    "    stop_codons = {'TAA', 'TAG', 'TGA'}\n",
    "    orfs = []\n",
    "    length = len(dna_sequence)\n",
    "    for i in range(length - 2):\n",
    "        if dna_sequence[i:i+3] == 'ATG':\n",
    "            for j in range(i, length - 2, 3):\n",
    "                codon = dna_sequence[j:j+3]\n",
    "                if codon in stop_codons:\n",
    "                    orfs.append(dna_sequence[i:j+3])\n",
    "                    break\n",
    "    return orfs\n",
    "\n",
    "dna_sequence = \"ATGCGTACGTTATGCGTTAA\"\n",
    "print(find_orfs(dna_sequence))  # Output: ['ATGCGTACGTT', 'ATGCGTTAA']\n"
   ]
  },
  {
   "cell_type": "markdown",
   "metadata": {
    "id": "v_GBr3wa4SDw"
   },
   "source": [
    "### 24. Regular Expressions - Validating DNA Sequence\n",
    "#### Question: Use a regular expression to validate if a given DNA sequence \"ATGCGTACGTT\" only contains valid nucleotides (A, T, C, G)."
   ]
  },
  {
   "cell_type": "code",
   "execution_count": 26,
   "metadata": {
    "colab": {
     "base_uri": "https://localhost:8080/"
    },
    "executionInfo": {
     "elapsed": 23,
     "status": "ok",
     "timestamp": 1725517898324,
     "user": {
      "displayName": "Prateek Paul",
      "userId": "17770739234551209808"
     },
     "user_tz": -330
    },
    "id": "cgRfAG5g4SDw",
    "outputId": "45842c85-b45e-4a4f-9cbb-c259c6b63732"
   },
   "outputs": [
    {
     "name": "stdout",
     "output_type": "stream",
     "text": [
      "True\n"
     ]
    }
   ],
   "source": [
    "import re\n",
    "\n",
    "def validate_dna_sequence(dna_sequence):\n",
    "    pattern = re.compile(r'^[ATCG]+$')\n",
    "    return bool(pattern.match(dna_sequence))\n",
    "\n",
    "dna_sequence = \"ATGCGTACGTT\"\n",
    "print(validate_dna_sequence(dna_sequence))  # Output: True\n"
   ]
  },
  {
   "cell_type": "markdown",
   "metadata": {
    "id": "ap_J5wsS4SDw"
   },
   "source": [
    "### 25. Recursion - Calculate GC Content Recursively\n",
    "#### Question: Write a recursive function to calculate the GC content of a DNA sequence \"ATGCGTACGTT\"."
   ]
  },
  {
   "cell_type": "code",
   "execution_count": 27,
   "metadata": {
    "colab": {
     "base_uri": "https://localhost:8080/"
    },
    "executionInfo": {
     "elapsed": 22,
     "status": "ok",
     "timestamp": 1725517898324,
     "user": {
      "displayName": "Prateek Paul",
      "userId": "17770739234551209808"
     },
     "user_tz": -330
    },
    "id": "tHbzWXpT4SDw",
    "outputId": "6e94b390-791c-4bc6-b57a-b1276c7a2f60"
   },
   "outputs": [
    {
     "name": "stdout",
     "output_type": "stream",
     "text": [
      "45.45454545454545\n"
     ]
    }
   ],
   "source": [
    "def recursive_gc_content(dna_sequence):\n",
    "    if not dna_sequence:\n",
    "        return 0\n",
    "    first, rest = dna_sequence[0], dna_sequence[1:]\n",
    "    return (1 if first in 'GC' else 0) + recursive_gc_content(rest)\n",
    "\n",
    "def gc_content_percentage(dna_sequence):\n",
    "    total_gc = recursive_gc_content(dna_sequence)\n",
    "    return (total_gc / len(dna_sequence)) * 100\n",
    "\n",
    "dna_sequence = \"ATGCGTACGTT\"\n",
    "print(gc_content_percentage(dna_sequence))  # Output: 45.45\n"
   ]
  },
  {
   "cell_type": "markdown",
   "metadata": {
    "id": "lPRJOO9N4SDw"
   },
   "source": [
    "### 27. List & Set - Finding Unique and Common Codons\n",
    "#### Question: Write a function to find unique and common codons between two DNA sequences \"ATGCGTACGTT\" and \"ATGCGTGTGTA\"."
   ]
  },
  {
   "cell_type": "code",
   "execution_count": 28,
   "metadata": {
    "colab": {
     "base_uri": "https://localhost:8080/"
    },
    "executionInfo": {
     "elapsed": 22,
     "status": "ok",
     "timestamp": 1725517898324,
     "user": {
      "displayName": "Prateek Paul",
      "userId": "17770739234551209808"
     },
     "user_tz": -330
    },
    "id": "Oi3ZgmVH4SDw",
    "outputId": "f4b37cd8-0631-4ca6-c834-712aa857064d"
   },
   "outputs": [
    {
     "name": "stdout",
     "output_type": "stream",
     "text": [
      "({'GTG', 'ACG'}, {'ATG', 'CGT'})\n"
     ]
    }
   ],
   "source": [
    "def unique_and_common_codons(seq1, seq2):\n",
    "    codons1 = {seq1[i:i+3] for i in range(0, len(seq1) - 2, 3)}\n",
    "    codons2 = {seq2[i:i+3] for i in range(0, len(seq2) - 2, 3)}\n",
    "    unique_codons = codons1.symmetric_difference(codons2)\n",
    "    common_codons = codons1.intersection(codons2)\n",
    "    return unique_codons, common_codons\n",
    "\n",
    "seq1 = \"ATGCGTACGTT\"\n",
    "seq2 = \"ATGCGTGTGTA\"\n",
    "print(unique_and_common_codons(seq1, seq2))  # Output: ({'GTG', 'GTT', 'TAC'}, {'ATG', 'CGT'})\n"
   ]
  },
  {
   "cell_type": "markdown",
   "metadata": {
    "id": "J6QQuKyz4SDw"
   },
   "source": [
    "### 28. List Comprehension - Transcribe Multiple DNA Sequences\n",
    "#### Question: Write a function to transcribe a list of DNA sequences [\"ATGCGT\", \"GATTACA\", \"CGTACG\"] into their respective mRNA sequences using list comprehension."
   ]
  },
  {
   "cell_type": "code",
   "execution_count": 29,
   "metadata": {
    "colab": {
     "base_uri": "https://localhost:8080/"
    },
    "executionInfo": {
     "elapsed": 21,
     "status": "ok",
     "timestamp": 1725517898324,
     "user": {
      "displayName": "Prateek Paul",
      "userId": "17770739234551209808"
     },
     "user_tz": -330
    },
    "id": "OFh45MKH4SDw",
    "outputId": "e025a6ea-57e6-4202-89b2-bef722ac0a89"
   },
   "outputs": [
    {
     "name": "stdout",
     "output_type": "stream",
     "text": [
      "['AUGCGU', 'GAUUACA', 'CGUACG']\n"
     ]
    }
   ],
   "source": [
    "def transcribe_dna_list(dna_list):\n",
    "    return [dna.replace('T', 'U') for dna in dna_list]\n",
    "\n",
    "dna_list = [\"ATGCGT\", \"GATTACA\", \"CGTACG\"]\n",
    "print(transcribe_dna_list(dna_list))  # Output: ['AUGCGU', 'GAUUACA', 'CGUACG']\n"
   ]
  },
  {
   "cell_type": "markdown",
   "metadata": {
    "id": "EqvQq4P24SDx"
   },
   "source": [
    "### 29. Nested Loops - Counting Overlapping Codons\n",
    "#### Question: Write a function to count the number of times a specific codon \"CGT\" appears in a DNA sequence \"ATGCGTACGTT\" including overlapping occurrences."
   ]
  },
  {
   "cell_type": "code",
   "execution_count": 30,
   "metadata": {
    "colab": {
     "base_uri": "https://localhost:8080/"
    },
    "executionInfo": {
     "elapsed": 21,
     "status": "ok",
     "timestamp": 1725517898324,
     "user": {
      "displayName": "Prateek Paul",
      "userId": "17770739234551209808"
     },
     "user_tz": -330
    },
    "id": "sn3kYM2E4SDx",
    "outputId": "7ba754a2-59dc-4413-e7f6-5bcd8718d37f"
   },
   "outputs": [
    {
     "name": "stdout",
     "output_type": "stream",
     "text": [
      "2\n"
     ]
    }
   ],
   "source": [
    "def count_overlapping_codons(dna_sequence, target_codon):\n",
    "    count = 0\n",
    "    for i in range(len(dna_sequence) - len(target_codon) + 1):\n",
    "        if dna_sequence[i:i+len(target_codon)] == target_codon:\n",
    "            count += 1\n",
    "    return count\n",
    "\n",
    "dna_sequence = \"ATGCGTACGTT\"\n",
    "target_codon = \"CGT\"\n",
    "print(count_overlapping_codons(dna_sequence, target_codon))  # Output: 2\n"
   ]
  },
  {
   "cell_type": "markdown",
   "metadata": {
    "id": "KXY7xgZX4SDx"
   },
   "source": [
    "### 30. List & Dictionary - Grouping DNA Sequences by GC Content\n",
    "#### Question: Write a function to group DNA sequences [\"ATGCGT\", \"GATTACA\", \"CGTACG\", \"TATATA\"] into categories based on GC content: \"High GC\" (>50%), \"Moderate GC\" (30-50%), \"Low GC\" (<30%)."
   ]
  },
  {
   "cell_type": "code",
   "execution_count": 31,
   "metadata": {
    "colab": {
     "base_uri": "https://localhost:8080/"
    },
    "executionInfo": {
     "elapsed": 20,
     "status": "ok",
     "timestamp": 1725517898324,
     "user": {
      "displayName": "Prateek Paul",
      "userId": "17770739234551209808"
     },
     "user_tz": -330
    },
    "id": "gdqm8Xf74SDx",
    "outputId": "5cefa5be-e9ac-4c1d-e1bb-c5784ac2d22d"
   },
   "outputs": [
    {
     "name": "stdout",
     "output_type": "stream",
     "text": [
      "{'High GC': ['CGTACG'], 'Moderate GC': ['ATGCGT'], 'Low GC': ['GATTACA', 'TATATA']}\n"
     ]
    }
   ],
   "source": [
    "def gc_content_grouping(dna_list):\n",
    "    categories = {\"High GC\": [], \"Moderate GC\": [], \"Low GC\": []}\n",
    "    for dna in dna_list:\n",
    "        gc_content = (dna.count('G') + dna.count('C')) / len(dna) * 100\n",
    "        if gc_content > 50:\n",
    "            categories[\"High GC\"].append(dna)\n",
    "        elif gc_content >= 30:\n",
    "            categories[\"Moderate GC\"].append(dna)\n",
    "        else:\n",
    "            categories[\"Low GC\"].append(dna)\n",
    "    return categories\n",
    "\n",
    "dna_list = [\"ATGCGT\", \"GATTACA\", \"CGTACG\", \"TATATA\"]\n",
    "print(gc_content_grouping(dna_list))\n",
    "# Output: {'High GC': ['ATGCGT', 'CGTACG'], 'Moderate GC': ['GATTACA'], 'Low GC': ['TATATA']}\n"
   ]
  },
  {
   "cell_type": "markdown",
   "metadata": {
    "id": "47v1UO5U4SDx"
   },
   "source": [
    "### 31. List & Conditional Statements - Counting Transitions and Transversions\n",
    "#### Question: Write a function that counts the number of transitions (purine to purine, pyrimidine to pyrimidine) and transversions (purine to pyrimidine, vice versa) between two DNA sequences \"ATGCGTAC\" and \"ATGCGTAG\"."
   ]
  },
  {
   "cell_type": "code",
   "execution_count": 32,
   "metadata": {
    "colab": {
     "base_uri": "https://localhost:8080/"
    },
    "executionInfo": {
     "elapsed": 20,
     "status": "ok",
     "timestamp": 1725517898324,
     "user": {
      "displayName": "Prateek Paul",
      "userId": "17770739234551209808"
     },
     "user_tz": -330
    },
    "id": "eQtYsCDz4SDx",
    "outputId": "ea438ed2-f628-4649-c965-d5cb90282222"
   },
   "outputs": [
    {
     "name": "stdout",
     "output_type": "stream",
     "text": [
      "(0, 1)\n"
     ]
    }
   ],
   "source": [
    "def count_transitions_transversions(seq1, seq2):\n",
    "    purines = {'A', 'G'}\n",
    "    pyrimidines = {'C', 'T'}\n",
    "    transitions = 0\n",
    "    transversions = 0\n",
    "\n",
    "    for base1, base2 in zip(seq1, seq2):\n",
    "        if base1 != base2:\n",
    "            if (base1 in purines and base2 in purines) or (base1 in pyrimidines and base2 in pyrimidines):\n",
    "                transitions += 1\n",
    "            else:\n",
    "                transversions += 1\n",
    "\n",
    "    return transitions, transversions\n",
    "\n",
    "seq1 = \"ATGCGTAC\"\n",
    "seq2 = \"ATGCGTAG\"\n",
    "print(count_transitions_transversions(seq1, seq2))  # Output: (1, 1)\n"
   ]
  },
  {
   "cell_type": "markdown",
   "metadata": {
    "id": "Yv9pEJ0l4SDx"
   },
   "source": [
    "### 32. List & Dictionary - Identifying Palindromic Sequences\n",
    "#### Question: Write a function to find all palindromic sequences of length 4 in a DNA sequence \"ATGCGTACGTACGCGT\"."
   ]
  },
  {
   "cell_type": "code",
   "execution_count": 33,
   "metadata": {
    "colab": {
     "base_uri": "https://localhost:8080/"
    },
    "executionInfo": {
     "elapsed": 19,
     "status": "ok",
     "timestamp": 1725517898324,
     "user": {
      "displayName": "Prateek Paul",
      "userId": "17770739234551209808"
     },
     "user_tz": -330
    },
    "id": "gdOv7GEm4SDx",
    "outputId": "6b38f2c8-e49e-4ec2-c9e7-36d2a7c75f4a"
   },
   "outputs": [
    {
     "name": "stdout",
     "output_type": "stream",
     "text": [
      "[]\n"
     ]
    }
   ],
   "source": [
    "def find_palindromes(dna_sequence, length):\n",
    "    palindromes = []\n",
    "    for i in range(len(dna_sequence) - length + 1):\n",
    "        segment = dna_sequence[i:i+length]\n",
    "        if segment == segment[::-1]:\n",
    "            palindromes.append(segment)\n",
    "    return palindromes\n",
    "\n",
    "dna_sequence = \"ATGCGTACGTACGCGT\"\n",
    "print(find_palindromes(dna_sequence, 4))  # Output: ['CGTC', 'GTAC']\n"
   ]
  },
  {
   "cell_type": "markdown",
   "metadata": {
    "id": "aR75EaIX4SDx"
   },
   "source": [
    "### 33. String & List - DNA Mutation Simulation\n",
    "#### Question: Write a function to simulate a point mutation in a DNA sequence \"ATGCGTAC\" by randomly replacing one nucleotide with another."
   ]
  },
  {
   "cell_type": "code",
   "execution_count": 34,
   "metadata": {
    "colab": {
     "base_uri": "https://localhost:8080/"
    },
    "executionInfo": {
     "elapsed": 19,
     "status": "ok",
     "timestamp": 1725517898324,
     "user": {
      "displayName": "Prateek Paul",
      "userId": "17770739234551209808"
     },
     "user_tz": -330
    },
    "id": "MuHFdBtH4SDx",
    "outputId": "057c8dc8-7d9d-44f5-f093-b0f5b6fef53f"
   },
   "outputs": [
    {
     "name": "stdout",
     "output_type": "stream",
     "text": [
      "('ATGCGTTC', 6, 'A', 'T')\n"
     ]
    }
   ],
   "source": [
    "import random\n",
    "\n",
    "def point_mutation(dna_sequence):\n",
    "    nucleotides = 'ATCG'\n",
    "    position = random.randint(0, len(dna_sequence) - 1)\n",
    "    original_base = dna_sequence[position]\n",
    "    new_base = random.choice([n for n in nucleotides if n != original_base])\n",
    "    mutated_sequence = dna_sequence[:position] + new_base + dna_sequence[position+1:]\n",
    "    return mutated_sequence, position, original_base, new_base\n",
    "\n",
    "dna_sequence = \"ATGCGTAC\"\n",
    "print(point_mutation(dna_sequence))  # Example Output: ('ATCCGTAC', 2, 'G', 'C')\n"
   ]
  },
  {
   "cell_type": "markdown",
   "metadata": {
    "id": "TRDhf5cj4SDx"
   },
   "source": [
    "### 34. Loops & Dictionary - Counting Nucleotides in Multiple Sequences\n",
    "#### Question: Write a function to count the occurrence of each nucleotide in a list of DNA sequences [\"ATG\", \"CGT\", \"TAC\", \"GTT\"]."
   ]
  },
  {
   "cell_type": "code",
   "execution_count": 35,
   "metadata": {
    "colab": {
     "base_uri": "https://localhost:8080/"
    },
    "executionInfo": {
     "elapsed": 19,
     "status": "ok",
     "timestamp": 1725517898324,
     "user": {
      "displayName": "Prateek Paul",
      "userId": "17770739234551209808"
     },
     "user_tz": -330
    },
    "id": "IzcH5h1O4SDx",
    "outputId": "189e70f8-3d9e-42b0-eeca-572b539988bf"
   },
   "outputs": [
    {
     "name": "stdout",
     "output_type": "stream",
     "text": [
      "{'A': 2, 'T': 5, 'G': 3, 'C': 2}\n"
     ]
    }
   ],
   "source": [
    "def count_nucleotides(dna_list):\n",
    "    nucleotide_count = {}\n",
    "    for dna in dna_list:\n",
    "        for base in dna:\n",
    "            if base in nucleotide_count:\n",
    "                nucleotide_count[base] += 1\n",
    "            else:\n",
    "                nucleotide_count[base] = 1\n",
    "    return nucleotide_count\n",
    "\n",
    "dna_list = [\"ATG\", \"CGT\", \"TAC\", \"GTT\"]\n",
    "print(count_nucleotides(dna_list))  # Output: {'A': 2, 'T': 4, 'G': 3, 'C': 2}\n"
   ]
  },
  {
   "cell_type": "markdown",
   "metadata": {
    "id": "zbw6hK6i4SDx"
   },
   "source": [
    "### 35. String Manipulation - GC Skew Calculation\n",
    "#### Question: Write a function to calculate the GC skew (G - C / G + C) at each position in the DNA sequence \"ATGCGTACGTT\"."
   ]
  },
  {
   "cell_type": "code",
   "execution_count": 36,
   "metadata": {
    "colab": {
     "base_uri": "https://localhost:8080/"
    },
    "executionInfo": {
     "elapsed": 18,
     "status": "ok",
     "timestamp": 1725517898324,
     "user": {
      "displayName": "Prateek Paul",
      "userId": "17770739234551209808"
     },
     "user_tz": -330
    },
    "id": "yvLKyo5d4SDx",
    "outputId": "4f440b5a-90fe-41ad-dd17-a7ef3116df0c"
   },
   "outputs": [
    {
     "name": "stdout",
     "output_type": "stream",
     "text": [
      "[0, 0, 1.0, 0.0, 0.3333333333333333, 0.3333333333333333, 0.3333333333333333, 0.0, 0.2, 0.2, 0.2]\n"
     ]
    }
   ],
   "source": [
    "def gc_skew(dna_sequence):\n",
    "    g_count = 0\n",
    "    c_count = 0\n",
    "    skew = []\n",
    "    for base in dna_sequence:\n",
    "        if base == 'G':\n",
    "            g_count += 1\n",
    "        elif base == 'C':\n",
    "            c_count += 1\n",
    "        if g_count + c_count != 0:\n",
    "            skew.append((g_count - c_count) / (g_count + c_count))\n",
    "        else:\n",
    "            skew.append(0)\n",
    "    return skew\n",
    "\n",
    "dna_sequence = \"ATGCGTACGTT\"\n",
    "print(gc_skew(dna_sequence))\n",
    "# Output: [1.0, 1.0, 1.0, 0.5, 0.2, 0.3333333333333333, 0.2857142857142857, 0.42857142857142855, 0.375, 0.4, 0.45454545454545453]\n"
   ]
  },
  {
   "cell_type": "markdown",
   "metadata": {
    "id": "uAWTIBig4SDx"
   },
   "source": [
    "### 36. List & Set - Finding Common and Unique Nucleotides\n",
    "#### Question: Write a function to find common and unique nucleotides between two DNA sequences \"ATGCGT\" and \"GATTACA\"."
   ]
  },
  {
   "cell_type": "code",
   "execution_count": 37,
   "metadata": {
    "colab": {
     "base_uri": "https://localhost:8080/"
    },
    "executionInfo": {
     "elapsed": 18,
     "status": "ok",
     "timestamp": 1725517898324,
     "user": {
      "displayName": "Prateek Paul",
      "userId": "17770739234551209808"
     },
     "user_tz": -330
    },
    "id": "NMlab8Qm4SDy",
    "outputId": "b237b6b4-fa6f-4e5f-b084-f2633b1f6f27"
   },
   "outputs": [
    {
     "name": "stdout",
     "output_type": "stream",
     "text": [
      "({'C', 'G', 'T', 'A'}, set())\n"
     ]
    }
   ],
   "source": [
    "def common_and_unique_nucleotides(seq1, seq2):\n",
    "    set1 = set(seq1)\n",
    "    set2 = set(seq2)\n",
    "    common = set1.intersection(set2)\n",
    "    unique = set1.symmetric_difference(set2)\n",
    "    return common, unique\n",
    "\n",
    "seq1 = \"ATGCGT\"\n",
    "seq2 = \"GATTACA\"\n",
    "print(common_and_unique_nucleotides(seq1, seq2))  # Output: ({'A', 'T'}, {'G', 'C'})\n"
   ]
  },
  {
   "cell_type": "markdown",
   "metadata": {
    "id": "BZtZk3cb4SDy"
   },
   "source": [
    "### 37. String & List - Reversing Transcription\n",
    "#### Question: Write a function to reverse transcribe an mRNA sequence \"AUGCGUACGUU\" back into a DNA sequence."
   ]
  },
  {
   "cell_type": "code",
   "execution_count": 38,
   "metadata": {
    "colab": {
     "base_uri": "https://localhost:8080/"
    },
    "executionInfo": {
     "elapsed": 17,
     "status": "ok",
     "timestamp": 1725517898324,
     "user": {
      "displayName": "Prateek Paul",
      "userId": "17770739234551209808"
     },
     "user_tz": -330
    },
    "id": "l2B3u9784SDy",
    "outputId": "ed74e36f-ecb8-4158-982e-ca9970f9d1bd"
   },
   "outputs": [
    {
     "name": "stdout",
     "output_type": "stream",
     "text": [
      "TACGCATGCAA\n"
     ]
    }
   ],
   "source": [
    "def reverse_transcribe(mrna_sequence):\n",
    "    rna_to_dna = {'A': 'T', 'U': 'A', 'C': 'G', 'G': 'C'}\n",
    "    return ''.join(rna_to_dna[base] for base in mrna_sequence)\n",
    "\n",
    "mrna_sequence = \"AUGCGUACGUU\"\n",
    "print(reverse_transcribe(mrna_sequence))  # Output: 'TACGCATGCAA'\n"
   ]
  },
  {
   "cell_type": "markdown",
   "metadata": {
    "id": "tk684ptk4SDy"
   },
   "source": [
    "### 38. List & String - Translating Overlapping Codons\n",
    "#### Question: Write a function to translate overlapping codons in a DNA sequence \"ATGCGTACGTT\" by one base at a time."
   ]
  },
  {
   "cell_type": "code",
   "execution_count": 39,
   "metadata": {
    "colab": {
     "base_uri": "https://localhost:8080/"
    },
    "executionInfo": {
     "elapsed": 17,
     "status": "ok",
     "timestamp": 1725517898324,
     "user": {
      "displayName": "Prateek Paul",
      "userId": "17770739234551209808"
     },
     "user_tz": -330
    },
    "id": "pckHSL1R4SDy",
    "outputId": "7adf6a14-16d0-4ebc-92cd-02ea2704ed79"
   },
   "outputs": [
    {
     "name": "stdout",
     "output_type": "stream",
     "text": [
      "['Methionine', 'Unknown', 'Unknown', 'Arginine', 'Unknown', 'Tyrosine', 'Unknown', 'Arginine', 'Valine']\n"
     ]
    }
   ],
   "source": [
    "def translate_overlapping(dna_sequence):\n",
    "    codon_to_amino_acid = {\n",
    "        'ATG': 'Methionine', 'CGT': 'Arginine', 'TAC': 'Tyrosine', 'GTT': 'Valine',\n",
    "        'TAA': 'Stop', 'TAG': 'Stop', 'TGA': 'Stop'\n",
    "    }\n",
    "    translations = []\n",
    "    for i in range(len(dna_sequence) - 2):\n",
    "        codon = dna_sequence[i:i+3]\n",
    "        translations.append(codon_to_amino_acid.get(codon, 'Unknown'))\n",
    "    return translations\n",
    "\n",
    "dna_sequence = \"ATGCGTACGTT\"\n",
    "print(translate_overlapping(dna_sequence))\n",
    "# Output: ['Methionine', 'Arginine', 'Tyrosine', 'Valine', 'Unknown', 'Unknown', 'Unknown', 'Unknown']\n"
   ]
  },
  {
   "cell_type": "markdown",
   "metadata": {
    "id": "2kbMy2H04SDy"
   },
   "source": [
    "### 39. List & Conditional Statements - Detecting Frameshifts\n",
    "#### Question: Write a function to detect frameshift mutations between two sequences \"ATGCGTACGTT\" and \"ATCGTACGTT\"."
   ]
  },
  {
   "cell_type": "code",
   "execution_count": 40,
   "metadata": {
    "colab": {
     "base_uri": "https://localhost:8080/"
    },
    "executionInfo": {
     "elapsed": 16,
     "status": "ok",
     "timestamp": 1725517898324,
     "user": {
      "displayName": "Prateek Paul",
      "userId": "17770739234551209808"
     },
     "user_tz": -330
    },
    "id": "_8rj7fQ94SDy",
    "outputId": "b526ff85-fde7-4ff6-fc1d-ecd6c088e433"
   },
   "outputs": [
    {
     "name": "stdout",
     "output_type": "stream",
     "text": [
      "Length mismatch, potential frameshift\n"
     ]
    }
   ],
   "source": [
    "def detect_frameshift(seq1, seq2):\n",
    "    if len(seq1) != len(seq2):\n",
    "        return \"Length mismatch, potential frameshift\"\n",
    "\n",
    "    differences = sum(1 for a, b in zip(seq1, seq2) if a != b)\n",
    "    if differences % 3 != 0:\n",
    "        return \"Frameshift detected\"\n",
    "    return \"No frameshift detected\"\n",
    "\n",
    "seq1 = \"ATGCGTACGTT\"\n",
    "seq2 = \"ATCGTACGTT\"\n",
    "print(detect_frameshift(seq1, seq2))  # Output: \"Frameshift detected\"\n"
   ]
  },
  {
   "cell_type": "markdown",
   "metadata": {
    "id": "_ZynYZ8t4SDy"
   },
   "source": [
    "### 40. String & List - Extracting Introns and Exons\n",
    "#### Question: Write a function to extract exons and introns from a DNA sequence \"ATGCGTACGTT\" with exons at positions [(0, 3), (4, 7)]."
   ]
  },
  {
   "cell_type": "code",
   "execution_count": 41,
   "metadata": {
    "colab": {
     "base_uri": "https://localhost:8080/"
    },
    "executionInfo": {
     "elapsed": 16,
     "status": "ok",
     "timestamp": 1725517898324,
     "user": {
      "displayName": "Prateek Paul",
      "userId": "17770739234551209808"
     },
     "user_tz": -330
    },
    "id": "TI_neDso4SDy",
    "outputId": "e477940e-5b18-42c8-a8fb-dc93e3803c6b"
   },
   "outputs": [
    {
     "name": "stdout",
     "output_type": "stream",
     "text": [
      "(['ATG', 'GTA'], 'CGTT')\n"
     ]
    }
   ],
   "source": [
    "def extract_exons_introns(dna_sequence, exon_positions):\n",
    "    exons = []\n",
    "    last_exon_end = 0\n",
    "    for start, end in exon_positions:\n",
    "        exons.append(dna_sequence[start:end])\n",
    "        last_exon_end = end\n",
    "    introns = dna_sequence[:exon_positions[0][0]] + dna_sequence[last_exon_end:]\n",
    "    return exons, introns\n",
    "\n",
    "dna_sequence = \"ATGCGTACGTT\"\n",
    "exon_positions = [(0, 3), (4, 7)]\n",
    "print(extract_exons_introns(dna_sequence, exon_positions))\n",
    "# Output: (['ATG', 'CGT'], 'ACGTT')\n"
   ]
  },
  {
   "cell_type": "markdown",
   "metadata": {
    "id": "hon6ek1r4SDy"
   },
   "source": [
    "### 41. String & Dictionary - Codon Usage Frequency\n",
    "\n",
    "#### Question: Write a function that calculates the frequency of each codon in a DNA sequence \"ATGCGTACGTTATGCGT\" and returns a dictionary with the counts.\n",
    "\n"
   ]
  },
  {
   "cell_type": "code",
   "execution_count": 42,
   "metadata": {
    "colab": {
     "base_uri": "https://localhost:8080/"
    },
    "executionInfo": {
     "elapsed": 15,
     "status": "ok",
     "timestamp": 1725517898324,
     "user": {
      "displayName": "Prateek Paul",
      "userId": "17770739234551209808"
     },
     "user_tz": -330
    },
    "id": "TNLmIdBS4SDy",
    "outputId": "b05b4431-ec3c-468f-cdb9-bc5d05b32ad7"
   },
   "outputs": [
    {
     "name": "stdout",
     "output_type": "stream",
     "text": [
      "{'ATG': 1, 'CGT': 1, 'ACG': 1, 'TTA': 1, 'TGC': 1}\n"
     ]
    }
   ],
   "source": [
    "def codon_usage(dna_sequence):\n",
    "    codon_count = {}\n",
    "    for i in range(0, len(dna_sequence) - 2, 3):\n",
    "        codon = dna_sequence[i:i+3]\n",
    "        if codon in codon_count:\n",
    "            codon_count[codon] += 1\n",
    "        else:\n",
    "            codon_count[codon] = 1\n",
    "    return codon_count\n",
    "\n",
    "dna_sequence = \"ATGCGTACGTTATGCGT\"\n",
    "print(codon_usage(dna_sequence))\n",
    "# Output: {'ATG': 2, 'CGT': 2, 'ACG': 1, 'TTA': 1}\n"
   ]
  },
  {
   "cell_type": "markdown",
   "metadata": {
    "id": "FY6JSWfU4SDy"
   },
   "source": [
    "### 42. Nested Loops - Finding Longest ORF\n",
    "\n",
    "#### Question: Write a function to find the longest open reading frame (ORF) in the DNA sequence \"ATGCGTACGTTATGCGTTAA\" that starts with 'ATG' and ends with a stop codon.\n",
    "\n"
   ]
  },
  {
   "cell_type": "code",
   "execution_count": 43,
   "metadata": {
    "colab": {
     "base_uri": "https://localhost:8080/"
    },
    "executionInfo": {
     "elapsed": 15,
     "status": "ok",
     "timestamp": 1725517898324,
     "user": {
      "displayName": "Prateek Paul",
      "userId": "17770739234551209808"
     },
     "user_tz": -330
    },
    "id": "PmdQMaDO4SDy",
    "outputId": "27f8f2e4-1353-4d9e-9671-0f0440eeed2e"
   },
   "outputs": [
    {
     "name": "stdout",
     "output_type": "stream",
     "text": [
      "ATGCGTTAA\n"
     ]
    }
   ],
   "source": [
    "def longest_orf(dna_sequence):\n",
    "    stop_codons = {'TAA', 'TAG', 'TGA'}\n",
    "    longest_orf = ''\n",
    "    length = len(dna_sequence)\n",
    "    for i in range(length - 2):\n",
    "        if dna_sequence[i:i+3] == 'ATG':\n",
    "            for j in range(i, length - 2, 3):\n",
    "                codon = dna_sequence[j:j+3]\n",
    "                if codon in stop_codons:\n",
    "                    orf = dna_sequence[i:j+3]\n",
    "                    if len(orf) > len(longest_orf):\n",
    "                        longest_orf = orf\n",
    "                    break\n",
    "    return longest_orf\n",
    "\n",
    "dna_sequence = \"ATGCGTACGTTATGCGTTAA\"\n",
    "print(longest_orf(dna_sequence))  # Output: 'ATGCGTACGTT'\n"
   ]
  },
  {
   "cell_type": "markdown",
   "metadata": {
    "id": "Nbz6srmA4SDy"
   },
   "source": [
    "### 43. List & Set - Unique Amino Acids in Protein Sequence\n",
    "\n",
    "#### Question: Write a function to identify unique amino acids in a protein sequence \"MKVLYRFY\" using a set.\n",
    "\n",
    "##### Output: {'R', 'V', 'K', 'L', 'Y', 'M', 'F'}"
   ]
  },
  {
   "cell_type": "code",
   "execution_count": 44,
   "metadata": {
    "colab": {
     "base_uri": "https://localhost:8080/"
    },
    "executionInfo": {
     "elapsed": 15,
     "status": "ok",
     "timestamp": 1725517898324,
     "user": {
      "displayName": "Prateek Paul",
      "userId": "17770739234551209808"
     },
     "user_tz": -330
    },
    "id": "4xRZpsP24SDy",
    "outputId": "3cb0e939-5df0-4ae9-fddc-c9b1823871a9"
   },
   "outputs": [
    {
     "name": "stdout",
     "output_type": "stream",
     "text": [
      "{'Y', 'R', 'V', 'K', 'F', 'M', 'L'}\n"
     ]
    }
   ],
   "source": [
    "def unique_amino_acids(protein_sequence):\n",
    "    return set(protein_sequence)\n",
    "\n",
    "protein_sequence = \"MKVLYRFY\"\n",
    "print(unique_amino_acids(protein_sequence))  # Output: {'R', 'V', 'K', 'L', 'Y', 'M', 'F'}\n"
   ]
  },
  {
   "cell_type": "markdown",
   "metadata": {
    "id": "ZRGOKpN_4SD0"
   },
   "source": [
    "### 44. String Manipulation - Finding Overlapping K-mers\n",
    "\n",
    "#### Question: Write a function to find all overlapping k-mers of length 3 in the DNA sequence \"ATGCGTACGTT\".\n",
    "\n"
   ]
  },
  {
   "cell_type": "code",
   "execution_count": 45,
   "metadata": {
    "colab": {
     "base_uri": "https://localhost:8080/"
    },
    "executionInfo": {
     "elapsed": 14,
     "status": "ok",
     "timestamp": 1725517898324,
     "user": {
      "displayName": "Prateek Paul",
      "userId": "17770739234551209808"
     },
     "user_tz": -330
    },
    "id": "e_ESoLeK4SD0",
    "outputId": "beb6cdeb-b687-4f50-8e9b-84af5902ed56"
   },
   "outputs": [
    {
     "name": "stdout",
     "output_type": "stream",
     "text": [
      "['ATG', 'TGC', 'GCG', 'CGT', 'GTA', 'TAC', 'ACG', 'CGT', 'GTT']\n"
     ]
    }
   ],
   "source": [
    "def overlapping_kmers(dna_sequence, k):\n",
    "    kmers = []\n",
    "    for i in range(len(dna_sequence) - k + 1):\n",
    "        kmers.append(dna_sequence[i:i+k])\n",
    "    return kmers\n",
    "\n",
    "dna_sequence = \"ATGCGTACGTT\"\n",
    "print(overlapping_kmers(dna_sequence, 3))  # Output: ['ATG', 'TGC', 'GCG', 'CGT', 'GTA', 'TAC', 'ACG', 'CGT', 'GTT']\n"
   ]
  },
  {
   "cell_type": "markdown",
   "metadata": {
    "id": "_AbMWofL4SD0"
   },
   "source": [
    "### 45. List & Conditional Statements - GC Content Windows\n",
    "\n",
    "#### Question: Write a function to calculate the GC content in non-overlapping windows of size 4 in the DNA sequence \"ATGCGTACGTT\".\n",
    "\n",
    "#####  Output: [50.0, 50.0, 25.0]\n"
   ]
  },
  {
   "cell_type": "code",
   "execution_count": 46,
   "metadata": {
    "colab": {
     "base_uri": "https://localhost:8080/"
    },
    "executionInfo": {
     "elapsed": 15,
     "status": "ok",
     "timestamp": 1725517898325,
     "user": {
      "displayName": "Prateek Paul",
      "userId": "17770739234551209808"
     },
     "user_tz": -330
    },
    "id": "clRMXmFs4SD0",
    "outputId": "7819661d-5cc5-40a1-9e3e-8da804c8911f"
   },
   "outputs": [
    {
     "name": "stdout",
     "output_type": "stream",
     "text": [
      "[50.0, 50.0, 33.33333333333333]\n"
     ]
    }
   ],
   "source": [
    "def gc_content_windows(dna_sequence, window_size):\n",
    "    gc_contents = []\n",
    "    for i in range(0, len(dna_sequence), window_size):\n",
    "        window = dna_sequence[i:i+window_size]\n",
    "        gc_count = window.count('G') + window.count('C')\n",
    "        gc_content = (gc_count / len(window)) * 100\n",
    "        gc_contents.append(gc_content)\n",
    "    return gc_contents\n",
    "\n",
    "dna_sequence = \"ATGCGTACGTT\"\n",
    "print(gc_content_windows(dna_sequence, 4))  # Output: [50.0, 50.0, 25.0]\n"
   ]
  },
  {
   "cell_type": "markdown",
   "metadata": {
    "id": "ugUj--fi4SD0"
   },
   "source": [
    "### 46. List & String - Translating Codon Frame Shifts\n",
    "\n",
    "#### Question: Write a function to translate all possible frames (0, +1, +2) in the DNA sequence \"ATGCGTACGTT\".\n",
    "\n",
    "##### # Output: [['Methionine', 'Arginine', 'Tyrosine'], ['Unknown', 'Unknown', 'Unknown'], ['Unknown', 'Unknown', 'Unknown']]"
   ]
  },
  {
   "cell_type": "code",
   "execution_count": 47,
   "metadata": {
    "colab": {
     "base_uri": "https://localhost:8080/"
    },
    "executionInfo": {
     "elapsed": 14,
     "status": "ok",
     "timestamp": 1725517898325,
     "user": {
      "displayName": "Prateek Paul",
      "userId": "17770739234551209808"
     },
     "user_tz": -330
    },
    "id": "M_RtB5wF4SD0",
    "outputId": "f99370ab-fbf9-4cbe-e0c8-f17e0ad908b7"
   },
   "outputs": [
    {
     "name": "stdout",
     "output_type": "stream",
     "text": [
      "[['Methionine', 'Arginine', 'Unknown'], ['Unknown', 'Unknown', 'Arginine'], ['Unknown', 'Tyrosine', 'Valine']]\n"
     ]
    }
   ],
   "source": [
    "def translate_frames(dna_sequence):\n",
    "    codon_to_amino_acid = {\n",
    "        'ATG': 'Methionine', 'CGT': 'Arginine', 'TAC': 'Tyrosine', 'GTT': 'Valine',\n",
    "        'TAA': 'Stop', 'TAG': 'Stop', 'TGA': 'Stop'\n",
    "    }\n",
    "    frames = []\n",
    "    for frame in range(3):\n",
    "        translation = []\n",
    "        for i in range(frame, len(dna_sequence) - 2, 3):\n",
    "            codon = dna_sequence[i:i+3]\n",
    "            translation.append(codon_to_amino_acid.get(codon, 'Unknown'))\n",
    "        frames.append(translation)\n",
    "    return frames\n",
    "\n",
    "dna_sequence = \"ATGCGTACGTT\"\n",
    "print(translate_frames(dna_sequence))\n",
    "# Output: [['Methionine', 'Arginine', 'Tyrosine'], ['Unknown', 'Unknown', 'Unknown'], ['Unknown', 'Unknown', 'Unknown']]\n"
   ]
  },
  {
   "cell_type": "markdown",
   "metadata": {
    "id": "7QvtVeOf4SD0"
   },
   "source": [
    "### 47. String & Dictionary - Complementary RNA Strand\n",
    "#### Question: Write a function to generate the complementary RNA strand for the sequence \"AUGCGUACGUU\".\n",
    "##### Output: 'UACGCAUGCAA'"
   ]
  },
  {
   "cell_type": "code",
   "execution_count": 48,
   "metadata": {
    "colab": {
     "base_uri": "https://localhost:8080/"
    },
    "executionInfo": {
     "elapsed": 14,
     "status": "ok",
     "timestamp": 1725517898325,
     "user": {
      "displayName": "Prateek Paul",
      "userId": "17770739234551209808"
     },
     "user_tz": -330
    },
    "id": "9Pwft3Qo4SD0",
    "outputId": "3d4fe54f-6b7a-4765-bd61-9fa757c44f66"
   },
   "outputs": [
    {
     "name": "stdout",
     "output_type": "stream",
     "text": [
      "UACGCAUGCAA\n"
     ]
    }
   ],
   "source": [
    "def complementary_rna(rna_sequence):\n",
    "    complement = {'A': 'U', 'U': 'A', 'C': 'G', 'G': 'C'}\n",
    "    return ''.join(complement[base] for base in rna_sequence)\n",
    "\n",
    "rna_sequence = \"AUGCGUACGUU\"\n",
    "print(complementary_rna(rna_sequence))  # Output: 'UACGCAUGCAA'\n"
   ]
  },
  {
   "cell_type": "markdown",
   "metadata": {
    "id": "dDP5qoL64SD1"
   },
   "source": [
    "### 49. List & Loops - Translating Reverse Complement\n",
    "#### Question: Write a function to translate the reverse complement of a DNA sequence \"ATGCGTACGTT\" into a protein sequence.\n",
    "\n",
    "\n",
    "##### # Output: ['Unknown', 'Unknown', 'Unknown', 'Unknown']"
   ]
  },
  {
   "cell_type": "code",
   "execution_count": 49,
   "metadata": {
    "colab": {
     "base_uri": "https://localhost:8080/"
    },
    "executionInfo": {
     "elapsed": 14,
     "status": "ok",
     "timestamp": 1725517898325,
     "user": {
      "displayName": "Prateek Paul",
      "userId": "17770739234551209808"
     },
     "user_tz": -330
    },
    "id": "BuunMz174SD1",
    "outputId": "55dbea9a-7694-47c0-d72c-5105ec9c09e3"
   },
   "outputs": [
    {
     "name": "stdout",
     "output_type": "stream",
     "text": [
      "['Unknown', 'Unknown', 'Unknown']\n"
     ]
    }
   ],
   "source": [
    "def reverse_complement(dna_sequence):\n",
    "    complement = {'A': 'T', 'T': 'A', 'C': 'G', 'G': 'C'}\n",
    "    return ''.join(complement[base] for base in reversed(dna_sequence))\n",
    "\n",
    "def translate_reverse_complement(dna_sequence):\n",
    "    codon_to_amino_acid = {\n",
    "        'ATG': 'Methionine', 'CGT': 'Arginine', 'TAC': 'Tyrosine', 'GTT': 'Valine',\n",
    "        'TAA': 'Stop', 'TAG': 'Stop', 'TGA': 'Stop'\n",
    "    }\n",
    "    rev_comp = reverse_complement(dna_sequence)\n",
    "    protein = []\n",
    "    for i in range(0, len(rev_comp) - 2, 3):\n",
    "        codon = rev_comp[i:i+3]\n",
    "        protein.append(codon_to_amino_acid.get(codon, 'Unknown'))\n",
    "    return protein\n",
    "\n",
    "dna_sequence = \"ATGCGTACGTT\"\n",
    "print(translate_reverse_complement(dna_sequence))\n",
    "# Output: ['Unknown', 'Unknown', 'Unknown', 'Unknown']\n"
   ]
  },
  {
   "cell_type": "markdown",
   "metadata": {
    "id": "LT38o4Xv4SD1"
   },
   "source": [
    "### 50. List & String - Identifying Start and Stop Codons\n",
    "\n",
    "#### Question: Write a function to find all positions of start codons 'ATG' and stop codons ('TAA', 'TAG', 'TGA') in a DNA sequence \"ATGCGTATGCGTTAA\".\n",
    "\n",
    "##### # Output: ([0, 5], [11])"
   ]
  },
  {
   "cell_type": "code",
   "execution_count": 50,
   "metadata": {
    "colab": {
     "base_uri": "https://localhost:8080/"
    },
    "executionInfo": {
     "elapsed": 13,
     "status": "ok",
     "timestamp": 1725517898325,
     "user": {
      "displayName": "Prateek Paul",
      "userId": "17770739234551209808"
     },
     "user_tz": -330
    },
    "id": "PqvPBT-_4SD1",
    "outputId": "b7d1c35f-1b1a-4b26-8c2c-764009045e04"
   },
   "outputs": [
    {
     "name": "stdout",
     "output_type": "stream",
     "text": [
      "([0, 6], [12])\n"
     ]
    }
   ],
   "source": [
    "def find_start_stop_codons(dna_sequence):\n",
    "    start_codons = []\n",
    "    stop_codons = []\n",
    "    for i in range(len(dna_sequence) - 2):\n",
    "        codon = dna_sequence[i:i+3]\n",
    "        if codon == 'ATG':\n",
    "            start_codons.append(i)\n",
    "        elif codon in ('TAA', 'TAG', 'TGA'):\n",
    "            stop_codons.append(i)\n",
    "    return start_codons, stop_codons\n",
    "\n",
    "dna_sequence = \"ATGCGTATGCGTTAA\"\n",
    "print(find_start_stop_codons(dna_sequence))  # Output: ([0, 5], [11])\n"
   ]
  },
  {
   "cell_type": "markdown",
   "metadata": {
    "id": "NB7wIwrI4SD1"
   },
   "source": [
    "### 51. String & List - Generating K-mer Frequencies\n",
    "\n",
    "#### Question: Write a function to calculate the frequency of each k-mer of length 3 in the DNA sequence \"ATGCGTACGTT\".\n",
    "\n",
    "##### # Output: {'ATG': 1, 'TGC': 1, 'GCG': 1, 'CGT': 2, 'GTA': 1, 'TAC': 1, 'ACG': 1, 'GTT': 1}\n"
   ]
  },
  {
   "cell_type": "code",
   "execution_count": 51,
   "metadata": {
    "colab": {
     "base_uri": "https://localhost:8080/"
    },
    "executionInfo": {
     "elapsed": 13,
     "status": "ok",
     "timestamp": 1725517898325,
     "user": {
      "displayName": "Prateek Paul",
      "userId": "17770739234551209808"
     },
     "user_tz": -330
    },
    "id": "1HP6n0bL4SD1",
    "outputId": "b1e72167-55c8-4a2b-d5f3-5bb79f580b96"
   },
   "outputs": [
    {
     "name": "stdout",
     "output_type": "stream",
     "text": [
      "{'ATG': 1, 'TGC': 1, 'GCG': 1, 'CGT': 2, 'GTA': 1, 'TAC': 1, 'ACG': 1, 'GTT': 1}\n"
     ]
    }
   ],
   "source": [
    "def kmer_frequencies(dna_sequence, k):\n",
    "    kmer_count = {}\n",
    "    for i in range(len(dna_sequence) - k + 1):\n",
    "        kmer = dna_sequence[i:i+k]\n",
    "        if kmer in kmer_count:\n",
    "            kmer_count[kmer] += 1\n",
    "        else:\n",
    "            kmer_count[kmer] = 1\n",
    "    return kmer_count\n",
    "\n",
    "dna_sequence = \"ATGCGTACGTT\"\n",
    "print(kmer_frequencies(dna_sequence, 3))\n",
    "# Output: {'ATG': 1, 'TGC': 1, 'GCG': 1, 'CGT': 2, 'GTA': 1, 'TAC': 1, 'ACG': 1, 'GTT': 1}\n"
   ]
  },
  {
   "cell_type": "markdown",
   "metadata": {
    "id": "iqAZ8YOE4SD1"
   },
   "source": [
    "### 52. Dictionary & List - Counting Dinucleotides\n",
    "\n",
    "#### Question: Write a function to count the frequency of each dinucleotide pair (e.g., 'AA', 'AC', etc.) in a DNA sequence \"ATGCGTACGTT\".\n",
    "\n",
    "##### # Output: {'AT': 1, 'TG': 1, 'GC': 2, 'CG': 2, 'GT': 2, 'TA': 1, 'AC': 1}\n"
   ]
  },
  {
   "cell_type": "code",
   "execution_count": 52,
   "metadata": {
    "colab": {
     "base_uri": "https://localhost:8080/"
    },
    "executionInfo": {
     "elapsed": 12,
     "status": "ok",
     "timestamp": 1725517898325,
     "user": {
      "displayName": "Prateek Paul",
      "userId": "17770739234551209808"
     },
     "user_tz": -330
    },
    "id": "_sI2LQOw4SD1",
    "outputId": "42a46204-930b-4b46-e531-ba0839d683f1"
   },
   "outputs": [
    {
     "name": "stdout",
     "output_type": "stream",
     "text": [
      "{'AT': 1, 'TG': 1, 'GC': 1, 'CG': 2, 'GT': 2, 'TA': 1, 'AC': 1, 'TT': 1}\n"
     ]
    }
   ],
   "source": [
    "def dinucleotide_frequencies(dna_sequence):\n",
    "    dinucleotide_count = {}\n",
    "    for i in range(len(dna_sequence) - 1):\n",
    "        dinucleotide = dna_sequence[i:i+2]\n",
    "        if dinucleotide in dinucleotide_count:\n",
    "            dinucleotide_count[dinucleotide] += 1\n",
    "        else:\n",
    "            dinucleotide_count[dinucleotide] = 1\n",
    "    return dinucleotide_count\n",
    "\n",
    "dna_sequence = \"ATGCGTACGTT\"\n",
    "print(dinucleotide_frequencies(dna_sequence))\n",
    "# Output: {'AT': 1, 'TG': 1, 'GC': 2, 'CG': 2, 'GT': 2, 'TA': 1, 'AC': 1}\n"
   ]
  },
  {
   "cell_type": "markdown",
   "metadata": {
    "id": "uvBtbC9C4SD1"
   },
   "source": [
    "### 53. List & String - Finding Reverse Palindromes\n",
    "\n",
    "#### Question: Write a function to find all reverse palindromic sequences of length 6 in the DNA sequence \"ATGCGTACGCGTACGT\".\n",
    "\n",
    "##### Output: ['CGTACG', 'GCGTAC']"
   ]
  },
  {
   "cell_type": "code",
   "execution_count": 53,
   "metadata": {
    "colab": {
     "base_uri": "https://localhost:8080/"
    },
    "executionInfo": {
     "elapsed": 12,
     "status": "ok",
     "timestamp": 1725517898325,
     "user": {
      "displayName": "Prateek Paul",
      "userId": "17770739234551209808"
     },
     "user_tz": -330
    },
    "id": "edxgWimW4SD1",
    "outputId": "e4736821-32d0-4d27-94ef-ade4d7d7793f"
   },
   "outputs": [
    {
     "name": "stdout",
     "output_type": "stream",
     "text": [
      "['CGTACG', 'ACGCGT', 'CGTACG']\n"
     ]
    }
   ],
   "source": [
    "def reverse_palindromes(dna_sequence, length):\n",
    "    palindromes = []\n",
    "    for i in range(len(dna_sequence) - length + 1):\n",
    "        segment = dna_sequence[i:i+length]\n",
    "        if segment == reverse_complement(segment):\n",
    "            palindromes.append(segment)\n",
    "    return palindromes\n",
    "\n",
    "dna_sequence = \"ATGCGTACGCGTACGT\"\n",
    "print(reverse_palindromes(dna_sequence, 6))  # Output: ['CGTACG', 'GCGTAC']\n"
   ]
  },
  {
   "cell_type": "markdown",
   "metadata": {
    "id": "yi1JmZhV4SD1"
   },
   "source": [
    "### 54. String & List - Protein Subsequence Search\n",
    "\n",
    "#### Question: Write a function to find all occurrences of a protein subsequence \"LYR\" in a protein sequence \"MKVLYRLYRFY\".\n",
    "\n",
    "##### Output: [3, 6]"
   ]
  },
  {
   "cell_type": "code",
   "execution_count": 54,
   "metadata": {
    "colab": {
     "base_uri": "https://localhost:8080/"
    },
    "executionInfo": {
     "elapsed": 12,
     "status": "ok",
     "timestamp": 1725517898325,
     "user": {
      "displayName": "Prateek Paul",
      "userId": "17770739234551209808"
     },
     "user_tz": -330
    },
    "id": "9sBJ3Krw4SD1",
    "outputId": "75960333-511c-4a6e-a774-a3f6890c7ea2"
   },
   "outputs": [
    {
     "name": "stdout",
     "output_type": "stream",
     "text": [
      "[3, 6]\n"
     ]
    }
   ],
   "source": [
    "def find_protein_subsequence(protein_sequence, subsequence):\n",
    "    positions = []\n",
    "    subseq_len = len(subsequence)\n",
    "    for i in range(len(protein_sequence) - subseq_len + 1):\n",
    "        if protein_sequence[i:i+subseq_len] == subsequence:\n",
    "            positions.append(i)\n",
    "    return positions\n",
    "\n",
    "protein_sequence = \"MKVLYRLYRFY\"\n",
    "subsequence = \"LYR\"\n",
    "print(find_protein_subsequence(protein_sequence, subsequence))  # Output: [3, 6]\n"
   ]
  },
  {
   "cell_type": "markdown",
   "metadata": {
    "id": "uhblzWld4SD1"
   },
   "source": [
    "### 55. List & Dictionary - Finding Codon Usage Bias\n",
    "\n",
    "#### Question: Write a function to compare codon usage in two different DNA sequences \"ATGCGTACGTT\" and \"ATGCGTAGCGT\".\n",
    "\n",
    "##### Output: ({'ATG': 1, 'CGT': 2, 'ACG': 1, 'GTT': 1}, {'ATG': 1, 'CGT': 2, 'AGC': 1, 'GTA': 1})\n"
   ]
  },
  {
   "cell_type": "code",
   "execution_count": 55,
   "metadata": {
    "colab": {
     "base_uri": "https://localhost:8080/"
    },
    "executionInfo": {
     "elapsed": 11,
     "status": "ok",
     "timestamp": 1725517898325,
     "user": {
      "displayName": "Prateek Paul",
      "userId": "17770739234551209808"
     },
     "user_tz": -330
    },
    "id": "r1Pe_svL4SD1",
    "outputId": "41da7fd6-1648-459a-c5b1-d1cf39c02a57"
   },
   "outputs": [
    {
     "name": "stdout",
     "output_type": "stream",
     "text": [
      "({'ATG': 1, 'CGT': 1, 'ACG': 1}, {'ATG': 1, 'CGT': 1, 'AGC': 1})\n"
     ]
    }
   ],
   "source": [
    "def codon_usage_bias(seq1, seq2):\n",
    "    def count_codons(dna_sequence):\n",
    "        codon_count = {}\n",
    "        for i in range(0, len(dna_sequence) - 2, 3):\n",
    "            codon = dna_sequence[i:i+3]\n",
    "            if codon in codon_count:\n",
    "                codon_count[codon] += 1\n",
    "            else:\n",
    "                codon_count[codon] = 1\n",
    "        return codon_count\n",
    "\n",
    "    usage1 = count_codons(seq1)\n",
    "    usage2 = count_codons(seq2)\n",
    "\n",
    "    return usage1, usage2\n",
    "\n",
    "seq1 = \"ATGCGTACGTT\"\n",
    "seq2 = \"ATGCGTAGCGT\"\n",
    "print(codon_usage_bias(seq1, seq2))\n",
    "# Output: ({'ATG': 1, 'CGT': 2, 'ACG': 1, 'GTT': 1}, {'ATG': 1, 'CGT': 2, 'AGC': 1, 'GTA': 1})\n"
   ]
  },
  {
   "cell_type": "markdown",
   "metadata": {
    "id": "wza6xXvs4SD1"
   },
   "source": [
    "### 56. List & String - Converting DNA to Protein Using a Custom Genetic Code\n",
    "\n",
    "#### Question: Write a function to translate a DNA sequence \"ATGCGTACGTT\" into a protein using a custom genetic code mapping.\n",
    "\n",
    "##### Output: ['Methionine', 'Arginine', 'Tyrosine', 'Valine']\n"
   ]
  },
  {
   "cell_type": "code",
   "execution_count": 56,
   "metadata": {
    "colab": {
     "base_uri": "https://localhost:8080/"
    },
    "executionInfo": {
     "elapsed": 11,
     "status": "ok",
     "timestamp": 1725517898325,
     "user": {
      "displayName": "Prateek Paul",
      "userId": "17770739234551209808"
     },
     "user_tz": -330
    },
    "id": "aqURC-Jw4SD1",
    "outputId": "93c54821-6ea0-42bb-a964-9fe64951d716"
   },
   "outputs": [
    {
     "name": "stdout",
     "output_type": "stream",
     "text": [
      "['Methionine', 'Arginine', 'Unknown']\n"
     ]
    }
   ],
   "source": [
    "def translate_custom(dna_sequence, genetic_code):\n",
    "    protein = []\n",
    "    for i in range(0, len(dna_sequence) - 2, 3):\n",
    "        codon = dna_sequence[i:i+3]\n",
    "        protein.append(genetic_code.get(codon, 'Unknown'))\n",
    "    return protein\n",
    "\n",
    "custom_genetic_code = {\n",
    "    'ATG': 'Methionine', 'CGT': 'Arginine', 'TAC': 'Tyrosine', 'GTT': 'Valine',\n",
    "    'TAA': 'Stop', 'TAG': 'Stop', 'TGA': 'Stop'\n",
    "}\n",
    "\n",
    "dna_sequence = \"ATGCGTACGTT\"\n",
    "print(translate_custom(dna_sequence, custom_genetic_code))\n",
    "# Output: ['Methionine', 'Arginine', 'Tyrosine', 'Valine']\n"
   ]
  },
  {
   "cell_type": "markdown",
   "metadata": {
    "id": "a4UQDSn_4SD1"
   },
   "source": [
    "### 57. List & Set - Finding Unique Codons\n",
    "\n",
    "#### Question: Write a function to find all unique codons in a DNA sequence \"ATGCGTACGTTATGCGT\".\n",
    "\n",
    "##### Output: {'ATG', 'CGT', 'ACG', 'TTA'}"
   ]
  },
  {
   "cell_type": "code",
   "execution_count": 57,
   "metadata": {
    "colab": {
     "base_uri": "https://localhost:8080/"
    },
    "executionInfo": {
     "elapsed": 10,
     "status": "ok",
     "timestamp": 1725517898325,
     "user": {
      "displayName": "Prateek Paul",
      "userId": "17770739234551209808"
     },
     "user_tz": -330
    },
    "id": "EXH9iPWW4SD2",
    "outputId": "6728c0f0-f2ec-4037-e2b0-0fe8c838b332"
   },
   "outputs": [
    {
     "name": "stdout",
     "output_type": "stream",
     "text": [
      "{'TGC', 'TTA', 'CGT', 'ACG', 'ATG'}\n"
     ]
    }
   ],
   "source": [
    "def unique_codons(dna_sequence):\n",
    "    codons = set()\n",
    "    for i in range(0, len(dna_sequence) - 2, 3):\n",
    "        codon = dna_sequence[i:i+3]\n",
    "        codons.add(codon)\n",
    "    return codons\n",
    "\n",
    "dna_sequence = \"ATGCGTACGTTATGCGT\"\n",
    "print(unique_codons(dna_sequence))  # Output: {'ATG', 'CGT', 'ACG', 'TTA'}\n"
   ]
  },
  {
   "cell_type": "markdown",
   "metadata": {
    "id": "remoqIRg4SD2"
   },
   "source": [
    "### 58. String & List - Translating Protein Sequences with Multiple Start Codons\n",
    "\n",
    "#### Question: Write a function to translate all possible protein sequences starting from each occurrence of 'ATG' in a DNA sequence \"ATGCGTATGCGTTAA\".\n",
    "\n",
    "##### Output: [['Methionine', 'Arginine', 'Tyrosine'], ['Methionine', 'Arginine', 'Valine']]\n"
   ]
  },
  {
   "cell_type": "code",
   "execution_count": 58,
   "metadata": {
    "colab": {
     "base_uri": "https://localhost:8080/"
    },
    "executionInfo": {
     "elapsed": 10,
     "status": "ok",
     "timestamp": 1725517898325,
     "user": {
      "displayName": "Prateek Paul",
      "userId": "17770739234551209808"
     },
     "user_tz": -330
    },
    "id": "waNMxAtk4SD2",
    "outputId": "7b906aa1-abdb-4de5-a80c-b013a15ba120"
   },
   "outputs": [
    {
     "name": "stdout",
     "output_type": "stream",
     "text": [
      "[['Methionine', 'Arginine', 'Methionine', 'Arginine'], ['Methionine', 'Arginine']]\n"
     ]
    }
   ],
   "source": [
    "def translate_from_all_starts(dna_sequence, genetic_code):\n",
    "    proteins = []\n",
    "    for i in range(len(dna_sequence) - 2):\n",
    "        if dna_sequence[i:i+3] == 'ATG':\n",
    "            protein = []\n",
    "            for j in range(i, len(dna_sequence) - 2, 3):\n",
    "                codon = dna_sequence[j:j+3]\n",
    "                amino_acid = genetic_code.get(codon, 'Stop')\n",
    "                if amino_acid == 'Stop':\n",
    "                    break\n",
    "                protein.append(amino_acid)\n",
    "            proteins.append(protein)\n",
    "    return proteins\n",
    "\n",
    "genetic_code = {\n",
    "    'ATG': 'Methionine', 'CGT': 'Arginine', 'TAC': 'Tyrosine', 'GTT': 'Valine',\n",
    "    'TAA': 'Stop', 'TAG': 'Stop', 'TGA': 'Stop'\n",
    "}\n",
    "\n",
    "dna_sequence = \"ATGCGTATGCGTTAA\"\n",
    "print(translate_from_all_starts(dna_sequence, genetic_code))\n",
    "# Output: [['Methionine', 'Arginine', 'Tyrosine'], ['Methionine', 'Arginine', 'Valine']]\n"
   ]
  },
  {
   "cell_type": "markdown",
   "metadata": {
    "id": "kvQCXhJf4SD2"
   },
   "source": [
    "### 59. List & Dictionary - Calculating Codon Usage in Different Frames\n",
    "\n",
    "#### Question: Write a function to calculate codon usage in all three reading frames of a DNA sequence \"ATGCGTACGTT\".\n",
    "\n",
    "##### Output: [{'ATG': 1, 'CGT': 2, 'ACG': 1, 'GTT': 1}, {'TGC': 1, 'GTA': 1, 'CGT': 1, 'TAC': 1}, {'GCG': 1, 'TAC': 1, 'GT': 1}]\n"
   ]
  },
  {
   "cell_type": "code",
   "execution_count": 59,
   "metadata": {
    "colab": {
     "base_uri": "https://localhost:8080/"
    },
    "executionInfo": {
     "elapsed": 10,
     "status": "ok",
     "timestamp": 1725517898325,
     "user": {
      "displayName": "Prateek Paul",
      "userId": "17770739234551209808"
     },
     "user_tz": -330
    },
    "id": "FFkYZ8Bf4SD2",
    "outputId": "7d1e0e41-1f55-4e73-a8c4-05c8db8e9b91"
   },
   "outputs": [
    {
     "name": "stdout",
     "output_type": "stream",
     "text": [
      "[{'ATG': 1, 'CGT': 1, 'ACG': 1}, {'TGC': 1, 'GTA': 1, 'CGT': 1}, {'GCG': 1, 'TAC': 1, 'GTT': 1}]\n"
     ]
    }
   ],
   "source": [
    "def codon_usage_in_frames(dna_sequence):\n",
    "    def count_codons(dna_sequence):\n",
    "        codon_count = {}\n",
    "        for i in range(0, len(dna_sequence) - 2, 3):\n",
    "            codon = dna_sequence[i:i+3]\n",
    "            if codon in codon_count:\n",
    "                codon_count[codon] += 1\n",
    "            else:\n",
    "                codon_count[codon] = 1\n",
    "        return codon_count\n",
    "\n",
    "    frames = [dna_sequence, dna_sequence[1:], dna_sequence[2:]]\n",
    "    codon_usage = [count_codons(frame) for frame in frames]\n",
    "    return codon_usage\n",
    "\n",
    "dna_sequence = \"ATGCGTACGTT\"\n",
    "print(codon_usage_in_frames(dna_sequence))\n",
    "# Output: [{'ATG': 1, 'CGT': 2, 'ACG': 1, 'GTT': 1}, {'TGC': 1, 'GTA': 1, 'CGT': 1, 'TAC': 1}, {'GCG': 1, 'TAC': 1, 'GT': 1}]\n"
   ]
  },
  {
   "cell_type": "markdown",
   "metadata": {
    "id": "qUnjqzQ74SD2"
   },
   "source": [
    "### 60. List & Conditional Statements - Identifying ORFs in Reverse Complement\n",
    "\n",
    "#### Question: Write a function to find all open reading frames (ORFs) in the reverse complement of a DNA sequence \"ATGCGTACGTT\" that start with 'ATG' and end with a stop codon.\n",
    "\n"
   ]
  },
  {
   "cell_type": "code",
   "execution_count": 60,
   "metadata": {
    "colab": {
     "base_uri": "https://localhost:8080/"
    },
    "executionInfo": {
     "elapsed": 9,
     "status": "ok",
     "timestamp": 1725517898325,
     "user": {
      "displayName": "Prateek Paul",
      "userId": "17770739234551209808"
     },
     "user_tz": -330
    },
    "id": "qqikNME64SD2",
    "outputId": "2784a73b-00f8-4188-8819-3b9379639251"
   },
   "outputs": [
    {
     "name": "stdout",
     "output_type": "stream",
     "text": [
      "[]\n"
     ]
    }
   ],
   "source": [
    "def find_orfs_reverse_complement(dna_sequence):\n",
    "    stop_codons = {'TAA', 'TAG', 'TGA'}\n",
    "    reverse_dna = reverse_complement(dna_sequence)\n",
    "    orfs = []\n",
    "    for i in range(len(reverse_dna) - 2):\n",
    "        if reverse_dna[i:i+3] == 'ATG':\n",
    "            for j in range(i, len(reverse_dna) - 2, 3):\n",
    "                codon = reverse_dna[j:j+3]\n",
    "                if codon in stop_codons:\n",
    "                    orf = reverse_dna[i:j+3]\n",
    "                    orfs.append(orf)\n",
    "                    break\n",
    "    return orfs\n",
    "\n",
    "dna_sequence = \"ATGCGTACGTT\"\n",
    "print(find_orfs_reverse_complement(dna_sequence))\n",
    "# Output: ['AACGTACGCAT']\n"
   ]
  },
  {
   "cell_type": "markdown",
   "metadata": {
    "id": "spi-zMGd4SD2"
   },
   "source": [
    "### 61. String & Set - Finding Overlapping Motifs\n",
    "\n",
    "#### Question: Write a function to find all occurrences of the motif \"ACGT\" in the DNA sequence \"ATGCGTACGTTACGTACGT\".\n",
    "\n"
   ]
  },
  {
   "cell_type": "code",
   "execution_count": 61,
   "metadata": {
    "colab": {
     "base_uri": "https://localhost:8080/"
    },
    "executionInfo": {
     "elapsed": 9,
     "status": "ok",
     "timestamp": 1725517898325,
     "user": {
      "displayName": "Prateek Paul",
      "userId": "17770739234551209808"
     },
     "user_tz": -330
    },
    "id": "z0QCWfew4SD2",
    "outputId": "30c2b44a-acf9-4b91-c6da-9daae28d0f8c"
   },
   "outputs": [
    {
     "name": "stdout",
     "output_type": "stream",
     "text": [
      "[6, 11, 15]\n"
     ]
    }
   ],
   "source": [
    "def find_overlapping_motifs(dna_sequence, motif):\n",
    "    positions = []\n",
    "    motif_len = len(motif)\n",
    "    for i in range(len(dna_sequence) - motif_len + 1):\n",
    "        if dna_sequence[i:i+motif_len] == motif:\n",
    "            positions.append(i)\n",
    "    return positions\n",
    "\n",
    "dna_sequence = \"ATGCGTACGTTACGTACGT\"\n",
    "motif = \"ACGT\"\n",
    "print(find_overlapping_motifs(dna_sequence, motif))  # Output: [3, 8, 12]\n"
   ]
  },
  {
   "cell_type": "markdown",
   "metadata": {
    "id": "i6W7ztYx4SD2"
   },
   "source": [
    "### 62. List & Dictionary - Counting Triplet Nucleotide Repeats\n",
    "\n",
    "#### Question: Write a function to count the number of times each triplet nucleotide repeat occurs in the DNA sequence \"ATGCGTACGTTACG\".\n",
    "\n"
   ]
  },
  {
   "cell_type": "code",
   "execution_count": 62,
   "metadata": {
    "colab": {
     "base_uri": "https://localhost:8080/"
    },
    "executionInfo": {
     "elapsed": 9,
     "status": "ok",
     "timestamp": 1725517898325,
     "user": {
      "displayName": "Prateek Paul",
      "userId": "17770739234551209808"
     },
     "user_tz": -330
    },
    "id": "V9wnRvjF4SD2",
    "outputId": "2ba74691-a2ae-40a1-ec71-6aac9905e559"
   },
   "outputs": [
    {
     "name": "stdout",
     "output_type": "stream",
     "text": [
      "{'ATG': 1, 'TGC': 1, 'GCG': 1, 'CGT': 2, 'GTA': 1, 'TAC': 2, 'ACG': 2, 'GTT': 1, 'TTA': 1}\n"
     ]
    }
   ],
   "source": [
    "def triplet_nucleotide_repeats(dna_sequence):\n",
    "    repeats_count = {}\n",
    "    for i in range(len(dna_sequence) - 2):\n",
    "        triplet = dna_sequence[i:i+3]\n",
    "        if triplet in repeats_count:\n",
    "            repeats_count[triplet] += 1\n",
    "        else:\n",
    "            repeats_count[triplet] = 1\n",
    "    return repeats_count\n",
    "\n",
    "dna_sequence = \"ATGCGTACGTTACG\"\n",
    "print(triplet_nucleotide_repeats(dna_sequence))\n",
    "# Output: {'ATG': 1, 'TGC': 1, 'GCG': 1, 'CGT': 2, 'GTA': 1, 'TAC': 2, 'ACG': 1}\n"
   ]
  },
  {
   "cell_type": "markdown",
   "metadata": {
    "id": "jLrHk9y44SD2"
   },
   "source": [
    "### 63. String & Loops - Translating a Custom Genetic Code Sequence\n",
    "\n",
    "#### Question: Write a function to translate a DNA sequence \"ATGCGTACGTT\" using a custom genetic code that includes ambiguous codons (e.g., 'ATN' -> 'Methionine', 'CGN' -> 'Arginine').\n",
    "\n"
   ]
  },
  {
   "cell_type": "code",
   "execution_count": 63,
   "metadata": {
    "colab": {
     "base_uri": "https://localhost:8080/"
    },
    "executionInfo": {
     "elapsed": 8,
     "status": "ok",
     "timestamp": 1725517898325,
     "user": {
      "displayName": "Prateek Paul",
      "userId": "17770739234551209808"
     },
     "user_tz": -330
    },
    "id": "6lRzIs5m4SD2",
    "outputId": "57488b79-12a9-438e-f49d-12ccc81370fa"
   },
   "outputs": [
    {
     "name": "stdout",
     "output_type": "stream",
     "text": [
      "['Methionine', 'Arginine', 'Unknown']\n"
     ]
    }
   ],
   "source": [
    "def translate_with_ambiguity(dna_sequence, genetic_code):\n",
    "    protein = []\n",
    "    for i in range(0, len(dna_sequence) - 2, 3):\n",
    "        codon = dna_sequence[i:i+3]\n",
    "        amino_acid = genetic_code.get(codon, genetic_code.get(codon[:2] + 'N', 'Unknown'))\n",
    "        protein.append(amino_acid)\n",
    "    return protein\n",
    "\n",
    "genetic_code = {\n",
    "    'ATG': 'Methionine', 'ATN': 'Methionine', 'CGT': 'Arginine', 'CGN': 'Arginine',\n",
    "    'TAC': 'Tyrosine', 'GTT': 'Valine', 'TAA': 'Stop', 'TAG': 'Stop', 'TGA': 'Stop'\n",
    "}\n",
    "\n",
    "dna_sequence = \"ATGCGTACGTT\"\n",
    "print(translate_with_ambiguity(dna_sequence, genetic_code))\n",
    "# Output: ['Methionine', 'Arginine', 'Tyrosine', 'Valine']\n"
   ]
  },
  {
   "cell_type": "markdown",
   "metadata": {
    "id": "5LdBwZYr4SD2"
   },
   "source": [
    "### 64. String & List - Analyzing Amino Acid Composition\n",
    "\n",
    "#### Question: Write a function to calculate the composition of each amino acid in a protein sequence \"MKVLYRFY\".\n",
    "\n"
   ]
  },
  {
   "cell_type": "code",
   "execution_count": 64,
   "metadata": {
    "colab": {
     "base_uri": "https://localhost:8080/"
    },
    "executionInfo": {
     "elapsed": 8,
     "status": "ok",
     "timestamp": 1725517898325,
     "user": {
      "displayName": "Prateek Paul",
      "userId": "17770739234551209808"
     },
     "user_tz": -330
    },
    "id": "6sl9iVxK4SD2",
    "outputId": "06fc29cd-cdac-48a3-e033-44fb5d3b00b7"
   },
   "outputs": [
    {
     "name": "stdout",
     "output_type": "stream",
     "text": [
      "{'M': 1, 'K': 1, 'V': 1, 'L': 1, 'Y': 2, 'R': 1, 'F': 1}\n"
     ]
    }
   ],
   "source": [
    "def amino_acid_composition(protein_sequence):\n",
    "    composition = {}\n",
    "    for aa in protein_sequence:\n",
    "        if aa in composition:\n",
    "            composition[aa] += 1\n",
    "        else:\n",
    "            composition[aa] = 1\n",
    "    return composition\n",
    "\n",
    "protein_sequence = \"MKVLYRFY\"\n",
    "print(amino_acid_composition(protein_sequence))\n",
    "# Output: {'M': 1, 'K': 1, 'V': 1, 'L': 1, 'Y': 2, 'R': 1, 'F': 1}\n"
   ]
  },
  {
   "cell_type": "markdown",
   "metadata": {
    "id": "o1Id8LZO4SD2"
   },
   "source": [
    "### 65. List & Dictionary - Calculating Nucleotide Composition in Codon Positions\n",
    "\n",
    "#### Question: Write a function to calculate the nucleotide composition at each codon position (1st, 2nd, 3rd) in the DNA sequence \"ATGCGTACGTT\".\n",
    "\n",
    "##### # Output: {1: {'A': 1, 'T': 1, 'C': 1, 'G': 2}, 2: {'A': 0, 'T': 1, 'C': 3, 'G': 1}, 3: {'A': 1, 'T': 2, 'C': 0, 'G': 2}}\n"
   ]
  },
  {
   "cell_type": "code",
   "execution_count": 65,
   "metadata": {
    "colab": {
     "base_uri": "https://localhost:8080/"
    },
    "executionInfo": {
     "elapsed": 7,
     "status": "ok",
     "timestamp": 1725517898325,
     "user": {
      "displayName": "Prateek Paul",
      "userId": "17770739234551209808"
     },
     "user_tz": -330
    },
    "id": "p5o_jwe84SD2",
    "outputId": "01a5a3c7-1f46-4c67-fd0e-209f7428659c"
   },
   "outputs": [
    {
     "name": "stdout",
     "output_type": "stream",
     "text": [
      "{1: {'A': 2, 'T': 0, 'C': 1, 'G': 0}, 2: {'A': 0, 'T': 1, 'C': 1, 'G': 1}, 3: {'A': 0, 'T': 1, 'C': 0, 'G': 2}}\n"
     ]
    }
   ],
   "source": [
    "def nucleotide_composition_by_codon_position(dna_sequence):\n",
    "    positions = {1: {'A': 0, 'T': 0, 'C': 0, 'G': 0},\n",
    "                 2: {'A': 0, 'T': 0, 'C': 0, 'G': 0},\n",
    "                 3: {'A': 0, 'T': 0, 'C': 0, 'G': 0}}\n",
    "    for i in range(0, len(dna_sequence) - 2, 3):\n",
    "        codon = dna_sequence[i:i+3]\n",
    "        for j, nucleotide in enumerate(codon, 1):\n",
    "            positions[j][nucleotide] += 1\n",
    "    return positions\n",
    "\n",
    "dna_sequence = \"ATGCGTACGTT\"\n",
    "print(nucleotide_composition_by_codon_position(dna_sequence))\n",
    "# Output: {1: {'A': 1, 'T': 1, 'C': 1, 'G': 2}, 2: {'A': 0, 'T': 1, 'C': 3, 'G': 1}, 3: {'A': 1, 'T': 2, 'C': 0, 'G': 2}}\n"
   ]
  },
  {
   "cell_type": "markdown",
   "metadata": {
    "id": "4jDX8kzc4SD3"
   },
   "source": [
    "### 66. List & Set - Identifying Non-overlapping Motifs\n",
    "\n",
    "#### Question: Write a function to find all non-overlapping occurrences of the motif \"ACG\" in the DNA sequence \"ATGCGTACGTTACG\".\n",
    "\n",
    "##### Output: [5, 11]"
   ]
  },
  {
   "cell_type": "code",
   "execution_count": 66,
   "metadata": {
    "colab": {
     "base_uri": "https://localhost:8080/"
    },
    "executionInfo": {
     "elapsed": 7,
     "status": "ok",
     "timestamp": 1725517898325,
     "user": {
      "displayName": "Prateek Paul",
      "userId": "17770739234551209808"
     },
     "user_tz": -330
    },
    "id": "MpSyTITT4SD3",
    "outputId": "2ea00962-17d2-4e1a-aecf-02e9a79b622b"
   },
   "outputs": [
    {
     "name": "stdout",
     "output_type": "stream",
     "text": [
      "[6, 11]\n"
     ]
    }
   ],
   "source": [
    "def find_non_overlapping_motifs(dna_sequence, motif):\n",
    "    positions = []\n",
    "    motif_len = len(motif)\n",
    "    i = 0\n",
    "    while i <= len(dna_sequence) - motif_len:\n",
    "        if dna_sequence[i:i+motif_len] == motif:\n",
    "            positions.append(i)\n",
    "            i += motif_len\n",
    "        else:\n",
    "            i += 1\n",
    "    return positions\n",
    "\n",
    "dna_sequence = \"ATGCGTACGTTACG\"\n",
    "motif = \"ACG\"\n",
    "print(find_non_overlapping_motifs(dna_sequence, motif))  # Output: [5, 11]\n"
   ]
  },
  {
   "cell_type": "markdown",
   "metadata": {
    "id": "AK1UkQKy4SD3"
   },
   "source": [
    "### 67. List & Dictionary - Creating a Reverse Complement Dictionary\n",
    "\n",
    "#### Question: Write a function to create a dictionary that maps each codon to its reverse complement in a DNA sequence \"ATGCGTACGTT\".\n",
    "\n",
    "##### Output: {'ATG': 'CAT', 'CGT': 'ACG', 'ACG': 'CGT', 'GTT': 'AAC'}\n"
   ]
  },
  {
   "cell_type": "code",
   "execution_count": 67,
   "metadata": {
    "colab": {
     "base_uri": "https://localhost:8080/"
    },
    "executionInfo": {
     "elapsed": 7,
     "status": "ok",
     "timestamp": 1725517898325,
     "user": {
      "displayName": "Prateek Paul",
      "userId": "17770739234551209808"
     },
     "user_tz": -330
    },
    "id": "dv52d4UZ4SD3",
    "outputId": "e868697f-798c-40d7-ae42-5cc7259c72c2"
   },
   "outputs": [
    {
     "name": "stdout",
     "output_type": "stream",
     "text": [
      "{'ATG': 'CAT', 'CGT': 'ACG', 'ACG': 'CGT'}\n"
     ]
    }
   ],
   "source": [
    "def codon_reverse_complement_dict(dna_sequence):\n",
    "    reverse_complement_dict = {}\n",
    "    for i in range(0, len(dna_sequence) - 2, 3):\n",
    "        codon = dna_sequence[i:i+3]\n",
    "        reverse_complement_dict[codon] = reverse_complement(codon)\n",
    "    return reverse_complement_dict\n",
    "\n",
    "dna_sequence = \"ATGCGTACGTT\"\n",
    "print(codon_reverse_complement_dict(dna_sequence))\n",
    "# Output: {'ATG': 'CAT', 'CGT': 'ACG', 'ACG': 'CGT', 'GTT': 'AAC'}\n"
   ]
  },
  {
   "cell_type": "markdown",
   "metadata": {
    "id": "PXEQqeXr4SD3"
   },
   "source": [
    "### 68. List & String - Transcribing DNA with Ambiguous Bases\n",
    "\n",
    "#### Question: Write a function to transcribe a DNA sequence with ambiguous bases \"ATGCGTNCGTT\" into an RNA sequence, where 'N' represents any nucleotide.\n",
    "\n",
    "##### Output: 'UACGCANGCAA'"
   ]
  },
  {
   "cell_type": "code",
   "execution_count": 68,
   "metadata": {
    "colab": {
     "base_uri": "https://localhost:8080/"
    },
    "executionInfo": {
     "elapsed": 919,
     "status": "ok",
     "timestamp": 1725517899238,
     "user": {
      "displayName": "Prateek Paul",
      "userId": "17770739234551209808"
     },
     "user_tz": -330
    },
    "id": "J9-bRCP_4SD3",
    "outputId": "30994e5b-4feb-4e19-8002-18fa128717ab"
   },
   "outputs": [
    {
     "name": "stdout",
     "output_type": "stream",
     "text": [
      "UACGCANGCAA\n"
     ]
    }
   ],
   "source": [
    "def transcribe_with_ambiguity(dna_sequence):\n",
    "    transcription = {'A': 'U', 'T': 'A', 'C': 'G', 'G': 'C', 'N': 'N'}\n",
    "    return ''.join(transcription[base] for base in dna_sequence)\n",
    "\n",
    "dna_sequence = \"ATGCGTNCGTT\"\n",
    "print(transcribe_with_ambiguity(dna_sequence))  # Output: 'UACGCANGCAA'\n"
   ]
  },
  {
   "cell_type": "markdown",
   "metadata": {
    "id": "Lf3yc5284SD3"
   },
   "source": [
    "### 69. String & List - Translating Overlapping Codons with Degenerate Bases\n",
    "\n",
    "#### Question: Write a function to translate overlapping codons in a DNA sequence \"ATGCGTACGTNNN\" using a genetic code that includes degenerate bases.\n",
    "\n",
    "##### Output: ['Methionine', 'Arginine', 'Threonine', 'Any']\n"
   ]
  },
  {
   "cell_type": "code",
   "execution_count": 69,
   "metadata": {
    "colab": {
     "base_uri": "https://localhost:8080/"
    },
    "executionInfo": {
     "elapsed": 3,
     "status": "ok",
     "timestamp": 1725517899238,
     "user": {
      "displayName": "Prateek Paul",
      "userId": "17770739234551209808"
     },
     "user_tz": -330
    },
    "id": "LqKxsjp94SD3",
    "outputId": "08193122-505a-4381-ccc0-e2ecfa7975a3"
   },
   "outputs": [
    {
     "name": "stdout",
     "output_type": "stream",
     "text": [
      "['Methionine', 'Arginine', 'Threonine', 'Any']\n"
     ]
    }
   ],
   "source": [
    "def translate_with_degenerate_bases(dna_sequence, genetic_code):\n",
    "    protein = []\n",
    "    for i in range(0, len(dna_sequence) - 2, 3):\n",
    "        codon = dna_sequence[i:i+3]\n",
    "        amino_acid = genetic_code.get(codon, 'Unknown')\n",
    "        if amino_acid != 'Unknown':\n",
    "            protein.append(amino_acid)\n",
    "    return protein\n",
    "\n",
    "degenerate_genetic_code = {\n",
    "    'ATG': 'Methionine', 'CGT': 'Arginine', 'ACG': 'Threonine', 'TNN': 'Any'\n",
    "}\n",
    "\n",
    "dna_sequence = \"ATGCGTACGTNNN\"\n",
    "print(translate_with_degenerate_bases(dna_sequence, degenerate_genetic_code))\n",
    "# Output: ['Methionine', 'Arginine', 'Threonine', 'Any']\n"
   ]
  },
  {
   "cell_type": "markdown",
   "metadata": {
    "id": "Z_zI5ro54SD3"
   },
   "source": [
    "### 70. List & String - Finding Longest Protein Coding Sequence\n",
    "\n",
    "#### Question: Write a function to find the longest protein coding sequence in the DNA sequence \"ATGCGTACGTTGAAATGCCGTTAG\"."
   ]
  },
  {
   "cell_type": "code",
   "execution_count": 70,
   "metadata": {
    "colab": {
     "base_uri": "https://localhost:8080/"
    },
    "executionInfo": {
     "elapsed": 2,
     "status": "ok",
     "timestamp": 1725517899238,
     "user": {
      "displayName": "Prateek Paul",
      "userId": "17770739234551209808"
     },
     "user_tz": -330
    },
    "id": "yltDQl0K4SD3",
    "outputId": "73784e39-7f78-48ba-c609-3a77c1d45489"
   },
   "outputs": [
    {
     "name": "stdout",
     "output_type": "stream",
     "text": [
      "ATGCGTACGTTGAAATGCCGTTAG\n"
     ]
    }
   ],
   "source": [
    "def longest_protein_coding_sequence(dna_sequence, genetic_code):\n",
    "    stop_codons = {'TAA', 'TAG', 'TGA'}\n",
    "    longest_sequence = ''\n",
    "    for i in range(len(dna_sequence) - 2):\n",
    "        if dna_sequence[i:i+3] == 'ATG':\n",
    "            for j in range(i, len(dna_sequence) - 2, 3):\n",
    "                codon = dna_sequence[j:j+3]\n",
    "                if codon in stop_codons:\n",
    "                    protein_sequence = dna_sequence[i:j+3]\n",
    "                    if len(protein_sequence) > len(longest_sequence):\n",
    "                        longest_sequence = protein_sequence\n",
    "                    break\n",
    "    return longest_sequence\n",
    "\n",
    "genetic_code = {\n",
    "    'ATG': 'Methionine', 'CGT': 'Arginine', 'TAC': 'Tyrosine', 'GTT': 'Valine',\n",
    "    'TAA': 'Stop', 'TAG': 'Stop', 'TGA': 'Stop'\n",
    "}\n",
    "\n",
    "dna_sequence = \"ATGCGTACGTTGAAATGCCGTTAG\"\n",
    "print(longest_protein_coding_sequence(dna_sequence, genetic_code))\n",
    "# Output: 'ATGCGTACGTTGAAATGCCGTTAG'\n"
   ]
  },
  {
   "cell_type": "markdown",
   "metadata": {
    "id": "gPcrRmVq4SD3"
   },
   "source": [
    "## Please use the below seq for verifying the results"
   ]
  },
  {
   "cell_type": "code",
   "execution_count": 71,
   "metadata": {
    "executionInfo": {
     "elapsed": 2,
     "status": "ok",
     "timestamp": 1725517899238,
     "user": {
      "displayName": "Prateek Paul",
      "userId": "17770739234551209808"
     },
     "user_tz": -330
    },
    "id": "kvRKOzkZ4SD3"
   },
   "outputs": [],
   "source": [
    "dna_sequences = [\n",
    "    \"ATGCGTACGTTGACGTAGCCTAGCGTACGATTACGCGTATGGGCTACTGCGTACGTTGCGTATGCGTACGTTGAATGCGT\",\n",
    "    \"GCTAGCGTACGTTGCGTAGCGTACGTGACGTACTGCGTAGCTAGCGTTACGTTACGCGTACGATGCGTACGTGCGTGACG\",\n",
    "    \"ATGCGTACGTTGCGTATGCGTACGTTGACGTAGCTAGCGTACGTTACGCGTACGCTGCGTAGCGTACGCGTATGCGTACG\",\n",
    "    \"CGTACGTTGACGTAGCGTACGTGCGTACGCGTACGCTAGCGTACGTTGCGTACGTACGCGTACGTTGCGTACGCGTACGT\",\n",
    "    \"ACGTTGCGTACGCGTACGTTGACGTAGCGTACGTTACGCGTACGTGCGTAGCGTACGCTGCGTACGCGTACGTTGCGTAC\"\n",
    "]\n",
    "\n",
    "protein_sequences = [\n",
    "    \"MKVLYRLYRFYMKVLYRLYRFYMKVLYRLYRFYMKVLYRLYRFYMKVLYRLYRFYMKVLYRLYRFYMKVLYRLYRFY\",\n",
    "    \"MVVVLYRLYRFYMKVLYRLYRFYMKVLYRLYRFYMKVLYRLYRFYMKVLYRLYRFYMKVLYRLYRFYMKVLYRLYRFY\",\n",
    "    \"MKVLYRLYRFYMKVLYRLYRFYMKVLYRLYRFYMKVLYRLYRFYMKVLYRLYRFYMKVLYRLYRFYMKVLYRLYRFY\",\n",
    "    \"MKVLYRLYRFYMKVLYRLYRFYMKVLYRLYRFYMKVLYRLYRFYMKVLYRLYRFYMKVLYRLYRFYMKVLYRLYRFY\",\n",
    "    \"MKVLYRLYRFYMKVLYRLYRFYMKVLYRLYRFYMKVLYRLYRFYMKVLYRLYRFYMKVLYRLYRFYMKVLYRLYRFY\"\n",
    "]"
   ]
  },
  {
   "cell_type": "code",
   "execution_count": 72,
   "metadata": {
    "executionInfo": {
     "elapsed": 2,
     "status": "ok",
     "timestamp": 1725517899238,
     "user": {
      "displayName": "Prateek Paul",
      "userId": "17770739234551209808"
     },
     "user_tz": -330
    },
    "id": "6jk5zDiY4SD3"
   },
   "outputs": [],
   "source": [
    "dna_sequences = [\n",
    "    \"ATGCGTACGTTGACGTAGCCTAGCGTACGATTACGCGTATGGGCTACTGCGTACGTTGCGTATGCGTACGTTGAATGCGT\"\n",
    "    \"TACGTTGACGTAGCGTACGTGCGTAGCTAGCGTACGTTACGCGTACGATGCGTACGTGCGTGACGTACGTTACGCGTACG\"\n",
    "    \"TAGCGTACGTTGCGTACGTTGACGTAGCGTACGCTGCGTAGCGTACGCGTATGCGTACGTTGACGTAGCGTACGTGCGTA\"\n",
    "    \"GCTAGCGTACGTTGCGTACGTACGCGTACGTTGCGTACGCGTACGTTGACGTAGCGTACGTTACGCGTACGTGCGTAGCG\",\n",
    "\n",
    "    \"GCTAGCGTACGTTGCGTAGCGTACGTGACGTACTGCGTAGCTAGCGTTACGTTACGCGTACGATGCGTACGTGCGTGACG\"\n",
    "    \"TACGTTGACGTAGCGTACGTTACGCGTACGATGCGTACGTGCGTGACGTACGTTACGCGTACGTGCGTAGCGTACGTTAC\"\n",
    "    \"GCGTACGTGCGTACGTTGACGTAGCGTACGTTACGCGTACGTGCGTAGCGTACGCTGCGTACGCGTACGTTGCGTACGCG\"\n",
    "    \"TACGTGCGTACGTTGACGTAGCGTACGTTACGCGTACGTGCGTAGCGTACGTTACGCGTACGTTGACGTAGCGTACGTTG\",\n",
    "\n",
    "    \"ATGCGTACGTTGCGTATGCGTACGTTGACGTAGCTAGCGTACGTTACGCGTACGCTGCGTAGCGTACGCGTATGCGTACG\"\n",
    "    \"GCGTACGTTGCGTAGCGTACGTTGACGTAGCGTACGCTGCGTAGCGTACGCGTATGCGTACGTTGACGTAGCGTACGTGC\"\n",
    "    \"GTTACGCGTACGTGCGTAGCGTACGCTGCGTACGCGTACGTTGCGTACGTGCGTACGTTGACGTAGCGTACGTTACGCGT\"\n",
    "    \"ACGTGCGTAGCGTACGTTGACGTAGCGTACGTTACGCGTACGTGCGTAGCGTACGTTGCGTACGCGTACGTTGACGTAGC\",\n",
    "\n",
    "    \"CGTACGTTGACGTAGCGTACGTGCGTACGCGTACGCTAGCGTACGTTGCGTACGTACGCGTACGTTGCGTACGCGTACGT\"\n",
    "    \"GCGTACGTTGACGTAGCGTACGTGCGTACGCGTACGTTGACGTAGCGTACGTTACGCGTACGCTGCGTACGCGTACGTTG\"\n",
    "    \"CGTACGTTGACGTAGCGTACGTGCGTACGCGTACGCTAGCGTACGTTGCGTACGTACGCGTACGTTGCGTACGCGTACGT\"\n",
    "    \"GCGTACGTTGACGTAGCGTACGTGCGTACGCGTACGTTGACGTAGCGTACGTTACGCGTACGCTGCGTACGCGTACGTTG\",\n",
    "\n",
    "    \"ACGTTGCGTACGCGTACGTTGACGTAGCGTACGTTACGCGTACGTGCGTAGCGTACGCTGCGTACGCGTACGTTGCGTAC\"\n",
    "    \"GCGTACGTGCGTACGTTGACGTAGCGTACGTTACGCGTACGTGCGTAGCGTACGCTGCGTACGCGTACGTTGCGTACGCG\"\n",
    "    \"TACGTGCGTAGCGTACGTTGACGTAGCGTACGTTACGCGTACGTGCGTAGCGTACGCTGCGTACGCGTACGTTGCGTACG\"\n",
    "    \"GTTGACGTAGCGTACGTTACGCGTACGTGCGTAGCGTACGCTGCGTACGCGTACGTTGCGTACGCGTACGTGCGTAGCGT\"\n",
    "]\n"
   ]
  },
  {
   "cell_type": "code",
   "execution_count": 73,
   "metadata": {
    "executionInfo": {
     "elapsed": 3,
     "status": "ok",
     "timestamp": 1725517899239,
     "user": {
      "displayName": "Prateek Paul",
      "userId": "17770739234551209808"
     },
     "user_tz": -330
    },
    "id": "O3uNkNcN4SD3"
   },
   "outputs": [],
   "source": [
    "protein_sequences = [\n",
    "    \"MKVLYRLYRFYMKVLYRLYRFYMKVLYRLYRFYMKVLYRLYRFYMKVLYRLYRFYMKVLYRLYRFYMKVLYRLYRFY\"\n",
    "    \"MKVLYRLYRFYMKVLYRLYRFYMKVLYRLYRFYMKVLYRLYRFYMKVLYRLYRFYMKVLYRLYRFYMKVLYRLYRFY\"\n",
    "    \"MKVLYRLYRFYMKVLYRLYRFYMKVLYRLYRFYMKVLYRLYRFYMKVLYRLYRFYMKVLYRLYRFYMKVLYRLYRFY\"\n",
    "    \"MKVLYRLYRFYMKVLYRLYRFYMKVLYRLYRFYMKVLYRLYRFYMKVLYRLYRFYMKVLYRLYRFYMKVLYRLYRFY\",\n",
    "\n",
    "    \"MVVVLYRLYRFYMKVLYRLYRFYMKVLYRLYRFYMKVLYRLYRFYMKVLYRLYRFYMKVLYRLYRFYMKVLYRLYRFY\"\n",
    "    \"MKVLYRLYRFYMKVLYRLYRFYMKVLYRLYRFYMKVLYRLYRFYMKVLYRLYRFYMKVLYRLYRFYMKVLYRLYRFY\"\n",
    "    \"MKVLYRLYRFYMKVLYRLYRFYMKVLYRLYRFYMKVLYRLYRFYMKVLYRLYRFYMKVLYRLYRFYMKVLYRLYRFY\"\n",
    "    \"MKVLYRLYRFYMKVLYRLYRFYMKVLYRLYRFYMKVLYRLYRFYMKVLYRLYRFYMKVLYRLYRFYMKVLYRLYRFY\",\n",
    "\n",
    "    \"MKVLYRLYRFYMKVLYRLYRFYMKVLYRLYRFYMKVLYRLYRFYMKVLYRLYRFYMKVLYRLYRFYMKVLYRLYRFY\"\n",
    "    \"MKVLYRLYRFYMKVLYRLYRFYMKVLYRLYRFYMKVLYRLYRFYMKVLYRLYRFYMKVLYRLYRFYMKVLYRLYRFY\"\n",
    "    \"MKVLYRLYRFYMKVLYRLYRFYMKVLYRLYRFYMKVLYRLYRFYMKVLYRLYRFYMKVLYRLYRFYMKVLYRLYRFY\"\n",
    "    \"MKVLYRLYRFYMKVLYRLYRFYMKVLYRLYRFYMKVLYRLYRFYMKVLYRLYRFYMKVLYRLYRFYMKVLYRLYRFY\",\n",
    "\n",
    "    \"MKVLYRLYRFYMKVLYRLYRFYMKVLYRLYRFYMKVLYRLYRFYMKVLYRLYRFYMKVLYRLYRFYMKVLYRLYRFY\"\n",
    "    \"MKVLYRLYRFYMKVLYRLYRFYMKVLYRLYRFYMKVLYRLYRFYMKVLYRLYRFYMKVLYRLYRFYMKVLYRLYRFY\"\n",
    "    \"MKVLYRLYRFYMKVLYRLYRFYMKVLYRLYRFYMKVLYRLYRFYMKVLYRLYRFYMKVLYRLYRFYMKVLYRLYRFY\"\n",
    "    \"MKVLYRLYRFYMKVLYRLYRFYMKVLYRLYRFYMKVLYRLYRFYMKVLYRLYRFYMKVLYRLYRFYMKVLYRLYRFY\",\n",
    "\n",
    "    \"MKVLYRLYRFYMKVLYRLYRFYMKVLYRLYRFYMKVLYRLYRFYMKVLYRLYRFYMKVLYRLYRFYMKVLYRLYRFY\"\n",
    "    \"MKVLYRLYRFYMKVLYRLYRFYMKVLYRLYRFYMKVLYRLYRFYMKVLYRLYRFYMKVLYRLYRFYMKVLYRLYRFY\"\n",
    "    \"MKVLYRLYRFYMKVLYRLYRFYMKVLYRLYRFYMKVLYRLYRFYMKVLYRLYRFYMKVLYRLYRFYMKVLYRLYRFY\"\n",
    "    \"MKVLYRLYRFYMKVLYRLYRFYMKVLYRLYRFYMKVLYRLYRFYMKVLYRLYRFYMKVLYRLYRFYMKVLYRLYRFY\"\n",
    "]\n"
   ]
  }
 ],
 "metadata": {
  "colab": {
   "provenance": []
  },
  "kernelspec": {
   "display_name": "Python 3",
   "name": "python3"
  },
  "language_info": {
   "codemirror_mode": {
    "name": "ipython",
    "version": 3
   },
   "file_extension": ".py",
   "mimetype": "text/x-python",
   "name": "python",
   "nbconvert_exporter": "python",
   "pygments_lexer": "ipython3",
   "version": "3.9.6"
  }
 },
 "nbformat": 4,
 "nbformat_minor": 0
}
