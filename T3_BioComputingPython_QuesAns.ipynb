{
 "cells": [
  {
   "cell_type": "markdown",
   "metadata": {},
   "source": [
    "## This notebook is for BioComputingPython Refresher course at IIITD, by Dr. Jaspreet Kaur Dhanjal.\n",
    "## This notebook is created by Prateek Paul.\n",
    "* Email: prateekp@iiitd.ac.in\n",
    "* LinkedIn: [linkedin.com/in/prateekpaulpro/](https://linkedin.com/in/prateekpaulpro/)\n",
    "\n",
    "Disclaimer: \n",
    "The code and content in this notebook are compiled from various open sources, personal experience, and reference materials. It is intended solely for educational purposes. All credits for original ideas and code snippets go to their respective authors. If you find any inaccuracies or have suggestions, feel free to reach out."
   ]
  },
  {
   "cell_type": "markdown",
   "metadata": {
    "id": "rpXCdX30NNRx"
   },
   "source": [
    "# Q1\n",
    "### Write a Python program that classifies a given protein sequence into one of five enzyme classes based on specific hypothetical motifs. Each enzyme class is associated with a unique motif: Hydrolase (GXSXG), Transferase (KTXN), Oxidoreductase (CXXC), Lyase (DXXD), and Ligase (RXYK).\n",
    "### The program should check if any of these motifs are present in the input sequence and print the corresponding enzyme class. If no motifs are found, the program should indicate that no matching enzyme class exists"
   ]
  },
  {
   "cell_type": "code",
   "execution_count": null,
   "metadata": {
    "colab": {
     "base_uri": "https://localhost:8080/"
    },
    "executionInfo": {
     "elapsed": 11511,
     "status": "ok",
     "timestamp": 1721624336408,
     "user": {
      "displayName": "Amisha Gupta",
      "userId": "12146826724418933877"
     },
     "user_tz": -330
    },
    "id": "bxlAtYMAjZQS",
    "outputId": "eead6d46-5881-48f2-c630-38331260e4e6"
   },
   "outputs": [
    {
     "name": "stdout",
     "output_type": "stream",
     "text": [
      "Enter the protein sequence: ATDRYK\n",
      "Ligase\n"
     ]
    }
   ],
   "source": [
    "#Write your code here\n",
    "def classify_protein(sequence):\n",
    "    # Define the motifs for each enzyme class\n",
    "    hydrolase_motif = \"GXSXG\"\n",
    "    transferase_motif = \"KTXN\"\n",
    "    oxidoreductase_motif = \"CXXC\"\n",
    "    lyase_motif = \"DXXD\"\n",
    "    ligase_motif = \"RXYK\"\n",
    "\n",
    "    # Check for each motif in the sequence\n",
    "    if hydrolase_motif.replace(\"X\", \"\") in sequence.replace(\"X\", \"\"):\n",
    "        print(\"Hydrolase\")\n",
    "    elif transferase_motif.replace(\"X\", \"\") in sequence.replace(\"X\", \"\"):\n",
    "        print(\"Transferase\")\n",
    "    elif oxidoreductase_motif.replace(\"X\", \"\") in sequence.replace(\"X\", \"\"):\n",
    "        print(\"Oxidoreductase\")\n",
    "    elif lyase_motif.replace(\"X\", \"\") in sequence.replace(\"X\", \"\"):\n",
    "        print(\"Lyase\")\n",
    "    elif ligase_motif.replace(\"X\", \"\") in sequence.replace(\"X\", \"\"):\n",
    "        print(\"Ligase\")\n",
    "    else:\n",
    "        print(\"No matching enzyme class\")\n",
    "\n",
    "# Example usage\n",
    "protein_sequence = input(\"Enter the protein sequence: \")\n",
    "classify_protein(protein_sequence)\n"
   ]
  },
  {
   "cell_type": "markdown",
   "metadata": {
    "id": "ksBaOdlAWIw4"
   },
   "source": [
    "# Q2\n",
    "### Write a Python program that checks if a given amino acid sequence is valid.The program should determine if the sequence contains any invalid amino acids, defined as 'B', 'J', 'O', 'U', 'X', and 'Z'.\n",
    "### If an invalid amino acid is found, the program should print the first invalid amino acid and state that the sequence is invalid. If the sequence contains only valid amino acids (A, C, D, E, F, G, H, I, K, L, M, N, P, Q, R, S, T, V, W, Y), the program should confirm that the sequence is valid."
   ]
  },
  {
   "cell_type": "code",
   "execution_count": null,
   "metadata": {
    "colab": {
     "base_uri": "https://localhost:8080/"
    },
    "executionInfo": {
     "elapsed": 9502,
     "status": "ok",
     "timestamp": 1721624400621,
     "user": {
      "displayName": "Amisha Gupta",
      "userId": "12146826724418933877"
     },
     "user_tz": -330
    },
    "id": "kFeg2eKgjyjx",
    "outputId": "55099c01-57f8-48a3-ccaa-bb82935ab097"
   },
   "outputs": [
    {
     "name": "stdout",
     "output_type": "stream",
     "text": [
      "Enter the protein sequence: MTPFYWB\n",
      "Invalid amino acid found: B. The sequence is invalid.\n"
     ]
    }
   ],
   "source": [
    "#Write your code here\n",
    "def check_valid_amino_acid_sequence(sequence):\n",
    "    # Define the valid and invalid amino acids\n",
    "    valid_amino_acids = \"ACDEFGHIKLMNPQRSTVWY\"\n",
    "    invalid_amino_acids = \"BJOXUZ\"\n",
    "\n",
    "    # Check the sequence for invalid amino acids\n",
    "    for amino_acid in sequence:\n",
    "        if amino_acid in invalid_amino_acids:\n",
    "            print(f\"Invalid amino acid found: {amino_acid}. The sequence is invalid.\")\n",
    "            return\n",
    "\n",
    "    # If no invalid amino acids are found\n",
    "    print(\"The sequence is valid.\")\n",
    "\n",
    "# Example usage\n",
    "protein_sequence = input(\"Enter the protein sequence: \")\n",
    "check_valid_amino_acid_sequence(protein_sequence)\n"
   ]
  },
  {
   "cell_type": "markdown",
   "metadata": {
    "id": "TQ8q_WsO1aDH"
   },
   "source": [
    "# Q3\n",
    "### To determine the ATGC content of a given DNA sequence, count the occurrences of each nucleotide and calculate their percentage content relative to the total sequence length.\n",
    "\n",
    "### For the sequence \"ATGCGATAACTAG\", the contents are approximately 30.77% Adenine, 23.08% Thymine, 15.38% Guanine, and 23.08% Cytosine."
   ]
  },
  {
   "cell_type": "code",
   "execution_count": null,
   "metadata": {
    "colab": {
     "base_uri": "https://localhost:8080/"
    },
    "executionInfo": {
     "elapsed": 453,
     "status": "ok",
     "timestamp": 1721624483746,
     "user": {
      "displayName": "Amisha Gupta",
      "userId": "12146826724418933877"
     },
     "user_tz": -330
    },
    "id": "UAYTefK7kBBW",
    "outputId": "2e75b22b-91cd-4b2f-8c94-bd425c14301e"
   },
   "outputs": [
    {
     "name": "stdout",
     "output_type": "stream",
     "text": [
      "Adenine (A): 38.46%\n",
      "Thymine (T): 23.08%\n",
      "Guanine (G): 23.08%\n",
      "Cytosine (C): 15.38%\n"
     ]
    }
   ],
   "source": [
    "#Write your code here\n",
    "def calculate_nucleotide_content(sequence):\n",
    "    # Convert sequence to uppercase to ensure consistency\n",
    "    sequence = sequence.upper()\n",
    "\n",
    "    # Total length of the sequence\n",
    "    total_length = len(sequence)\n",
    "\n",
    "    # Count the occurrences of each nucleotide\n",
    "    count_A = sequence.count('A')\n",
    "    count_T = sequence.count('T')\n",
    "    count_G = sequence.count('G')\n",
    "    count_C = sequence.count('C')\n",
    "\n",
    "    # Calculate the percentage content of each nucleotide\n",
    "    percent_A = (count_A / total_length) * 100\n",
    "    percent_T = (count_T / total_length) * 100\n",
    "    percent_G = (count_G / total_length) * 100\n",
    "    percent_C = (count_C / total_length) * 100\n",
    "\n",
    "    # Print the results\n",
    "    print(f\"Adenine (A): {percent_A:.2f}%\")\n",
    "    print(f\"Thymine (T): {percent_T:.2f}%\")\n",
    "    print(f\"Guanine (G): {percent_G:.2f}%\")\n",
    "    print(f\"Cytosine (C): {percent_C:.2f}%\")\n",
    "\n",
    "# Example usage\n",
    "dna_sequence = \"ATGCGATAACTAG\"\n",
    "seq = \"ATGCGATAACTAG\"\n",
    "calculate_nucleotide_content(seq)\n"
   ]
  },
  {
   "cell_type": "markdown",
   "metadata": {
    "id": "xZEj7V2Z2VZA"
   },
   "source": [
    "# Q4\n",
    "How can we construct the reverse complement of a given DNA sequence?\n",
    "\n",
    "### Explanation\n",
    "The reverse complement of a DNA sequence is obtained by two steps:\n",
    "\n",
    "### Complement: Replace each nucleotide in the sequence with its complement:\n",
    "* Adenine (A) is replaced with Thymine (T)\n",
    "* Thymine (T) is replaced with Adenine (A)\n",
    "* Guanine (G) is replaced with Cytosine (C)\n",
    "* Cytosine (C) is replaced with Guanine (G)\n",
    "\n",
    "### Reverse: Reverse the entire sequence after finding its complement.\n",
    "Example:\n",
    "Consider the following DNA sequence: \"ATGCGATAACTAG\"\n",
    "\n",
    "Complement:\n",
    "\n",
    "* A -> T\n",
    "* T -> A\n",
    "* G -> C\n",
    "* C -> G\n",
    "* G -> C\n",
    "* A -> T\n",
    "* T -> A\n",
    "* A -> T\n",
    "* A -> T\n",
    "* C -> G\n",
    "* T -> A\n",
    "* A -> T\n",
    "* G -> C\n",
    "\n",
    "* Complemented sequence: \"TACGCTATTGATC\"\n",
    "* Reverse:\n",
    "Reversed complemented sequence: \"CTAGTTATCGCAT\""
   ]
  },
  {
   "cell_type": "code",
   "execution_count": null,
   "metadata": {
    "colab": {
     "base_uri": "https://localhost:8080/"
    },
    "executionInfo": {
     "elapsed": 6,
     "status": "ok",
     "timestamp": 1721624780284,
     "user": {
      "displayName": "Amisha Gupta",
      "userId": "12146826724418933877"
     },
     "user_tz": -330
    },
    "id": "DB72-PVckJqt",
    "outputId": "28f90b9d-8ac8-432c-b9bb-e8b210426ab7"
   },
   "outputs": [
    {
     "name": "stdout",
     "output_type": "stream",
     "text": [
      "Original sequence: ATGCGATAACTAG\n",
      "Reverse complement: CTAGTTATCGCAT\n"
     ]
    }
   ],
   "source": [
    "def reverse_complement(sequence):\n",
    "    # Convert sequence to uppercase to ensure consistency\n",
    "    sequence = sequence.upper()\n",
    "\n",
    "    # Replace each base with its complement\n",
    "    complement_sequence = sequence.replace('A', 't').replace('T', 'a').replace('G', 'c').replace('C', 'g')\n",
    "    complement_sequence = complement_sequence.upper()\n",
    "\n",
    "    # Reverse the complemented sequence without slicing\n",
    "    reverse_complement_sequence = \"\"\n",
    "    for i in range(len(complement_sequence) - 1, -1, -1):\n",
    "        reverse_complement_sequence += complement_sequence[i]\n",
    "\n",
    "    return reverse_complement_sequence\n",
    "\n",
    "# Example usage\n",
    "sequence = \"ATGCGATAACTAG\"\n",
    "rev_complement = reverse_complement(sequence)\n",
    "\n",
    "print(f\"Original sequence: {sequence}\")\n",
    "print(f\"Reverse complement: {rev_complement}\")"
   ]
  },
  {
   "cell_type": "markdown",
   "metadata": {
    "id": "RiWQZZvz3iIx"
   },
   "source": [
    "# Q5.\n",
    "How can we calculate the melting temperature (Tm) of a given DNA sequence?\n",
    "\n",
    "### Explanation\n",
    "The melting temperature (Tm) of a DNA sequence is the temperature at which half of the DNA duplex dissociates to become single-stranded. It is a crucial parameter in various molecular biology techniques such as PCR.\n",
    "\n",
    "### There are different methods to estimate Tm, but a commonly used method for short oligonucleotides is the Wallace rule:\n",
    "\n",
    "### For sequences shorter than 14 nucleotides:\n",
    "𝑇𝑚=2×(number of A/T)+4×(number of G/C)\n",
    "* For longer sequences, more complex formulas involving the sequence length and the concentration of ions (salt) in the solution are used, but the Wallace rule provides a quick and useful approximation.\n",
    "\n",
    "Count the Nucleotides:\n",
    "\n",
    "Adenine (A): 4\n",
    "Thymine (T): 3\n",
    "Guanine (G): 2\n",
    "Cytosine (C): 3\n",
    "Apply the Wallace Rule:\n",
    "\n",
    "Number of A/T: 7\n",
    "Number of G/C: 5\n",
    "𝑇𝑚=2×7+4×5=14+20=34∘𝐶\n",
    "Tm=2×7+4×5=14+20=34∘C\n"
   ]
  },
  {
   "cell_type": "code",
   "execution_count": null,
   "metadata": {
    "colab": {
     "base_uri": "https://localhost:8080/"
    },
    "executionInfo": {
     "elapsed": 798,
     "status": "ok",
     "timestamp": 1721624815197,
     "user": {
      "displayName": "Amisha Gupta",
      "userId": "12146826724418933877"
     },
     "user_tz": -330
    },
    "id": "ZTaS8JgbkTwU",
    "outputId": "5fe6f225-36d5-4cee-a23f-46d703d8b74a"
   },
   "outputs": [
    {
     "name": "stdout",
     "output_type": "stream",
     "text": [
      "Melting temperature (Tm) of the sequence: 36°C\n"
     ]
    }
   ],
   "source": [
    "def calculate_melting_temperature(sequence):\n",
    "    # Convert sequence to uppercase\n",
    "    sequence = sequence.upper()\n",
    "\n",
    "    # Initialize counts\n",
    "    a_count = 0\n",
    "    t_count = 0\n",
    "    g_count = 0\n",
    "    c_count = 0\n",
    "\n",
    "    # Count the occurrences of each nucleotide\n",
    "    for nucleotide in sequence:\n",
    "        if nucleotide == 'A':\n",
    "            a_count += 1\n",
    "        elif nucleotide == 'T':\n",
    "            t_count += 1\n",
    "        elif nucleotide == 'G':\n",
    "            g_count += 1\n",
    "        elif nucleotide == 'C':\n",
    "            c_count += 1\n",
    "\n",
    "    # Calculate Tm using the Wallace rule\n",
    "    at_count = a_count + t_count\n",
    "    gc_count = g_count + c_count\n",
    "    tm = 2 * at_count + 4 * gc_count\n",
    "\n",
    "    return tm\n",
    "\n",
    "# Example usage\n",
    "sequence = \"ATGCGATAACTAG\"\n",
    "melting_temperature = calculate_melting_temperature(sequence)\n",
    "\n",
    "print(f\"Melting temperature (Tm) of the sequence: {melting_temperature}°C\")"
   ]
  },
  {
   "cell_type": "markdown",
   "metadata": {
    "id": "ZW-IAG4SHtEA"
   },
   "source": [
    "# Q6\n",
    "### For a given sequence, find the most occurring K-mer count.\n",
    "### Part 1: Finding the Most Occurring k-mer with k=3\n",
    "#### Given the nucleotide sequence: ATGCGTACGTAGCTAGCTAGCTGACGTAGCTAGCTACGATCGTACGTACGATCGTACGTAGCTAGCTACGTAGCTAGCTAGCTACGTAGCTAGCTAGCTAGCTG\n",
    "#### Use the kmer_count function to find the most occurring k-mer of size 3. What is the k-mer and its count in this sequence?\n"
   ]
  },
  {
   "cell_type": "code",
   "execution_count": null,
   "metadata": {
    "colab": {
     "base_uri": "https://localhost:8080/"
    },
    "executionInfo": {
     "elapsed": 772,
     "status": "ok",
     "timestamp": 1721625459749,
     "user": {
      "displayName": "Amisha Gupta",
      "userId": "12146826724418933877"
     },
     "user_tz": -330
    },
    "id": "zWAXuZsSkpR_",
    "outputId": "ae3c8a30-92e8-418a-d1c6-d238c4b56b9b"
   },
   "outputs": [
    {
     "name": "stdout",
     "output_type": "stream",
     "text": [
      "The most occurring 3-mer is 'TAG' with a count of 14.\n"
     ]
    }
   ],
   "source": [
    "#write your code here\n",
    "def kmer_count(sequence, k):\n",
    "    # List to store k-mers and their counts\n",
    "    kmers = []\n",
    "    counts = []\n",
    "\n",
    "    # Slide a window of size k over the sequence\n",
    "    for i in range(len(sequence) - k + 1):\n",
    "        kmer = sequence[i:i + k]\n",
    "\n",
    "        # Check if kmer is already in the list\n",
    "        if kmer in kmers:\n",
    "            index = kmers.index(kmer)\n",
    "            counts[index] += 1\n",
    "        else:\n",
    "            kmers.append(kmer)\n",
    "            counts.append(1)\n",
    "\n",
    "    # Find the k-mer with the highest count\n",
    "    max_count = max(counts)\n",
    "    max_index = counts.index(max_count)\n",
    "    max_kmer = kmers[max_index]\n",
    "\n",
    "    return max_kmer, max_count\n",
    "\n",
    "# Given nucleotide sequence\n",
    "sequence = \"ATGCGTACGTAGCTAGCTAGCTGACGTAGCTAGCTACGATCGTACGTACGATCGTACGTAGCTAGCTACGTAGCTAGCTAGCTACGTAGCTAGCTAGCTAGCTG\"\n",
    "k = 3\n",
    "\n",
    "# Find the most occurring k-mer\n",
    "most_frequent_kmer, count = kmer_count(sequence, k)\n",
    "print(f\"The most occurring {k}-mer is '{most_frequent_kmer}' with a count of {count}.\")\n"
   ]
  },
  {
   "cell_type": "markdown",
   "metadata": {
    "id": "WWaX-YQ5ktfX"
   },
   "source": [
    "Part 2: Finding the Most Occurring k-mer with k Between 10 and 15\n",
    "Given the same nucleotide sequence, Using the kmer_count function, determine the most occurring k-mer for each k value between 10 and 15. List the k-mer and its count for each value of k."
   ]
  },
  {
   "cell_type": "code",
   "execution_count": null,
   "metadata": {
    "colab": {
     "base_uri": "https://localhost:8080/"
    },
    "executionInfo": {
     "elapsed": 453,
     "status": "ok",
     "timestamp": 1721625577624,
     "user": {
      "displayName": "Amisha Gupta",
      "userId": "12146826724418933877"
     },
     "user_tz": -330
    },
    "id": "HWAdg0GBkx3c",
    "outputId": "fffeb6ac-431f-4252-a85b-9b97d6e05fb1"
   },
   "outputs": [
    {
     "name": "stdout",
     "output_type": "stream",
     "text": [
      "The most occurring 10-mer is 'TAGCTAGCTA' with a count of 7.\n",
      "The most occurring 11-mer is 'ACGTAGCTAGC' with a count of 5.\n",
      "The most occurring 12-mer is 'ACGTAGCTAGCT' with a count of 5.\n",
      "The most occurring 13-mer is 'ACGTAGCTAGCTA' with a count of 5.\n",
      "The most occurring 14-mer is 'TACGTAGCTAGCTA' with a count of 4.\n",
      "The most occurring 15-mer is 'TACGTAGCTAGCTAG' with a count of 3.\n"
     ]
    }
   ],
   "source": [
    "#Write your code here\n",
    "def kmer_count(sequence, k):\n",
    "    # List to store k-mers and their counts\n",
    "    kmers = []\n",
    "    counts = []\n",
    "\n",
    "    # Slide a window of size k over the sequence\n",
    "    for i in range(len(sequence) - k + 1):\n",
    "        kmer = sequence[i:i + k]\n",
    "\n",
    "        # Check if kmer is already in the list\n",
    "        if kmer in kmers:\n",
    "            index = kmers.index(kmer)\n",
    "            counts[index] += 1\n",
    "        else:\n",
    "            kmers.append(kmer)\n",
    "            counts.append(1)\n",
    "\n",
    "    # Find the k-mer with the highest count\n",
    "    max_count = max(counts)\n",
    "    max_index = counts.index(max_count)\n",
    "    max_kmer = kmers[max_index]\n",
    "\n",
    "    return max_kmer, max_count\n",
    "\n",
    "# Given nucleotide sequence\n",
    "sequence = \"ATGCGTACGTAGCTAGCTAGCTGACGTAGCTAGCTACGATCGTACGTACGATCGTACGTAGCTAGCTACGTAGCTAGCTAGCTACGTAGCTAGCTAGCTAGCTG\"\n",
    "\n",
    "# Iterate over k values between 10 and 15\n",
    "for k in range(10, 16):\n",
    "    most_frequent_kmer, count = kmer_count(sequence, k)\n",
    "    print(f\"The most occurring {k}-mer is '{most_frequent_kmer}' with a count of {count}.\")\n"
   ]
  },
  {
   "cell_type": "markdown",
   "metadata": {
    "id": "Dod77IjNzM2T"
   },
   "source": [
    "## Q7.\n",
    "Given a chromosome sequence, identify the number of genes present in it by locating the start and stop codons within the sequence. How can this be achieved, and what is the count of genes in the provided sequence?\n",
    "Hint:\n",
    "To determine the number of genes in a chromosome sequence, we need to locate the start and stop codons that define the boundaries of each gene. In the context of DNA sequences, the start codon is typically \"ATG\" and the stop codons are \"TAA\", \"TAG\", and \"TGA\". The process involves scanning the sequence for these codons in all three reading frames and counting the number of valid genes.\n",
    "\n",
    "### Here's a step-by-step approach:\n",
    "\n",
    "1. Identify Start Codons: Search for the \"ATG\" codon in the sequence.\n",
    "2. Identify Stop Codons: Search for the \"TAA\", \"TAG\", and \"TGA\" codons in the sequence.\n",
    "3. Reading Frames: Since DNA can be read in three frames, repeat the search in all three frames.\n",
    "4. Gene Validation: For each start codon, find the nearest downstream stop codon in the same frame. If found, count it as a valid gene.\n",
    "\n",
    "Example\n",
    "Consider the following chromosome sequence: \"ATGCGATAACTAGATGTGA\"\n",
    "\n",
    "* Frame 1:\n",
    "Start at position 0: \"ATG\"\n",
    "Stop at position 6: \"TAA\", position 15: \"TGA\"\n",
    "Gene: \"ATGCGATAA\" (from position 0 to 8)\n",
    "* Frame 2:\n",
    "No start codons at positions 1, 4, or 7.\n",
    "* Frame 3:\n",
    "Start at position 4: \"ATG\"\n",
    "Stop at position 10: \"TAG\", position 15: \"TGA\"\n",
    "Gene: \"ATGTGA\" (from position 4 to 15)\n",
    "* Total number of genes: 2\n"
   ]
  },
  {
   "cell_type": "code",
   "execution_count": null,
   "metadata": {
    "colab": {
     "base_uri": "https://localhost:8080/"
    },
    "executionInfo": {
     "elapsed": 451,
     "status": "ok",
     "timestamp": 1721625619915,
     "user": {
      "displayName": "Amisha Gupta",
      "userId": "12146826724418933877"
     },
     "user_tz": -330
    },
    "id": "V25FGu6SlB05",
    "outputId": "66f4e3cd-cc8b-4cdd-951b-22efb95f7e1d"
   },
   "outputs": [
    {
     "name": "stdout",
     "output_type": "stream",
     "text": [
      "Total number of genes: 2\n"
     ]
    }
   ],
   "source": [
    "#Write your code here\n",
    "def find_genes(sequence):\n",
    "    start_codon = \"ATG\"\n",
    "    stop_codons = [\"TAA\", \"TAG\", \"TGA\"]\n",
    "    total_genes = 0\n",
    "\n",
    "    for frame in range(3):\n",
    "        i = frame\n",
    "        while i < len(sequence) - 2:\n",
    "            # Check for start codon\n",
    "            if sequence[i:i+3] == start_codon:\n",
    "                start_index = i\n",
    "                # Search for the nearest stop codon in the same frame\n",
    "                j = i + 3\n",
    "                while j < len(sequence) - 2:\n",
    "                    codon = sequence[j:j+3]\n",
    "                    if codon in stop_codons:\n",
    "                        total_genes += 1\n",
    "                        i = j  # Move to the end of the gene\n",
    "                        break\n",
    "                    j += 3\n",
    "            i += 3\n",
    "\n",
    "    return total_genes\n",
    "\n",
    "# Given chromosome sequence\n",
    "sequence = \"ATGCGATAACTAGATGTGA\"\n",
    "\n",
    "# Find the number of genes in the sequence\n",
    "num_genes = find_genes(sequence)\n",
    "print(f\"Total number of genes: {num_genes}\")\n"
   ]
  },
  {
   "cell_type": "markdown",
   "metadata": {
    "id": "KNC-snU3yIJd"
   },
   "source": [
    "# Q8\n",
    "### Write a Python program that identifies all non-overlapping occurrences of a DNA motif in a given sequence. The motif consists of substrings composed of 'A' and/or 'T' with lengths between 3 and 6 characters.\n",
    "### The program should return each motif found along with its starting and ending indices in the sequence.\n",
    "#### Input DNA sequence = 'AATGAAGGGCCGCTACGATAAGGAACTTCGTAATTTCAG'"
   ]
  },
  {
   "cell_type": "code",
   "execution_count": null,
   "metadata": {
    "colab": {
     "base_uri": "https://localhost:8080/"
    },
    "executionInfo": {
     "elapsed": 582,
     "status": "ok",
     "timestamp": 1721625649664,
     "user": {
      "displayName": "Amisha Gupta",
      "userId": "12146826724418933877"
     },
     "user_tz": -330
    },
    "id": "zIzK-xLUyIJd",
    "outputId": "d0d98181-bfee-461e-878f-9ffe7faebdc3"
   },
   "outputs": [
    {
     "name": "stdout",
     "output_type": "stream",
     "text": [
      "DNA_sequence: AATGAAGGGCCGCTACGATAAGGAACTTCGTAATTTCAG\n",
      "Motif: (([AT]){3,6})\n",
      "List of matches with indices:\n",
      "Match: AAT, Start index: 0, End index: 2\n",
      "Match: ATAA, Start index: 17, End index: 20\n",
      "Match: TAATTT, Start index: 30, End index: 35\n"
     ]
    }
   ],
   "source": [
    "#write your code here\n",
    "import re\n",
    "import sys\n",
    "\n",
    "# Example DNA sequence\n",
    "DNA_sequence = 'AATGAAGGGCCGCTACGATAAGGAACTTCGTAATTTCAG'\n",
    "print('DNA_sequence:', DNA_sequence)\n",
    "\n",
    "# Regular expression pattern to find substrings of A and/or T of lengths between 3 and 6\n",
    "motif = r'(([AT]){3,6})'\n",
    "print('Motif:', motif)\n",
    "\n",
    "# Checking if motif is a valid regular expression\n",
    "try:\n",
    "    re.compile(motif)\n",
    "except re.error:\n",
    "    print('Invalid regular expression, exiting the program!')\n",
    "    sys.exit()\n",
    "\n",
    "# Find all matches of the motif in the DNA sequence with their indices\n",
    "matches_with_indices = [(match.group(0), match.start(), match.end()-1) for match in re.finditer(motif, DNA_sequence)]\n",
    "\n",
    "if matches_with_indices:\n",
    "    print('List of matches with indices:')\n",
    "    for match, start_idx, end_idx in matches_with_indices:\n",
    "        print(f'Match: {match}, Start index: {start_idx}, End index: {end_idx}')\n",
    "else:\n",
    "    print('Did not find any match.')"
   ]
  },
  {
   "cell_type": "markdown",
   "metadata": {
    "id": "YYEFJF52yIJd"
   },
   "source": [
    "# Q9\n",
    "### Open reading frames (ORFs) are regions of DNA that can be translated into proteins. An ORF starts with a start codon (such as ATG) and ends with one of the stop codons (such as TAA, TAG, or TGA). Write a Python function using the re library to identify all ORFs in a given DNA sequence. Your function should return the starting and ending indices (0-based) of each ORF.\n",
    "\n",
    "## Details:\n",
    "\n",
    "### The DNA sequence is a string consisting of characters 'A', 'C', 'G', and 'T'. The start codon is always ATG. The stop codons are TAA, TAG, and TGA.\n",
    "\n",
    "#### Input seq = 'ATGCGATCGACGCTAGCGATCGCGATCGATGGCGATCGCTAGCGATCGATCGCGATCGTAAAGGCTACGTGTCAGTAA'"
   ]
  },
  {
   "cell_type": "code",
   "execution_count": null,
   "metadata": {
    "colab": {
     "base_uri": "https://localhost:8080/"
    },
    "executionInfo": {
     "elapsed": 431,
     "status": "ok",
     "timestamp": 1721625682680,
     "user": {
      "displayName": "Amisha Gupta",
      "userId": "12146826724418933877"
     },
     "user_tz": -330
    },
    "id": "I_OPN92WyIJe",
    "outputId": "f0ee4108-98a4-4076-89e8-8b72442baede"
   },
   "outputs": [
    {
     "name": "stdout",
     "output_type": "stream",
     "text": [
      "0 16\n",
      "28 42\n"
     ]
    }
   ],
   "source": [
    "#write your code here\n",
    "import re\n",
    "\n",
    "seq = \"ATGCGATCGACGCTAGCGATCGCGATCGATGGCGATCGCTAGCGATCGATCGCGATCGTAAAGGCTACGTGTCAGTAA\"\n",
    "start_codon = \"ATG\"\n",
    "stop_codons = [\"TAA\", \"TAG\", \"TGA\"]\n",
    "\n",
    "# Create the pattern using non-greedy matching\n",
    "pattern = re.compile(f\"{start_codon}(.*?)(?:{'|'.join(stop_codons)})\")\n",
    "\n",
    "matches = pattern.finditer(seq)\n",
    "for match in matches:\n",
    "    print(match.start(), match.end())"
   ]
  },
  {
   "cell_type": "markdown",
   "metadata": {
    "id": "6JP1AViyyIJe"
   },
   "source": [
    "# Q10\n",
    "### In bioinformatics, the analysis of DNA sequences is fundamental to understanding genetic similarities and variations among different organisms or samples. One common task is to identify regions within DNA sequences that are conserved across different species or individuals. These conserved regions, known as motifs or subsequences, can provide insights into functional or evolutionary relationships. One method to find such regions is by identifying the Longest Common Subsequence (LCS) shared by multiple DNA sequences.\n",
    "\n",
    "### Problem:\n",
    "#### Given a list of DNA sequences, you are required to write a Python function to find the longest common subsequence (LCS) shared by all the sequences in the list. The LCS is the longest sequence of nucleotides that appears in the same relative order (but not necessarily contiguously) in all the given DNA sequences.\n",
    "\n",
    "### Example, Suppose you have the following DNA sequences:\n",
    "\n",
    "* \"ATGCTGAC\"\n",
    "* \"CTGACGT\"\n",
    "* \"TGAC\"\n",
    "* The LCS shared by all these sequences is \"TGAC\".\n",
    "* Task:\n",
    "### Q. Write a Python function lcs(sequences) that takes a list of DNA sequences as input and returns the longest common subsequence shared by all sequences in the list.\n",
    "* Input sequences - \"ATGCGTACCGTACGTAGCTAGCTGACTGACGTAGCGTACGCTAGCTG\"\n",
    "* \"CGTACGTAGCTAGCTGACTGACGTAGCGTACGCTAGCTGACGCTGAC\"\n",
    "* \"GCTAGCTGACTGACGTAGCGTACGCTAGCTGACGCTGACTGCGTAGC\"\n",
    "* \"TACGTAGCTAGCTGACTGACGTAGCGTACGCTAGCTGACGCTGACTG\"\n",
    "* \"GTACGTAGCTAGCTGACTGACGTAGCGTACGCTAGCTGACGCTGACT\""
   ]
  },
  {
   "cell_type": "code",
   "execution_count": null,
   "metadata": {
    "colab": {
     "base_uri": "https://localhost:8080/"
    },
    "executionInfo": {
     "elapsed": 428,
     "status": "ok",
     "timestamp": 1721625734000,
     "user": {
      "displayName": "Amisha Gupta",
      "userId": "12146826724418933877"
     },
     "user_tz": -330
    },
    "id": "CkhIymPByIJf",
    "outputId": "1776aa9a-ebea-42c0-afd6-55eaa4f8fd0a"
   },
   "outputs": [
    {
     "name": "stdout",
     "output_type": "stream",
     "text": [
      "The longest common subsequence is: 'CTAGCTGCTGACGACGTAGCGTACGCTAGCTG'\n"
     ]
    }
   ],
   "source": [
    "def lcs_two_sequences(seq1, seq2):\n",
    "    # Create a 2D array to store the lengths of longest common subsequence\n",
    "    m, n = len(seq1), len(seq2)\n",
    "    dp = [[0] * (n + 1) for _ in range(m + 1)]\n",
    "\n",
    "    # Fill the dp array\n",
    "    for i in range(1, m + 1):\n",
    "        for j in range(1, n + 1):\n",
    "            if seq1[i - 1] == seq2[j - 1]:\n",
    "                dp[i][j] = dp[i - 1][j - 1] + 1\n",
    "            else:\n",
    "                dp[i][j] = max(dp[i - 1][j], dp[i][j - 1])\n",
    "\n",
    "    # Reconstruct the LCS from the dp array\n",
    "    lcs = []\n",
    "    i, j = m, n\n",
    "    while i > 0 and j > 0:\n",
    "        if seq1[i - 1] == seq2[j - 1]:\n",
    "            lcs.append(seq1[i - 1])\n",
    "            i -= 1\n",
    "            j -= 1\n",
    "        elif dp[i - 1][j] > dp[i][j - 1]:\n",
    "            i -= 1\n",
    "        else:\n",
    "            j -= 1\n",
    "\n",
    "    return ''.join(reversed(lcs))\n",
    "\n",
    "def lcs_multiple_sequences(sequences):\n",
    "    if not sequences:\n",
    "        return \"\"\n",
    "\n",
    "    # Start with the first sequence as the initial LCS\n",
    "    current_lcs = sequences[0]\n",
    "\n",
    "    # Iteratively find the LCS of the current LCS and the next sequence\n",
    "    for seq in sequences[1:]:\n",
    "        current_lcs = lcs_two_sequences(current_lcs, seq)\n",
    "        if not current_lcs:\n",
    "            break\n",
    "\n",
    "    return current_lcs\n",
    "\n",
    "# Input sequences\n",
    "sequences = [\n",
    "    \"ATGCGTACCGTACGTAGCTAGCTGACTGACGTAGCGTACGCTAGCTG\",\n",
    "    \"CGTACGTAGCTAGCTGACTGACGTAGCGTACGCTAGCTGACGCTGAC\",\n",
    "    \"GCTAGCTGACTGACGTAGCGTACGCTAGCTGACGCTGACTGCGTAGC\",\n",
    "    \"TACGTAGCTAGCTGACTGACGTAGCGTACGCTAGCTGACGCTGACTG\",\n",
    "    \"GTACGTAGCTAGCTGACTGACGTAGCGTACGCTAGCTGACGCTGACT\"\n",
    "]\n",
    "\n",
    "# Find the LCS shared by all sequences\n",
    "result = lcs_multiple_sequences(sequences)\n",
    "print(f\"The longest common subsequence is: '{result}'\")\n"
   ]
  },
  {
   "cell_type": "markdown",
   "metadata": {
    "id": "WY4B5GO0yIJf"
   },
   "source": [
    "# Q11\n",
    "#### Identifying Significant Changes in Protein Abundance\n",
    "### In proteomics, researchers often measure protein abundance under different experimental conditions to understand how treatments, mutations, or environmental factors affect protein levels. To analyze these changes, one can compare the abundance of proteins between conditions and identify those with significant increases or decreases. For each protein, it's crucial to determine not just if its abundance has changed, but whether it has increased or decreased.\n",
    "### You are provided with a list of tuples, where each tuple represents the abundance levels of a protein in two different conditions. Each tuple contains the protein identifier and its abundance levels in Condition 1 and Condition 2. You need to write a Python function that analyzes these tuples to determine which proteins are significantly different based on a given fold change threshold. Additionally, specify whether each protein is \"increased\" or \"decreased\" in Condition 2 compared to Condition 1.\n",
    "Input:\n",
    "### A list of tuples where each tuple is of the form (protein_id, abundance1, abundance2), where:\n",
    "* protein_id is a unique identifier for the protein.\n",
    "* abundance1 is the abundance level of the protein in Condition 1.\n",
    "* abundance2 is the abundance level of the protein in Condition 2.\n",
    "# A fold change threshold.\n",
    "* Output:\n",
    "### A list of tuples where each tuple is of the form (protein_id, change_type), where:\n",
    "* protein_id is the unique identifier for the protein.\n",
    "* change_type is either 'increased' or 'decreased', depending on whether the protein's abundance in Condition * 2 is higher or lower compared to Condition 1, respectively.\n",
    "\n",
    "#### Example:\n",
    "\n",
    "### Given the following list of tuples and a fold change threshold of 1.5:\n",
    "\n",
    "protein_abundance = [\n",
    "    ('ProteinX', 5, 8),\n",
    "    ('ProteinY', 20, 10),\n",
    "    ('ProteinZ', 150, 300),\n",
    "    ('ProteinW', 30, 15),\n",
    "    ('ProteinV', 100, 100)\n",
    "]\n",
    "Task:\n",
    "### Write a Python function analyze_protein_changes(protein_abundance, threshold) that takes the list of tuples and a fold change threshold as input and returns the list of tuples indicating the protein identifier and its abundance change status ('increased', 'decreased', or 'no change')."
   ]
  },
  {
   "cell_type": "code",
   "execution_count": null,
   "metadata": {
    "colab": {
     "base_uri": "https://localhost:8080/"
    },
    "executionInfo": {
     "elapsed": 475,
     "status": "ok",
     "timestamp": 1721625786607,
     "user": {
      "displayName": "Amisha Gupta",
      "userId": "12146826724418933877"
     },
     "user_tz": -330
    },
    "id": "cX_MHA1EyIJf",
    "outputId": "59822516-21d8-4856-d13f-c60b695dac72"
   },
   "outputs": [
    {
     "name": "stdout",
     "output_type": "stream",
     "text": [
      "[('ProteinX', 'increased'), ('ProteinY', 'decreased'), ('ProteinZ', 'increased'), ('ProteinW', 'decreased'), ('ProteinV', 'no change')]\n"
     ]
    }
   ],
   "source": [
    "def analyze_protein_changes(protein_abundance, threshold):\n",
    "    result = []\n",
    "\n",
    "    for protein_id, abundance1, abundance2 in protein_abundance:\n",
    "        if abundance1 == 0 or abundance2 == 0:  # Handle zero abundance cases\n",
    "            continue\n",
    "\n",
    "        fold_change = abundance2 / abundance1\n",
    "\n",
    "        if fold_change >= threshold:\n",
    "            result.append((protein_id, 'increased'))\n",
    "        elif fold_change <= 1 / threshold:\n",
    "            result.append((protein_id, 'decreased'))\n",
    "        else:\n",
    "            result.append((protein_id, 'no change'))\n",
    "\n",
    "    return result\n",
    "\n",
    "# Example usage\n",
    "protein_abundance = [\n",
    "    ('ProteinX', 5, 8),\n",
    "    ('ProteinY', 20, 10),\n",
    "    ('ProteinZ', 150, 300),\n",
    "    ('ProteinW', 30, 15),\n",
    "    ('ProteinV', 100, 100)\n",
    "]\n",
    "\n",
    "threshold = 1.5\n",
    "\n",
    "# Analyze protein changes\n",
    "changes = analyze_protein_changes(protein_abundance, threshold)\n",
    "print(changes)\n"
   ]
  },
  {
   "cell_type": "markdown",
   "metadata": {
    "id": "cAMz8U37yIJf"
   },
   "source": [
    "# Q12\n",
    "### In genetics, the codon table is used to translate RNA sequences into proteins. Each codon, a sequence of three RNA nucleotides, corresponds to a specific amino acid or a stop signal during protein synthesis.\n",
    "\n",
    "### Write a Python function called translate_rna_to_protein that takes a string representing an RNA sequence as input and returns the corresponding protein sequence. Use a dictionary to map RNA codons to their corresponding amino acids. For simplicity, assume the RNA sequence is always divisible by 3 and contains only the characters 'A', 'U', 'C', and 'G'.\n",
    "\n",
    "``` #The codon table is given below:\n",
    "AUG: 'Methionine', UUU: 'Phenylalanine', UUC: 'Phenylalanine', UUA: 'Leucine', UUG: 'Leucine',\n",
    "CUU: 'Leucine', CUC: 'Leucine', CUA: 'Leucine', CUG: 'Leucine', AUU: 'Isoleucine', AUC: 'Isoleucine',\n",
    "AUA: 'Isoleucine', GUU: 'Valine', GUC: 'Valine', GUA: 'Valine', GUG: 'Valine', UCU: 'Serine',\n",
    "UCC: 'Serine', UCA: 'Serine', UCG: 'Serine', CCU: 'Proline', CCC: 'Proline', CCA: 'Proline',\n",
    "CCG: 'Proline', ACU: 'Threonine', ACC: 'Threonine', ACA: 'Threonine', ACG: 'Threonine', GCU: 'Alanine',\n",
    "GCC: 'Alanine', GCA: 'Alanine', GCG: 'Alanine', UAU: 'Tyrosine', UAC: 'Tyrosine', UAA: 'Stop',\n",
    "UAG: 'Stop', CAU: 'Histidine', CAC: 'Histidine', CAA: 'Glutamine', CAG: 'Glutamine', AAU: 'Asparagine',\n",
    "AAC: 'Asparagine', AAA: 'Lysine', AAG: 'Lysine', GAU: 'Aspartic Acid', GAC: 'Aspartic Acid',\n",
    "GAA: 'Glutamic Acid', GAG: 'Glutamic Acid', UGU: 'Cysteine', UGC: 'Cysteine', UGA: 'Stop',\n",
    "UGG: 'Tryptophan', CGU: 'Arginine', CGC: 'Arginine', CGA: 'Arginine', CGG: 'Arginine', AGU: 'Serine',\n",
    "AGC: 'Serine', AGA: 'Arginine', AGG: 'Arginine', GGU: 'Glycine', GGC: 'Glycine', GGA: 'Glycine',\n",
    "GGG: 'Glycine' ```\n"
   ]
  },
  {
   "cell_type": "code",
   "execution_count": null,
   "metadata": {
    "id": "8pvtclrsyIJg"
   },
   "outputs": [],
   "source": [
    "codon_table = {\n",
    "    'TCA': 'S',    # Serina\n",
    "    'TCC': 'S',    # Serina\n",
    "    'TCG': 'S',    # Serina\n",
    "    'TCT': 'S',    # Serina\n",
    "    'TTC': 'F',    # Fenilalanina\n",
    "    'TTT': 'F',    # Fenilalanina\n",
    "    'TTA': 'L',    # Leucina\n",
    "    'TTG': 'L',    # Leucina\n",
    "    'TAC': 'Y',    # Tirosina\n",
    "    'TAT': 'Y',    # Tirosina\n",
    "    'TAA': '*',    # Stop\n",
    "    'TAG': '*',    # Stop\n",
    "    'TGC': 'C',    # Cisteina\n",
    "    'TGT': 'C',    # Cisteina\n",
    "    'TGA': '*',    # Stop\n",
    "    'TGG': 'W',    # Triptofano\n",
    "    'CTA': 'L',    # Leucina\n",
    "    'CTC': 'L',    # Leucina\n",
    "    'CTG': 'L',    # Leucina\n",
    "    'CTT': 'L',    # Leucina\n",
    "    'CCA': 'P',    # Prolina\n",
    "    'CCC': 'P',    # Prolina\n",
    "    'CCG': 'P',    # Prolina\n",
    "    'CCT': 'P',    # Prolina\n",
    "    'CAC': 'H',    # Histidina\n",
    "    'CAT': 'H',    # Histidina\n",
    "    'CAA': 'Q',    # Glutamina\n",
    "    'CAG': 'Q',    # Glutamina\n",
    "    'CGA': 'R',    # Arginina\n",
    "    'CGC': 'R',    # Arginina\n",
    "    'CGG': 'R',    # Arginina\n",
    "    'CGT': 'R',    # Arginina\n",
    "    'ATA': 'I',    # Isoleucina\n",
    "    'ATC': 'I',    # Isoleucina\n",
    "    'ATT': 'I',    # Isoleucina\n",
    "    'ATG': 'M',    # Methionina\n",
    "    'ACA': 'T',    # Treonina\n",
    "    'ACC': 'T',    # Treonina\n",
    "    'ACG': 'T',    # Treonina\n",
    "    'ACT': 'T',    # Treonina\n",
    "    'AAC': 'N',    # Asparagina\n",
    "    'AAT': 'N',    # Asparagina\n",
    "    'AAA': 'K',    # Lisina\n",
    "    'AAG': 'K',    # Lisina\n",
    "    'AGC': 'S',    # Serina\n",
    "    'AGT': 'S',    # Serina\n",
    "    'AGA': 'R',    # Arginina\n",
    "    'AGG': 'R',    # Arginina\n",
    "    'GTA': 'V',    # Valina\n",
    "    'GTC': 'V',    # Valina\n",
    "    'GTG': 'V',    # Valina\n",
    "    'GTT': 'V',    # Valina\n",
    "    'GCA': 'A',    # Alanina\n",
    "    'GCC': 'A',    # Alanina\n",
    "    'GCG': 'A',    # Alanina\n",
    "    'GCT': 'A',    # Alanina\n",
    "    'GAC': 'D',    # Acido Aspartico\n",
    "    'GAT': 'D',    # Acido Aspartico\n",
    "    'GAA': 'E',    # Acido Glutamico\n",
    "    'GAG': 'E',    # Acido Glutamico\n",
    "    'GGA': 'G',    # Glicina\n",
    "    'GGC': 'G',    # Glicina\n",
    "    'GGG': 'G',    # Glicina\n",
    "    'GGT': 'G'     # Glicina\n",
    "}"
   ]
  },
  {
   "cell_type": "code",
   "execution_count": null,
   "metadata": {
    "colab": {
     "base_uri": "https://localhost:8080/"
    },
    "executionInfo": {
     "elapsed": 477,
     "status": "ok",
     "timestamp": 1721625870429,
     "user": {
      "displayName": "Amisha Gupta",
      "userId": "12146826724418933877"
     },
     "user_tz": -330
    },
    "id": "qUD3vrCI5dWn",
    "outputId": "52aa506a-130f-4509-9c13-85e446cb04e7"
   },
   "outputs": [
    {
     "name": "stdout",
     "output_type": "stream",
     "text": [
      "The protein sequence is: Methionine-Phenylalanine-Serine-Methionine-Arginine-Threonine-Serine\n"
     ]
    }
   ],
   "source": [
    "def translate_rna_to_protein(rna_sequence):\n",
    "\n",
    "    # Initialize the protein sequence\n",
    "    protein_sequence = []\n",
    "\n",
    "    # Translate RNA sequence to protein sequence\n",
    "    for i in range(0, len(rna_sequence), 3):\n",
    "        codon = rna_sequence[i:i+3]\n",
    "        amino_acid = codon_table.get(codon, 'Stop')\n",
    "        if amino_acid == 'Stop':\n",
    "            break\n",
    "        protein_sequence.append(amino_acid)\n",
    "\n",
    "    return '-'.join(protein_sequence)\n",
    "\n",
    "# Example usage\n",
    "rna_sequence = \"AUGUUUUCUAUGCGUACUAGCUG\"\n",
    "protein = translate_rna_to_protein(rna_sequence)\n",
    "print(f\"The protein sequence is: {protein}\")def translate_rna_to_protein(rna_sequence):\n",
    "    # Initialize the protein sequence\n",
    "    protein_sequence = []\n",
    "\n",
    "    # Translate RNA sequence to protein sequence\n",
    "    for i in range(0, len(rna_sequence), 3):\n",
    "        codon = rna_sequence[i:i+3]\n",
    "        amino_acid = codon_table.get(codon, 'Stop')\n",
    "        if amino_acid == 'Stop':\n",
    "            break\n",
    "        protein_sequence.append(amino_acid)\n",
    "\n",
    "    return '-'.join(protein_sequence)\n",
    "\n",
    "# Example usage\n",
    "rna_sequence = \"AUGUUUUCUAUGCGUACUAGCUG\"\n",
    "protein = translate_rna_to_protein(rna_sequence)\n",
    "print(f\"The protein sequence is: {protein}\")"
   ]
  },
  {
   "cell_type": "markdown",
   "metadata": {
    "id": "IZndxAXyyIJg"
   },
   "source": [
    "# Q13\n",
    "### In genetics, mutations refer to changes in the DNA sequence. Given a reference DNA sequence and a mutated DNA sequence, write a Python function called find_mutations that identifies the positions where mutations have occurred. The function should take two strings as input: the reference DNA sequence and the mutated DNA sequence (both of the same length), and return a dictionary where the keys are the positions (0-based index) of the mutations and the values are tuples containing the reference nucleotide and the mutated nucleotide.\n",
    "\n",
    "## Input sequence:\n",
    "#### reference_sequence = \"ATCGGCTAATCGGCTAGCTAGCTAGCTGATCGGCTAATCGGCTAGCTAGCTAGCTGATCGGCTAATCGGCTAGCTAGCTAGCTGATCGGCTAATCGGCTAGCTAGCTAGCTG\"\n",
    "\n",
    "#### mutated_sequence = \"ATCGGCTGATCGGCTTGCTAGCTGGCTGATCGGCTAATCGGCTAGCTAGCTGGCTGATCGGCTAATCGGCTAGCTTGCTAGCTGATCGGCTAATCGGCTAGCTAGCTAGCAG\""
   ]
  },
  {
   "cell_type": "code",
   "execution_count": null,
   "metadata": {
    "colab": {
     "base_uri": "https://localhost:8080/"
    },
    "executionInfo": {
     "elapsed": 475,
     "status": "ok",
     "timestamp": 1721625931131,
     "user": {
      "displayName": "Amisha Gupta",
      "userId": "12146826724418933877"
     },
     "user_tz": -330
    },
    "id": "bhO97GJl5oq2",
    "outputId": "de66a17b-a29f-44cf-94a3-c68d3f955285"
   },
   "outputs": [
    {
     "name": "stdout",
     "output_type": "stream",
     "text": [
      "{7: ('A', 'G'), 15: ('A', 'T'), 23: ('A', 'G'), 51: ('A', 'G'), 75: ('A', 'T'), 110: ('T', 'A')}\n"
     ]
    }
   ],
   "source": [
    "def find_mutations(reference_sequence, mutated_sequence):\n",
    "    # Ensure the sequences are of the same length\n",
    "    if len(reference_sequence) != len(mutated_sequence):\n",
    "        raise ValueError(\"Sequences must be of the same length\")\n",
    "\n",
    "    # Dictionary to store the positions and the corresponding nucleotides\n",
    "    mutations = {}\n",
    "\n",
    "    # Iterate over the sequences and compare each position\n",
    "    for i in range(len(reference_sequence)):\n",
    "        if reference_sequence[i] != mutated_sequence[i]:\n",
    "            mutations[i] = (reference_sequence[i], mutated_sequence[i])\n",
    "\n",
    "    return mutations\n",
    "\n",
    "# Input sequences\n",
    "reference_sequence = \"ATCGGCTAATCGGCTAGCTAGCTAGCTGATCGGCTAATCGGCTAGCTAGCTAGCTGATCGGCTAATCGGCTAGCTAGCTAGCTGATCGGCTAATCGGCTAGCTAGCTAGCTG\"\n",
    "mutated_sequence = \"ATCGGCTGATCGGCTTGCTAGCTGGCTGATCGGCTAATCGGCTAGCTAGCTGGCTGATCGGCTAATCGGCTAGCTTGCTAGCTGATCGGCTAATCGGCTAGCTAGCTAGCAG\"\n",
    "\n",
    "# Find mutations\n",
    "mutations = find_mutations(reference_sequence, mutated_sequence)\n",
    "print(mutations)\n"
   ]
  }
 ],
 "metadata": {
  "colab": {
   "provenance": []
  },
  "kernelspec": {
   "display_name": "Python 3",
   "name": "python3"
  },
  "language_info": {
   "name": "python"
  }
 },
 "nbformat": 4,
 "nbformat_minor": 0
}
